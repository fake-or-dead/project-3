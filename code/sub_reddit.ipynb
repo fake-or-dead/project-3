{
 "cells": [
  {
   "cell_type": "markdown",
   "metadata": {},
   "source": [
    "Some guidelines for Project3:\n",
    "\n",
    "\n",
    "Get familiar with Vectorizer and all its hyperparameter. Check out the respective documentation: Count and Tf-IDF Vectorizer\n",
    "Choose subreddits with sufficient posts - preferably active posts\n",
    "Make sure posts are wordy - don't choose subreddits where posts are filled with media posts such images or youtube videos, then you may not have sufficient text data for classification.\n",
    "\n",
    "\n",
    "Do check for duplicate posts as Reddit 'jams' your webscraping by giving you duplicate posts once you have scraped all the available posts or more than approximately 1000 posts.\n",
    "In the preprocessing step, remove your subreddit topic, example: Marvel, DC, Samsung etc from the selftext and title columns to avoid target leakage. \n",
    "\n",
    "ref: https://h2o.ai/wiki/target-leakage/\n",
    "You can vary your urls to get more posts by replacing 'top' and 'all' with other options in the lists : ['hot', 'controversial', 'new', 'top'], ['week','month', 'year', 'all']. \n",
    "\n",
    "Eg: https://www.reddit.com/r/boardgames/top.json?t=all&limit=25"
   ]
  },
  {
   "cell_type": "markdown",
   "metadata": {},
   "source": [
    "The Goal of this project is to find distinct IronMan from Batman\n",
    "which their both have similarity in many aspect Richman save people\n",
    "- their both have hi-tech car, rich, and be a man\n",
    "- their both distinct in wearable just iron man wear iron suit, batman wear pvc suit\n",
    "- its hard for us to distinct these 2 with subreddit post \n",
    "- so out business is serious about split batman from ironman\n",
    "\n",
    "via subreddit post only text too since image didn't included in this project concern\n",
    "\n"
   ]
  },
  {
   "cell_type": "code",
   "execution_count": 59,
   "metadata": {},
   "outputs": [],
   "source": [
    "# import libraries\n",
    "import pandas as pd\n",
    "import numpy as np\n",
    "import matplotlib.pyplot as plt\n",
    "import seaborn as sns\n",
    "\n",
    "# import models need in this project\n",
    "from sklearn.model_selection import train_test_split, GridSearchCV\n",
    "from sklearn.pipeline import Pipeline\n",
    "from sklearn.naive_bayes import MultinomialNB, BernoulliNB, GaussianNB, ComplementNB\n",
    "from sklearn.ensemble import RandomForestClassifier\n",
    "\n",
    "# import tokenizer and relate tools\n",
    "from nltk.tokenize import word_tokenize\n",
    "from sklearn.feature_extraction.text import CountVectorizer, TfidfVectorizer\n",
    "from nltk.stem import PorterStemmer, WordNetLemmatizer\n",
    "from nltk.corpus import stopwords\n",
    "from nltk import pos_tag\n"
   ]
  },
  {
   "cell_type": "markdown",
   "metadata": {},
   "source": [
    "### **Data Collection**\n",
    "\n",
    "I create `sub_reddit_post_gathering` to gather post from any subredditwith 3 parameters that can configure\n",
    "- `subreddit_name`\n",
    "- `data_amount`\n",
    "- `output_csv`\n",
    "so you can collecting data in any sub reddit and any amout you want\n",
    "\n",
    "but in this case I collected from `ironman`, `batman` for approximately `1_000` posts each \n",
    "\n",
    "and save file to `data/` folder"
   ]
  },
  {
   "cell_type": "code",
   "execution_count": 60,
   "metadata": {},
   "outputs": [
    {
     "name": "stdout",
     "output_type": "stream",
     "text": [
      "(1012, 116)\n"
     ]
    },
    {
     "data": {
      "text/html": [
       "<div>\n",
       "<style scoped>\n",
       "    .dataframe tbody tr th:only-of-type {\n",
       "        vertical-align: middle;\n",
       "    }\n",
       "\n",
       "    .dataframe tbody tr th {\n",
       "        vertical-align: top;\n",
       "    }\n",
       "\n",
       "    .dataframe thead th {\n",
       "        text-align: right;\n",
       "    }\n",
       "</style>\n",
       "<table border=\"1\" class=\"dataframe\">\n",
       "  <thead>\n",
       "    <tr style=\"text-align: right;\">\n",
       "      <th></th>\n",
       "      <th>approved_at_utc</th>\n",
       "      <th>subreddit</th>\n",
       "      <th>selftext</th>\n",
       "      <th>author_fullname</th>\n",
       "      <th>saved</th>\n",
       "      <th>mod_reason_title</th>\n",
       "      <th>gilded</th>\n",
       "      <th>clicked</th>\n",
       "      <th>title</th>\n",
       "      <th>link_flair_richtext</th>\n",
       "      <th>...</th>\n",
       "      <th>post_hint</th>\n",
       "      <th>url_overridden_by_dest</th>\n",
       "      <th>preview</th>\n",
       "      <th>link_flair_template_id</th>\n",
       "      <th>is_gallery</th>\n",
       "      <th>media_metadata</th>\n",
       "      <th>gallery_data</th>\n",
       "      <th>crosspost_parent_list</th>\n",
       "      <th>crosspost_parent</th>\n",
       "      <th>author_cakeday</th>\n",
       "    </tr>\n",
       "  </thead>\n",
       "  <tbody>\n",
       "    <tr>\n",
       "      <th>0</th>\n",
       "      <td>NaN</td>\n",
       "      <td>batman</td>\n",
       "      <td>**Welcome to the r/Batman Monthly Discussion T...</td>\n",
       "      <td>t2_6l4z3</td>\n",
       "      <td>False</td>\n",
       "      <td>NaN</td>\n",
       "      <td>0</td>\n",
       "      <td>False</td>\n",
       "      <td>Monthly r/Batman Discussion Thread - Posted on...</td>\n",
       "      <td>[]</td>\n",
       "      <td>...</td>\n",
       "      <td>NaN</td>\n",
       "      <td>NaN</td>\n",
       "      <td>NaN</td>\n",
       "      <td>NaN</td>\n",
       "      <td>NaN</td>\n",
       "      <td>NaN</td>\n",
       "      <td>NaN</td>\n",
       "      <td>NaN</td>\n",
       "      <td>NaN</td>\n",
       "      <td>NaN</td>\n",
       "    </tr>\n",
       "    <tr>\n",
       "      <th>1</th>\n",
       "      <td>NaN</td>\n",
       "      <td>batman</td>\n",
       "      <td>NaN</td>\n",
       "      <td>t2_v80xrv1k</td>\n",
       "      <td>False</td>\n",
       "      <td>NaN</td>\n",
       "      <td>0</td>\n",
       "      <td>False</td>\n",
       "      <td>Don’t turn him into a mcu character but he’s m...</td>\n",
       "      <td>[{'e': 'text', 't': 'FUNNY'}]</td>\n",
       "      <td>...</td>\n",
       "      <td>image</td>\n",
       "      <td>https://i.redd.it/7a2phkaj57zb1.jpg</td>\n",
       "      <td>{'images': [{'source': {'url': 'https://previe...</td>\n",
       "      <td>d811bcc6-f576-11ed-970f-5217f775e7dd</td>\n",
       "      <td>NaN</td>\n",
       "      <td>NaN</td>\n",
       "      <td>NaN</td>\n",
       "      <td>NaN</td>\n",
       "      <td>NaN</td>\n",
       "      <td>NaN</td>\n",
       "    </tr>\n",
       "    <tr>\n",
       "      <th>2</th>\n",
       "      <td>NaN</td>\n",
       "      <td>batman</td>\n",
       "      <td>NaN</td>\n",
       "      <td>t2_hlci6d4q</td>\n",
       "      <td>False</td>\n",
       "      <td>NaN</td>\n",
       "      <td>0</td>\n",
       "      <td>False</td>\n",
       "      <td>Wtf did I just read</td>\n",
       "      <td>[{'e': 'text', 't': 'GENERAL DISCUSSION'}]</td>\n",
       "      <td>...</td>\n",
       "      <td>NaN</td>\n",
       "      <td>https://www.reddit.com/gallery/17r0ifp</td>\n",
       "      <td>NaN</td>\n",
       "      <td>9920b510-f578-11ed-a075-fad5cce75268</td>\n",
       "      <td>True</td>\n",
       "      <td>{'jnx31dxgx7zb1': {'status': 'valid', 'e': 'Im...</td>\n",
       "      <td>{'items': [{'media_id': 'vd2znrwgx7zb1', 'id':...</td>\n",
       "      <td>NaN</td>\n",
       "      <td>NaN</td>\n",
       "      <td>NaN</td>\n",
       "    </tr>\n",
       "    <tr>\n",
       "      <th>3</th>\n",
       "      <td>NaN</td>\n",
       "      <td>batman</td>\n",
       "      <td>Hi guys! Im new to the community,my name is Da...</td>\n",
       "      <td>t2_7k8r0ioo</td>\n",
       "      <td>False</td>\n",
       "      <td>NaN</td>\n",
       "      <td>0</td>\n",
       "      <td>False</td>\n",
       "      <td>“STAY” A Jim Gordon Short Story</td>\n",
       "      <td>[{'e': 'text', 't': 'ARTWORK'}]</td>\n",
       "      <td>...</td>\n",
       "      <td>NaN</td>\n",
       "      <td>https://www.reddit.com/gallery/17qt2ht</td>\n",
       "      <td>NaN</td>\n",
       "      <td>5eb096ba-e07f-11ed-a1af-7a495b5b3295</td>\n",
       "      <td>True</td>\n",
       "      <td>{'vck7couya6zb1': {'status': 'valid', 'e': 'Im...</td>\n",
       "      <td>{'items': [{'media_id': 'e4thmouya6zb1', 'id':...</td>\n",
       "      <td>NaN</td>\n",
       "      <td>NaN</td>\n",
       "      <td>NaN</td>\n",
       "    </tr>\n",
       "    <tr>\n",
       "      <th>4</th>\n",
       "      <td>NaN</td>\n",
       "      <td>batman</td>\n",
       "      <td>NaN</td>\n",
       "      <td>t2_af6tp1tv</td>\n",
       "      <td>False</td>\n",
       "      <td>NaN</td>\n",
       "      <td>0</td>\n",
       "      <td>False</td>\n",
       "      <td>What is the Arkham Knight version</td>\n",
       "      <td>[{'e': 'text', 't': 'GENERAL DISCUSSION'}]</td>\n",
       "      <td>...</td>\n",
       "      <td>image</td>\n",
       "      <td>https://i.redd.it/253wathr95zb1.jpg</td>\n",
       "      <td>{'images': [{'source': {'url': 'https://previe...</td>\n",
       "      <td>9920b510-f578-11ed-a075-fad5cce75268</td>\n",
       "      <td>NaN</td>\n",
       "      <td>NaN</td>\n",
       "      <td>NaN</td>\n",
       "      <td>NaN</td>\n",
       "      <td>NaN</td>\n",
       "      <td>NaN</td>\n",
       "    </tr>\n",
       "  </tbody>\n",
       "</table>\n",
       "<p>5 rows × 116 columns</p>\n",
       "</div>"
      ],
      "text/plain": [
       "   approved_at_utc subreddit  \\\n",
       "0              NaN    batman   \n",
       "1              NaN    batman   \n",
       "2              NaN    batman   \n",
       "3              NaN    batman   \n",
       "4              NaN    batman   \n",
       "\n",
       "                                            selftext author_fullname  saved  \\\n",
       "0  **Welcome to the r/Batman Monthly Discussion T...        t2_6l4z3  False   \n",
       "1                                                NaN     t2_v80xrv1k  False   \n",
       "2                                                NaN     t2_hlci6d4q  False   \n",
       "3  Hi guys! Im new to the community,my name is Da...     t2_7k8r0ioo  False   \n",
       "4                                                NaN     t2_af6tp1tv  False   \n",
       "\n",
       "   mod_reason_title  gilded  clicked  \\\n",
       "0               NaN       0    False   \n",
       "1               NaN       0    False   \n",
       "2               NaN       0    False   \n",
       "3               NaN       0    False   \n",
       "4               NaN       0    False   \n",
       "\n",
       "                                               title  \\\n",
       "0  Monthly r/Batman Discussion Thread - Posted on...   \n",
       "1  Don’t turn him into a mcu character but he’s m...   \n",
       "2                                Wtf did I just read   \n",
       "3                    “STAY” A Jim Gordon Short Story   \n",
       "4                  What is the Arkham Knight version   \n",
       "\n",
       "                          link_flair_richtext  ... post_hint  \\\n",
       "0                                          []  ...       NaN   \n",
       "1               [{'e': 'text', 't': 'FUNNY'}]  ...     image   \n",
       "2  [{'e': 'text', 't': 'GENERAL DISCUSSION'}]  ...       NaN   \n",
       "3             [{'e': 'text', 't': 'ARTWORK'}]  ...       NaN   \n",
       "4  [{'e': 'text', 't': 'GENERAL DISCUSSION'}]  ...     image   \n",
       "\n",
       "                   url_overridden_by_dest  \\\n",
       "0                                     NaN   \n",
       "1     https://i.redd.it/7a2phkaj57zb1.jpg   \n",
       "2  https://www.reddit.com/gallery/17r0ifp   \n",
       "3  https://www.reddit.com/gallery/17qt2ht   \n",
       "4     https://i.redd.it/253wathr95zb1.jpg   \n",
       "\n",
       "                                             preview  \\\n",
       "0                                                NaN   \n",
       "1  {'images': [{'source': {'url': 'https://previe...   \n",
       "2                                                NaN   \n",
       "3                                                NaN   \n",
       "4  {'images': [{'source': {'url': 'https://previe...   \n",
       "\n",
       "                 link_flair_template_id  is_gallery  \\\n",
       "0                                   NaN         NaN   \n",
       "1  d811bcc6-f576-11ed-970f-5217f775e7dd         NaN   \n",
       "2  9920b510-f578-11ed-a075-fad5cce75268        True   \n",
       "3  5eb096ba-e07f-11ed-a1af-7a495b5b3295        True   \n",
       "4  9920b510-f578-11ed-a075-fad5cce75268         NaN   \n",
       "\n",
       "                                      media_metadata  \\\n",
       "0                                                NaN   \n",
       "1                                                NaN   \n",
       "2  {'jnx31dxgx7zb1': {'status': 'valid', 'e': 'Im...   \n",
       "3  {'vck7couya6zb1': {'status': 'valid', 'e': 'Im...   \n",
       "4                                                NaN   \n",
       "\n",
       "                                        gallery_data  crosspost_parent_list  \\\n",
       "0                                                NaN                    NaN   \n",
       "1                                                NaN                    NaN   \n",
       "2  {'items': [{'media_id': 'vd2znrwgx7zb1', 'id':...                    NaN   \n",
       "3  {'items': [{'media_id': 'e4thmouya6zb1', 'id':...                    NaN   \n",
       "4                                                NaN                    NaN   \n",
       "\n",
       "  crosspost_parent  author_cakeday  \n",
       "0              NaN             NaN  \n",
       "1              NaN             NaN  \n",
       "2              NaN             NaN  \n",
       "3              NaN             NaN  \n",
       "4              NaN             NaN  \n",
       "\n",
       "[5 rows x 116 columns]"
      ]
     },
     "execution_count": 60,
     "metadata": {},
     "output_type": "execute_result"
    }
   ],
   "source": [
    "batman = pd.read_csv('../data/batman.csv')\n",
    "print(batman.shape)\n",
    "batman.head()"
   ]
  },
  {
   "cell_type": "code",
   "execution_count": 61,
   "metadata": {},
   "outputs": [
    {
     "name": "stdout",
     "output_type": "stream",
     "text": [
      "<class 'pandas.core.frame.DataFrame'>\n",
      "RangeIndex: 1012 entries, 0 to 1011\n",
      "Columns: 116 entries, approved_at_utc to author_cakeday\n",
      "dtypes: bool(28), float64(26), int64(10), object(52)\n",
      "memory usage: 723.6+ KB\n",
      "None\n"
     ]
    }
   ],
   "source": [
    "print(batman.info())"
   ]
  },
  {
   "cell_type": "code",
   "execution_count": 62,
   "metadata": {},
   "outputs": [
    {
     "name": "stdout",
     "output_type": "stream",
     "text": [
      "(1019, 115)\n"
     ]
    },
    {
     "data": {
      "text/html": [
       "<div>\n",
       "<style scoped>\n",
       "    .dataframe tbody tr th:only-of-type {\n",
       "        vertical-align: middle;\n",
       "    }\n",
       "\n",
       "    .dataframe tbody tr th {\n",
       "        vertical-align: top;\n",
       "    }\n",
       "\n",
       "    .dataframe thead th {\n",
       "        text-align: right;\n",
       "    }\n",
       "</style>\n",
       "<table border=\"1\" class=\"dataframe\">\n",
       "  <thead>\n",
       "    <tr style=\"text-align: right;\">\n",
       "      <th></th>\n",
       "      <th>approved_at_utc</th>\n",
       "      <th>subreddit</th>\n",
       "      <th>selftext</th>\n",
       "      <th>author_fullname</th>\n",
       "      <th>saved</th>\n",
       "      <th>mod_reason_title</th>\n",
       "      <th>gilded</th>\n",
       "      <th>clicked</th>\n",
       "      <th>title</th>\n",
       "      <th>link_flair_richtext</th>\n",
       "      <th>...</th>\n",
       "      <th>subreddit_subscribers</th>\n",
       "      <th>created_utc</th>\n",
       "      <th>num_crossposts</th>\n",
       "      <th>media</th>\n",
       "      <th>is_video</th>\n",
       "      <th>collections</th>\n",
       "      <th>is_gallery</th>\n",
       "      <th>media_metadata</th>\n",
       "      <th>gallery_data</th>\n",
       "      <th>author_cakeday</th>\n",
       "    </tr>\n",
       "  </thead>\n",
       "  <tbody>\n",
       "    <tr>\n",
       "      <th>0</th>\n",
       "      <td>NaN</td>\n",
       "      <td>ironman</td>\n",
       "      <td>NaN</td>\n",
       "      <td>t2_d849tg4m</td>\n",
       "      <td>False</td>\n",
       "      <td>NaN</td>\n",
       "      <td>0</td>\n",
       "      <td>False</td>\n",
       "      <td>GoFundMe for Iron Man writer Len Kaminski is live</td>\n",
       "      <td>[{'e': 'text', 't': 'Miscellaneous'}]</td>\n",
       "      <td>...</td>\n",
       "      <td>21018</td>\n",
       "      <td>1.684463e+09</td>\n",
       "      <td>0</td>\n",
       "      <td>NaN</td>\n",
       "      <td>False</td>\n",
       "      <td>NaN</td>\n",
       "      <td>NaN</td>\n",
       "      <td>NaN</td>\n",
       "      <td>NaN</td>\n",
       "      <td>NaN</td>\n",
       "    </tr>\n",
       "    <tr>\n",
       "      <th>1</th>\n",
       "      <td>NaN</td>\n",
       "      <td>ironman</td>\n",
       "      <td>Following last month's monumental *Invincible ...</td>\n",
       "      <td>t2_d849tg4m</td>\n",
       "      <td>False</td>\n",
       "      <td>NaN</td>\n",
       "      <td>0</td>\n",
       "      <td>False</td>\n",
       "      <td>Iron Man Comics for October 18th, 2023 - Discu...</td>\n",
       "      <td>[{'e': 'text', 't': 'Comics'}]</td>\n",
       "      <td>...</td>\n",
       "      <td>21018</td>\n",
       "      <td>1.697605e+09</td>\n",
       "      <td>0</td>\n",
       "      <td>NaN</td>\n",
       "      <td>False</td>\n",
       "      <td>[{'permalink': 'https://www.reddit.com/r/ironm...</td>\n",
       "      <td>NaN</td>\n",
       "      <td>NaN</td>\n",
       "      <td>NaN</td>\n",
       "      <td>NaN</td>\n",
       "    </tr>\n",
       "    <tr>\n",
       "      <th>2</th>\n",
       "      <td>NaN</td>\n",
       "      <td>ironman</td>\n",
       "      <td>NaN</td>\n",
       "      <td>t2_jdn1k4668</td>\n",
       "      <td>False</td>\n",
       "      <td>NaN</td>\n",
       "      <td>0</td>\n",
       "      <td>False</td>\n",
       "      <td>One of the best \"I have to break my no-kill ru...</td>\n",
       "      <td>[{'e': 'text', 't': 'Comics'}]</td>\n",
       "      <td>...</td>\n",
       "      <td>21018</td>\n",
       "      <td>1.699489e+09</td>\n",
       "      <td>0</td>\n",
       "      <td>NaN</td>\n",
       "      <td>False</td>\n",
       "      <td>NaN</td>\n",
       "      <td>True</td>\n",
       "      <td>{'fh7tg3f3u7zb1': {'status': 'valid', 'e': 'Im...</td>\n",
       "      <td>{'items': [{'media_id': 'hbfqrq11u7zb1', 'id':...</td>\n",
       "      <td>NaN</td>\n",
       "    </tr>\n",
       "    <tr>\n",
       "      <th>3</th>\n",
       "      <td>NaN</td>\n",
       "      <td>ironman</td>\n",
       "      <td>NaN</td>\n",
       "      <td>t2_ekpe5dp8</td>\n",
       "      <td>False</td>\n",
       "      <td>NaN</td>\n",
       "      <td>0</td>\n",
       "      <td>False</td>\n",
       "      <td>TIL there was an anime version of Zeke Stane -...</td>\n",
       "      <td>[{'e': 'text', 't': 'TV'}]</td>\n",
       "      <td>...</td>\n",
       "      <td>21018</td>\n",
       "      <td>1.699497e+09</td>\n",
       "      <td>0</td>\n",
       "      <td>NaN</td>\n",
       "      <td>False</td>\n",
       "      <td>NaN</td>\n",
       "      <td>True</td>\n",
       "      <td>{'d8gtfrk7g8zb1': {'status': 'valid', 'e': 'Im...</td>\n",
       "      <td>{'items': [{'media_id': 'd8gtfrk7g8zb1', 'id':...</td>\n",
       "      <td>NaN</td>\n",
       "    </tr>\n",
       "    <tr>\n",
       "      <th>4</th>\n",
       "      <td>NaN</td>\n",
       "      <td>ironman</td>\n",
       "      <td>https://youtu.be/9FEDbhepU9I?si=0nO-8Ku5lth35s...</td>\n",
       "      <td>t2_aslejun9m</td>\n",
       "      <td>False</td>\n",
       "      <td>NaN</td>\n",
       "      <td>0</td>\n",
       "      <td>False</td>\n",
       "      <td>Thanos #1 (feat Ironman)</td>\n",
       "      <td>[{'e': 'text', 't': 'Comics'}]</td>\n",
       "      <td>...</td>\n",
       "      <td>21018</td>\n",
       "      <td>1.699483e+09</td>\n",
       "      <td>0</td>\n",
       "      <td>NaN</td>\n",
       "      <td>False</td>\n",
       "      <td>NaN</td>\n",
       "      <td>NaN</td>\n",
       "      <td>NaN</td>\n",
       "      <td>NaN</td>\n",
       "      <td>NaN</td>\n",
       "    </tr>\n",
       "  </tbody>\n",
       "</table>\n",
       "<p>5 rows × 115 columns</p>\n",
       "</div>"
      ],
      "text/plain": [
       "   approved_at_utc subreddit  \\\n",
       "0              NaN   ironman   \n",
       "1              NaN   ironman   \n",
       "2              NaN   ironman   \n",
       "3              NaN   ironman   \n",
       "4              NaN   ironman   \n",
       "\n",
       "                                            selftext author_fullname  saved  \\\n",
       "0                                                NaN     t2_d849tg4m  False   \n",
       "1  Following last month's monumental *Invincible ...     t2_d849tg4m  False   \n",
       "2                                                NaN    t2_jdn1k4668  False   \n",
       "3                                                NaN     t2_ekpe5dp8  False   \n",
       "4  https://youtu.be/9FEDbhepU9I?si=0nO-8Ku5lth35s...    t2_aslejun9m  False   \n",
       "\n",
       "   mod_reason_title  gilded  clicked  \\\n",
       "0               NaN       0    False   \n",
       "1               NaN       0    False   \n",
       "2               NaN       0    False   \n",
       "3               NaN       0    False   \n",
       "4               NaN       0    False   \n",
       "\n",
       "                                               title  \\\n",
       "0  GoFundMe for Iron Man writer Len Kaminski is live   \n",
       "1  Iron Man Comics for October 18th, 2023 - Discu...   \n",
       "2  One of the best \"I have to break my no-kill ru...   \n",
       "3  TIL there was an anime version of Zeke Stane -...   \n",
       "4                           Thanos #1 (feat Ironman)   \n",
       "\n",
       "                     link_flair_richtext  ... subreddit_subscribers  \\\n",
       "0  [{'e': 'text', 't': 'Miscellaneous'}]  ...                 21018   \n",
       "1         [{'e': 'text', 't': 'Comics'}]  ...                 21018   \n",
       "2         [{'e': 'text', 't': 'Comics'}]  ...                 21018   \n",
       "3             [{'e': 'text', 't': 'TV'}]  ...                 21018   \n",
       "4         [{'e': 'text', 't': 'Comics'}]  ...                 21018   \n",
       "\n",
       "    created_utc  num_crossposts  media  is_video  \\\n",
       "0  1.684463e+09               0    NaN     False   \n",
       "1  1.697605e+09               0    NaN     False   \n",
       "2  1.699489e+09               0    NaN     False   \n",
       "3  1.699497e+09               0    NaN     False   \n",
       "4  1.699483e+09               0    NaN     False   \n",
       "\n",
       "                                         collections  is_gallery  \\\n",
       "0                                                NaN         NaN   \n",
       "1  [{'permalink': 'https://www.reddit.com/r/ironm...         NaN   \n",
       "2                                                NaN        True   \n",
       "3                                                NaN        True   \n",
       "4                                                NaN         NaN   \n",
       "\n",
       "                                      media_metadata  \\\n",
       "0                                                NaN   \n",
       "1                                                NaN   \n",
       "2  {'fh7tg3f3u7zb1': {'status': 'valid', 'e': 'Im...   \n",
       "3  {'d8gtfrk7g8zb1': {'status': 'valid', 'e': 'Im...   \n",
       "4                                                NaN   \n",
       "\n",
       "                                        gallery_data  author_cakeday  \n",
       "0                                                NaN             NaN  \n",
       "1                                                NaN             NaN  \n",
       "2  {'items': [{'media_id': 'hbfqrq11u7zb1', 'id':...             NaN  \n",
       "3  {'items': [{'media_id': 'd8gtfrk7g8zb1', 'id':...             NaN  \n",
       "4                                                NaN             NaN  \n",
       "\n",
       "[5 rows x 115 columns]"
      ]
     },
     "execution_count": 62,
     "metadata": {},
     "output_type": "execute_result"
    }
   ],
   "source": [
    "ironman = pd.read_csv('../data/ironman.csv')\n",
    "print(ironman.shape)\n",
    "ironman.head()"
   ]
  },
  {
   "cell_type": "code",
   "execution_count": 63,
   "metadata": {},
   "outputs": [
    {
     "name": "stdout",
     "output_type": "stream",
     "text": [
      "<class 'pandas.core.frame.DataFrame'>\n",
      "RangeIndex: 1019 entries, 0 to 1018\n",
      "Columns: 115 entries, approved_at_utc to author_cakeday\n",
      "dtypes: bool(28), float64(26), int64(10), object(51)\n",
      "memory usage: 720.6+ KB\n",
      "None\n"
     ]
    }
   ],
   "source": [
    "print(ironman.info())"
   ]
  },
  {
   "cell_type": "markdown",
   "metadata": {},
   "source": [
    "### **Data Cleaning and EDA**"
   ]
  },
  {
   "cell_type": "code",
   "execution_count": 64,
   "metadata": {},
   "outputs": [
    {
     "data": {
      "text/html": [
       "<div>\n",
       "<style scoped>\n",
       "    .dataframe tbody tr th:only-of-type {\n",
       "        vertical-align: middle;\n",
       "    }\n",
       "\n",
       "    .dataframe tbody tr th {\n",
       "        vertical-align: top;\n",
       "    }\n",
       "\n",
       "    .dataframe thead th {\n",
       "        text-align: right;\n",
       "    }\n",
       "</style>\n",
       "<table border=\"1\" class=\"dataframe\">\n",
       "  <thead>\n",
       "    <tr style=\"text-align: right;\">\n",
       "      <th></th>\n",
       "      <th>approved_at_utc</th>\n",
       "      <th>subreddit</th>\n",
       "      <th>selftext</th>\n",
       "      <th>author_fullname</th>\n",
       "      <th>saved</th>\n",
       "      <th>mod_reason_title</th>\n",
       "      <th>gilded</th>\n",
       "      <th>clicked</th>\n",
       "      <th>title</th>\n",
       "      <th>link_flair_richtext</th>\n",
       "      <th>...</th>\n",
       "      <th>post_hint</th>\n",
       "      <th>url_overridden_by_dest</th>\n",
       "      <th>preview</th>\n",
       "      <th>link_flair_template_id</th>\n",
       "      <th>is_gallery</th>\n",
       "      <th>media_metadata</th>\n",
       "      <th>gallery_data</th>\n",
       "      <th>crosspost_parent_list</th>\n",
       "      <th>crosspost_parent</th>\n",
       "      <th>author_cakeday</th>\n",
       "    </tr>\n",
       "  </thead>\n",
       "  <tbody>\n",
       "    <tr>\n",
       "      <th>0</th>\n",
       "      <td>NaN</td>\n",
       "      <td>batman</td>\n",
       "      <td>**Welcome to the r/Batman Monthly Discussion T...</td>\n",
       "      <td>t2_6l4z3</td>\n",
       "      <td>False</td>\n",
       "      <td>NaN</td>\n",
       "      <td>0</td>\n",
       "      <td>False</td>\n",
       "      <td>Monthly r/Batman Discussion Thread - Posted on...</td>\n",
       "      <td>[]</td>\n",
       "      <td>...</td>\n",
       "      <td>NaN</td>\n",
       "      <td>NaN</td>\n",
       "      <td>NaN</td>\n",
       "      <td>NaN</td>\n",
       "      <td>NaN</td>\n",
       "      <td>NaN</td>\n",
       "      <td>NaN</td>\n",
       "      <td>NaN</td>\n",
       "      <td>NaN</td>\n",
       "      <td>NaN</td>\n",
       "    </tr>\n",
       "    <tr>\n",
       "      <th>1</th>\n",
       "      <td>NaN</td>\n",
       "      <td>batman</td>\n",
       "      <td>NaN</td>\n",
       "      <td>t2_v80xrv1k</td>\n",
       "      <td>False</td>\n",
       "      <td>NaN</td>\n",
       "      <td>0</td>\n",
       "      <td>False</td>\n",
       "      <td>Don’t turn him into a mcu character but he’s m...</td>\n",
       "      <td>[{'e': 'text', 't': 'FUNNY'}]</td>\n",
       "      <td>...</td>\n",
       "      <td>image</td>\n",
       "      <td>https://i.redd.it/7a2phkaj57zb1.jpg</td>\n",
       "      <td>{'images': [{'source': {'url': 'https://previe...</td>\n",
       "      <td>d811bcc6-f576-11ed-970f-5217f775e7dd</td>\n",
       "      <td>NaN</td>\n",
       "      <td>NaN</td>\n",
       "      <td>NaN</td>\n",
       "      <td>NaN</td>\n",
       "      <td>NaN</td>\n",
       "      <td>NaN</td>\n",
       "    </tr>\n",
       "    <tr>\n",
       "      <th>2</th>\n",
       "      <td>NaN</td>\n",
       "      <td>batman</td>\n",
       "      <td>NaN</td>\n",
       "      <td>t2_hlci6d4q</td>\n",
       "      <td>False</td>\n",
       "      <td>NaN</td>\n",
       "      <td>0</td>\n",
       "      <td>False</td>\n",
       "      <td>Wtf did I just read</td>\n",
       "      <td>[{'e': 'text', 't': 'GENERAL DISCUSSION'}]</td>\n",
       "      <td>...</td>\n",
       "      <td>NaN</td>\n",
       "      <td>https://www.reddit.com/gallery/17r0ifp</td>\n",
       "      <td>NaN</td>\n",
       "      <td>9920b510-f578-11ed-a075-fad5cce75268</td>\n",
       "      <td>True</td>\n",
       "      <td>{'jnx31dxgx7zb1': {'status': 'valid', 'e': 'Im...</td>\n",
       "      <td>{'items': [{'media_id': 'vd2znrwgx7zb1', 'id':...</td>\n",
       "      <td>NaN</td>\n",
       "      <td>NaN</td>\n",
       "      <td>NaN</td>\n",
       "    </tr>\n",
       "    <tr>\n",
       "      <th>3</th>\n",
       "      <td>NaN</td>\n",
       "      <td>batman</td>\n",
       "      <td>Hi guys! Im new to the community,my name is Da...</td>\n",
       "      <td>t2_7k8r0ioo</td>\n",
       "      <td>False</td>\n",
       "      <td>NaN</td>\n",
       "      <td>0</td>\n",
       "      <td>False</td>\n",
       "      <td>“STAY” A Jim Gordon Short Story</td>\n",
       "      <td>[{'e': 'text', 't': 'ARTWORK'}]</td>\n",
       "      <td>...</td>\n",
       "      <td>NaN</td>\n",
       "      <td>https://www.reddit.com/gallery/17qt2ht</td>\n",
       "      <td>NaN</td>\n",
       "      <td>5eb096ba-e07f-11ed-a1af-7a495b5b3295</td>\n",
       "      <td>True</td>\n",
       "      <td>{'vck7couya6zb1': {'status': 'valid', 'e': 'Im...</td>\n",
       "      <td>{'items': [{'media_id': 'e4thmouya6zb1', 'id':...</td>\n",
       "      <td>NaN</td>\n",
       "      <td>NaN</td>\n",
       "      <td>NaN</td>\n",
       "    </tr>\n",
       "    <tr>\n",
       "      <th>4</th>\n",
       "      <td>NaN</td>\n",
       "      <td>batman</td>\n",
       "      <td>NaN</td>\n",
       "      <td>t2_af6tp1tv</td>\n",
       "      <td>False</td>\n",
       "      <td>NaN</td>\n",
       "      <td>0</td>\n",
       "      <td>False</td>\n",
       "      <td>What is the Arkham Knight version</td>\n",
       "      <td>[{'e': 'text', 't': 'GENERAL DISCUSSION'}]</td>\n",
       "      <td>...</td>\n",
       "      <td>image</td>\n",
       "      <td>https://i.redd.it/253wathr95zb1.jpg</td>\n",
       "      <td>{'images': [{'source': {'url': 'https://previe...</td>\n",
       "      <td>9920b510-f578-11ed-a075-fad5cce75268</td>\n",
       "      <td>NaN</td>\n",
       "      <td>NaN</td>\n",
       "      <td>NaN</td>\n",
       "      <td>NaN</td>\n",
       "      <td>NaN</td>\n",
       "      <td>NaN</td>\n",
       "    </tr>\n",
       "  </tbody>\n",
       "</table>\n",
       "<p>5 rows × 116 columns</p>\n",
       "</div>"
      ],
      "text/plain": [
       "   approved_at_utc subreddit  \\\n",
       "0              NaN    batman   \n",
       "1              NaN    batman   \n",
       "2              NaN    batman   \n",
       "3              NaN    batman   \n",
       "4              NaN    batman   \n",
       "\n",
       "                                            selftext author_fullname  saved  \\\n",
       "0  **Welcome to the r/Batman Monthly Discussion T...        t2_6l4z3  False   \n",
       "1                                                NaN     t2_v80xrv1k  False   \n",
       "2                                                NaN     t2_hlci6d4q  False   \n",
       "3  Hi guys! Im new to the community,my name is Da...     t2_7k8r0ioo  False   \n",
       "4                                                NaN     t2_af6tp1tv  False   \n",
       "\n",
       "   mod_reason_title  gilded  clicked  \\\n",
       "0               NaN       0    False   \n",
       "1               NaN       0    False   \n",
       "2               NaN       0    False   \n",
       "3               NaN       0    False   \n",
       "4               NaN       0    False   \n",
       "\n",
       "                                               title  \\\n",
       "0  Monthly r/Batman Discussion Thread - Posted on...   \n",
       "1  Don’t turn him into a mcu character but he’s m...   \n",
       "2                                Wtf did I just read   \n",
       "3                    “STAY” A Jim Gordon Short Story   \n",
       "4                  What is the Arkham Knight version   \n",
       "\n",
       "                          link_flair_richtext  ... post_hint  \\\n",
       "0                                          []  ...       NaN   \n",
       "1               [{'e': 'text', 't': 'FUNNY'}]  ...     image   \n",
       "2  [{'e': 'text', 't': 'GENERAL DISCUSSION'}]  ...       NaN   \n",
       "3             [{'e': 'text', 't': 'ARTWORK'}]  ...       NaN   \n",
       "4  [{'e': 'text', 't': 'GENERAL DISCUSSION'}]  ...     image   \n",
       "\n",
       "                   url_overridden_by_dest  \\\n",
       "0                                     NaN   \n",
       "1     https://i.redd.it/7a2phkaj57zb1.jpg   \n",
       "2  https://www.reddit.com/gallery/17r0ifp   \n",
       "3  https://www.reddit.com/gallery/17qt2ht   \n",
       "4     https://i.redd.it/253wathr95zb1.jpg   \n",
       "\n",
       "                                             preview  \\\n",
       "0                                                NaN   \n",
       "1  {'images': [{'source': {'url': 'https://previe...   \n",
       "2                                                NaN   \n",
       "3                                                NaN   \n",
       "4  {'images': [{'source': {'url': 'https://previe...   \n",
       "\n",
       "                 link_flair_template_id  is_gallery  \\\n",
       "0                                   NaN         NaN   \n",
       "1  d811bcc6-f576-11ed-970f-5217f775e7dd         NaN   \n",
       "2  9920b510-f578-11ed-a075-fad5cce75268        True   \n",
       "3  5eb096ba-e07f-11ed-a1af-7a495b5b3295        True   \n",
       "4  9920b510-f578-11ed-a075-fad5cce75268         NaN   \n",
       "\n",
       "                                      media_metadata  \\\n",
       "0                                                NaN   \n",
       "1                                                NaN   \n",
       "2  {'jnx31dxgx7zb1': {'status': 'valid', 'e': 'Im...   \n",
       "3  {'vck7couya6zb1': {'status': 'valid', 'e': 'Im...   \n",
       "4                                                NaN   \n",
       "\n",
       "                                        gallery_data  crosspost_parent_list  \\\n",
       "0                                                NaN                    NaN   \n",
       "1                                                NaN                    NaN   \n",
       "2  {'items': [{'media_id': 'vd2znrwgx7zb1', 'id':...                    NaN   \n",
       "3  {'items': [{'media_id': 'e4thmouya6zb1', 'id':...                    NaN   \n",
       "4                                                NaN                    NaN   \n",
       "\n",
       "  crosspost_parent  author_cakeday  \n",
       "0              NaN             NaN  \n",
       "1              NaN             NaN  \n",
       "2              NaN             NaN  \n",
       "3              NaN             NaN  \n",
       "4              NaN             NaN  \n",
       "\n",
       "[5 rows x 116 columns]"
      ]
     },
     "execution_count": 64,
     "metadata": {},
     "output_type": "execute_result"
    }
   ],
   "source": [
    "batman.head()"
   ]
  },
  {
   "cell_type": "code",
   "execution_count": 65,
   "metadata": {},
   "outputs": [],
   "source": [
    "# remove unrelated columns\n",
    "# batman.drop(columns=['approved_at_utc', 'author_fullname', 'saved', 'author', 'created_utc', 'mod_reason_title', 'clicked'], inplace=True)\n",
    "# batman.drop(columns=['gilded', 'link_flair_richtext', 'subreddit_name_prefixed', 'hidden', 'link_flair_css_class', 'downs', 'post_hint', 'link_flair_template_id'], inplace=True)\n",
    "# batman.drop(columns=['thumbnail_height', 'top_awarded_type', 'hide_score', 'name', 'quarantine', 'link_flair_text_color', 'url_overridden_by_dest', 'author_cakeday'], inplace=True)\n",
    "# batman.drop(columns=['thumbnail_width', 'author_flair_background_color', 'subreddit_type', 'ups', 'total_awards_received', 'media_embed', 'thumbnail', 'author_flair_template_id'], inplace=True)\n",
    "# batman.drop(columns=['author_flair_text_color', 'secure_media', 'is_reddit_media_domain', 'is_meta', 'category', 'secure_media_embed', 'link_flair_text', 'can_mod_post'], inplace=True)\n",
    "# batman.drop(columns=['author_patreon_flair', 'author_flair_richtext', 'gildings', 'post_categories', 'author_flair_type', 'media_metadata', 'author_flair_text', 'author_flair_css_class'], inplace=True)\n",
    "\n",
    "# after a lot of remove found out that only need 4 columns for this project\n",
    "# so I will select columns only subreddit, selftext, title and created to use"
   ]
  },
  {
   "cell_type": "code",
   "execution_count": 66,
   "metadata": {},
   "outputs": [
    {
     "data": {
      "text/plain": [
       "<Axes: >"
      ]
     },
     "execution_count": 66,
     "metadata": {},
     "output_type": "execute_result"
    },
    {
     "data": {
      "image/png": "[encoded data removed]",
      "text/plain": [
       "<Figure size 2500x1000 with 2 Axes>"
      ]
     },
     "metadata": {},
     "output_type": "display_data"
    }
   ],
   "source": [
    "# find the missing value and clean it up\n",
    "import missingno as msno\n",
    "batman = batman[['subreddit', 'selftext', 'title', 'created']]\n",
    "msno.matrix(batman)"
   ]
  },
  {
   "cell_type": "code",
   "execution_count": 67,
   "metadata": {},
   "outputs": [
    {
     "data": {
      "text/plain": [
       "subreddit      0\n",
       "selftext     572\n",
       "title          0\n",
       "created        0\n",
       "dtype: int64"
      ]
     },
     "execution_count": 67,
     "metadata": {},
     "output_type": "execute_result"
    }
   ],
   "source": [
    "batman.isnull().sum()"
   ]
  },
  {
   "cell_type": "code",
   "execution_count": 68,
   "metadata": {},
   "outputs": [
    {
     "data": {
      "text/plain": [
       "<Axes: >"
      ]
     },
     "execution_count": 68,
     "metadata": {},
     "output_type": "execute_result"
    },
    {
     "data": {
      "image/png": "[encoded data removed]",
      "text/plain": [
       "<Figure size 2500x1000 with 2 Axes>"
      ]
     },
     "metadata": {},
     "output_type": "display_data"
    }
   ],
   "source": [
    "ironman = ironman[['subreddit', 'selftext',  'title', 'created']]\n",
    "msno.matrix(ironman)"
   ]
  },
  {
   "cell_type": "code",
   "execution_count": 69,
   "metadata": {},
   "outputs": [
    {
     "data": {
      "text/plain": [
       "subreddit      0\n",
       "selftext     754\n",
       "title          0\n",
       "created        0\n",
       "dtype: int64"
      ]
     },
     "execution_count": 69,
     "metadata": {},
     "output_type": "execute_result"
    }
   ],
   "source": [
    "ironman.isna().sum()"
   ]
  },
  {
   "cell_type": "markdown",
   "metadata": {},
   "source": [
    "as selftext cout as text content so I will sum up selftext and title into content column first"
   ]
  },
  {
   "cell_type": "code",
   "execution_count": 70,
   "metadata": {},
   "outputs": [
    {
     "data": {
      "text/plain": [
       "0    Monthly r/Batman Discussion Thread - Posted on...\n",
       "1    Don’t turn him into a mcu character but he’s m...\n",
       "2                                  Wtf did I just read\n",
       "3    “STAY” A Jim Gordon Short StoryHi guys! Im new...\n",
       "4                    What is the Arkham Knight version\n",
       "Name: content, dtype: object"
      ]
     },
     "execution_count": 70,
     "metadata": {},
     "output_type": "execute_result"
    }
   ],
   "source": [
    "# Merge selftext, title into content\n",
    "batman.fillna('', inplace=True)\n",
    "batman['content'] = batman['title'] + batman['selftext']\n",
    "batman['content'].head()"
   ]
  },
  {
   "cell_type": "code",
   "execution_count": 71,
   "metadata": {},
   "outputs": [
    {
     "data": {
      "text/plain": [
       "0    GoFundMe for Iron Man writer Len Kaminski is live\n",
       "1    Iron Man Comics for October 18th, 2023 - Discu...\n",
       "2    One of the best \"I have to break my no-kill ru...\n",
       "3    TIL there was an anime version of Zeke Stane -...\n",
       "4    Thanos #1 (feat Ironman)https://youtu.be/9FEDb...\n",
       "Name: content, dtype: object"
      ]
     },
     "execution_count": 71,
     "metadata": {},
     "output_type": "execute_result"
    }
   ],
   "source": [
    "# Merge selftext, title into content\n",
    "ironman.fillna('', inplace=True)\n",
    "ironman['content'] = ironman['title'] + ironman['selftext']\n",
    "ironman['content'].head()"
   ]
  },
  {
   "cell_type": "markdown",
   "metadata": {},
   "source": [
    "### ** Preprocessing **\n",
    "- Is text data successfully converted to a matrix representation?\n",
    "- Are methods such as stop words, stemming, and lemmatization explored?\n",
    "- Does the student properly split and/or sample the data for validation/training purposes?\n",
    "- Does the student test and evaluate a variety of models to identify a production algorithm (**AT MINIMUM:** Naive Bayes and Random Forest)?\n",
    "- Does the student defend their choice of production model relevant to the data at hand and the problem?\n",
    "- Does the student explain how the model works and evaluate its performance successes/downfalls?"
   ]
  },
  {
   "cell_type": "markdown",
   "metadata": {},
   "source": [
    "### Clear leak information\n",
    "remove your subreddit topic, example: Marvel, DC, Samsung etc from the selftext and title columns to avoid target leakage. \n"
   ]
  },
  {
   "cell_type": "code",
   "execution_count": 72,
   "metadata": {},
   "outputs": [],
   "source": [
    "import regex as re\n",
    "\n",
    "batman.content = batman.content.apply(lambda x: re.sub(r'batman|bat man', '', x, flags=re.IGNORECASE))\n",
    "ironman.content = ironman.content.apply(lambda x: re.sub(r'ironman|iron man', '', x, flags=re.IGNORECASE))\n"
   ]
  },
  {
   "cell_type": "code",
   "execution_count": 73,
   "metadata": {},
   "outputs": [
    {
     "data": {
      "text/html": [
       "<div>\n",
       "<style scoped>\n",
       "    .dataframe tbody tr th:only-of-type {\n",
       "        vertical-align: middle;\n",
       "    }\n",
       "\n",
       "    .dataframe tbody tr th {\n",
       "        vertical-align: top;\n",
       "    }\n",
       "\n",
       "    .dataframe thead th {\n",
       "        text-align: right;\n",
       "    }\n",
       "</style>\n",
       "<table border=\"1\" class=\"dataframe\">\n",
       "  <thead>\n",
       "    <tr style=\"text-align: right;\">\n",
       "      <th></th>\n",
       "      <th>subreddit</th>\n",
       "      <th>selftext</th>\n",
       "      <th>title</th>\n",
       "      <th>created</th>\n",
       "      <th>content</th>\n",
       "    </tr>\n",
       "  </thead>\n",
       "  <tbody>\n",
       "    <tr>\n",
       "      <th>0</th>\n",
       "      <td>ironman</td>\n",
       "      <td></td>\n",
       "      <td>GoFundMe for Iron Man writer Len Kaminski is live</td>\n",
       "      <td>1.684463e+09</td>\n",
       "      <td>GoFundMe for  writer Len Kaminski is live</td>\n",
       "    </tr>\n",
       "    <tr>\n",
       "      <th>1</th>\n",
       "      <td>ironman</td>\n",
       "      <td>Following last month's monumental *Invincible ...</td>\n",
       "      <td>Iron Man Comics for October 18th, 2023 - Discu...</td>\n",
       "      <td>1.697605e+09</td>\n",
       "      <td>Comics for October 18th, 2023 - Discussion Th...</td>\n",
       "    </tr>\n",
       "    <tr>\n",
       "      <th>2</th>\n",
       "      <td>ironman</td>\n",
       "      <td></td>\n",
       "      <td>One of the best \"I have to break my no-kill ru...</td>\n",
       "      <td>1.699489e+09</td>\n",
       "      <td>One of the best \"I have to break my no-kill ru...</td>\n",
       "    </tr>\n",
       "    <tr>\n",
       "      <th>3</th>\n",
       "      <td>ironman</td>\n",
       "      <td></td>\n",
       "      <td>TIL there was an anime version of Zeke Stane -...</td>\n",
       "      <td>1.699497e+09</td>\n",
       "      <td>TIL there was an anime version of Zeke Stane -...</td>\n",
       "    </tr>\n",
       "    <tr>\n",
       "      <th>4</th>\n",
       "      <td>ironman</td>\n",
       "      <td>https://youtu.be/9FEDbhepU9I?si=0nO-8Ku5lth35s...</td>\n",
       "      <td>Thanos #1 (feat Ironman)</td>\n",
       "      <td>1.699483e+09</td>\n",
       "      <td>Thanos #1 (feat )https://youtu.be/9FEDbhepU9I?...</td>\n",
       "    </tr>\n",
       "  </tbody>\n",
       "</table>\n",
       "</div>"
      ],
      "text/plain": [
       "  subreddit                                           selftext  \\\n",
       "0   ironman                                                      \n",
       "1   ironman  Following last month's monumental *Invincible ...   \n",
       "2   ironman                                                      \n",
       "3   ironman                                                      \n",
       "4   ironman  https://youtu.be/9FEDbhepU9I?si=0nO-8Ku5lth35s...   \n",
       "\n",
       "                                               title       created  \\\n",
       "0  GoFundMe for Iron Man writer Len Kaminski is live  1.684463e+09   \n",
       "1  Iron Man Comics for October 18th, 2023 - Discu...  1.697605e+09   \n",
       "2  One of the best \"I have to break my no-kill ru...  1.699489e+09   \n",
       "3  TIL there was an anime version of Zeke Stane -...  1.699497e+09   \n",
       "4                           Thanos #1 (feat Ironman)  1.699483e+09   \n",
       "\n",
       "                                             content  \n",
       "0          GoFundMe for  writer Len Kaminski is live  \n",
       "1   Comics for October 18th, 2023 - Discussion Th...  \n",
       "2  One of the best \"I have to break my no-kill ru...  \n",
       "3  TIL there was an anime version of Zeke Stane -...  \n",
       "4  Thanos #1 (feat )https://youtu.be/9FEDbhepU9I?...  "
      ]
     },
     "execution_count": 73,
     "metadata": {},
     "output_type": "execute_result"
    }
   ],
   "source": [
    "ironman.head()"
   ]
  },
  {
   "cell_type": "code",
   "execution_count": 74,
   "metadata": {},
   "outputs": [
    {
     "data": {
      "text/html": [
       "<div>\n",
       "<style scoped>\n",
       "    .dataframe tbody tr th:only-of-type {\n",
       "        vertical-align: middle;\n",
       "    }\n",
       "\n",
       "    .dataframe tbody tr th {\n",
       "        vertical-align: top;\n",
       "    }\n",
       "\n",
       "    .dataframe thead th {\n",
       "        text-align: right;\n",
       "    }\n",
       "</style>\n",
       "<table border=\"1\" class=\"dataframe\">\n",
       "  <thead>\n",
       "    <tr style=\"text-align: right;\">\n",
       "      <th></th>\n",
       "      <th>subreddit</th>\n",
       "      <th>selftext</th>\n",
       "      <th>title</th>\n",
       "      <th>created</th>\n",
       "      <th>content</th>\n",
       "    </tr>\n",
       "  </thead>\n",
       "  <tbody>\n",
       "    <tr>\n",
       "      <th>0</th>\n",
       "      <td>batman</td>\n",
       "      <td>**Welcome to the r/Batman Monthly Discussion T...</td>\n",
       "      <td>Monthly r/Batman Discussion Thread - Posted on...</td>\n",
       "      <td>1.698833e+09</td>\n",
       "      <td>Monthly r/ Discussion Thread - Posted on the 1...</td>\n",
       "    </tr>\n",
       "    <tr>\n",
       "      <th>1</th>\n",
       "      <td>batman</td>\n",
       "      <td></td>\n",
       "      <td>Don’t turn him into a mcu character but he’s m...</td>\n",
       "      <td>1.699481e+09</td>\n",
       "      <td>Don’t turn him into a mcu character but he’s m...</td>\n",
       "    </tr>\n",
       "    <tr>\n",
       "      <th>2</th>\n",
       "      <td>batman</td>\n",
       "      <td></td>\n",
       "      <td>Wtf did I just read</td>\n",
       "      <td>1.699490e+09</td>\n",
       "      <td>Wtf did I just read</td>\n",
       "    </tr>\n",
       "    <tr>\n",
       "      <th>3</th>\n",
       "      <td>batman</td>\n",
       "      <td>Hi guys! Im new to the community,my name is Da...</td>\n",
       "      <td>“STAY” A Jim Gordon Short Story</td>\n",
       "      <td>1.699471e+09</td>\n",
       "      <td>“STAY” A Jim Gordon Short StoryHi guys! Im new...</td>\n",
       "    </tr>\n",
       "    <tr>\n",
       "      <th>4</th>\n",
       "      <td>batman</td>\n",
       "      <td></td>\n",
       "      <td>What is the Arkham Knight version</td>\n",
       "      <td>1.699458e+09</td>\n",
       "      <td>What is the Arkham Knight version</td>\n",
       "    </tr>\n",
       "  </tbody>\n",
       "</table>\n",
       "</div>"
      ],
      "text/plain": [
       "  subreddit                                           selftext  \\\n",
       "0    batman  **Welcome to the r/Batman Monthly Discussion T...   \n",
       "1    batman                                                      \n",
       "2    batman                                                      \n",
       "3    batman  Hi guys! Im new to the community,my name is Da...   \n",
       "4    batman                                                      \n",
       "\n",
       "                                               title       created  \\\n",
       "0  Monthly r/Batman Discussion Thread - Posted on...  1.698833e+09   \n",
       "1  Don’t turn him into a mcu character but he’s m...  1.699481e+09   \n",
       "2                                Wtf did I just read  1.699490e+09   \n",
       "3                    “STAY” A Jim Gordon Short Story  1.699471e+09   \n",
       "4                  What is the Arkham Knight version  1.699458e+09   \n",
       "\n",
       "                                             content  \n",
       "0  Monthly r/ Discussion Thread - Posted on the 1...  \n",
       "1  Don’t turn him into a mcu character but he’s m...  \n",
       "2                                Wtf did I just read  \n",
       "3  “STAY” A Jim Gordon Short StoryHi guys! Im new...  \n",
       "4                  What is the Arkham Knight version  "
      ]
     },
     "execution_count": 74,
     "metadata": {},
     "output_type": "execute_result"
    }
   ],
   "source": [
    "batman.head()"
   ]
  },
  {
   "cell_type": "code",
   "execution_count": 75,
   "metadata": {},
   "outputs": [
    {
     "data": {
      "text/plain": [
       "176"
      ]
     },
     "execution_count": 75,
     "metadata": {},
     "output_type": "execute_result"
    }
   ],
   "source": [
    "# check dupplicate\n",
    "batman.duplicated().sum()"
   ]
  },
  {
   "cell_type": "code",
   "execution_count": 76,
   "metadata": {},
   "outputs": [],
   "source": [
    "# remove dupplicate\n",
    "batman.drop_duplicates(inplace=True)"
   ]
  },
  {
   "cell_type": "code",
   "execution_count": 77,
   "metadata": {},
   "outputs": [
    {
     "data": {
      "text/plain": [
       "0"
      ]
     },
     "execution_count": 77,
     "metadata": {},
     "output_type": "execute_result"
    }
   ],
   "source": [
    "# check dupplicate again\n",
    "batman.duplicated().sum()"
   ]
  },
  {
   "cell_type": "code",
   "execution_count": 78,
   "metadata": {},
   "outputs": [
    {
     "data": {
      "text/plain": [
       "27"
      ]
     },
     "execution_count": 78,
     "metadata": {},
     "output_type": "execute_result"
    }
   ],
   "source": [
    "# check dupplicate\n",
    "ironman.duplicated().sum()"
   ]
  },
  {
   "cell_type": "code",
   "execution_count": 79,
   "metadata": {},
   "outputs": [],
   "source": [
    "# remove dupplicate\n",
    "ironman.drop_duplicates(inplace=True)"
   ]
  },
  {
   "cell_type": "code",
   "execution_count": 80,
   "metadata": {},
   "outputs": [
    {
     "data": {
      "text/plain": [
       "0"
      ]
     },
     "execution_count": 80,
     "metadata": {},
     "output_type": "execute_result"
    }
   ],
   "source": [
    "# check dupplicate again\n",
    "ironman.duplicated().sum()"
   ]
  },
  {
   "cell_type": "code",
   "execution_count": 81,
   "metadata": {},
   "outputs": [
    {
     "name": "stdout",
     "output_type": "stream",
     "text": [
      "(1828, 6)\n",
      "<class 'pandas.core.frame.DataFrame'>\n",
      "RangeIndex: 1828 entries, 0 to 1827\n",
      "Data columns (total 6 columns):\n",
      " #   Column     Non-Null Count  Dtype  \n",
      "---  ------     --------------  -----  \n",
      " 0   subreddit  1828 non-null   object \n",
      " 1   selftext   1828 non-null   object \n",
      " 2   title      1828 non-null   object \n",
      " 3   created    1828 non-null   float64\n",
      " 4   content    1828 non-null   object \n",
      " 5   target     1828 non-null   int64  \n",
      "dtypes: float64(1), int64(1), object(4)\n",
      "memory usage: 85.8+ KB\n"
     ]
    }
   ],
   "source": [
    "# let's prepare data set for modeling\n",
    "# create target variable\n",
    "batman['target'] = 0\n",
    "ironman['target'] = 1\n",
    "\n",
    "# combine two data set\n",
    "df = pd.concat([batman, ironman], ignore_index=True)\n",
    "print(df.shape)\n",
    "df.info()\n"
   ]
  },
  {
   "cell_type": "code",
   "execution_count": 82,
   "metadata": {},
   "outputs": [
    {
     "data": {
      "text/html": [
       "<div>\n",
       "<style scoped>\n",
       "    .dataframe tbody tr th:only-of-type {\n",
       "        vertical-align: middle;\n",
       "    }\n",
       "\n",
       "    .dataframe tbody tr th {\n",
       "        vertical-align: top;\n",
       "    }\n",
       "\n",
       "    .dataframe thead th {\n",
       "        text-align: right;\n",
       "    }\n",
       "</style>\n",
       "<table border=\"1\" class=\"dataframe\">\n",
       "  <thead>\n",
       "    <tr style=\"text-align: right;\">\n",
       "      <th></th>\n",
       "      <th>subreddit</th>\n",
       "      <th>selftext</th>\n",
       "      <th>title</th>\n",
       "      <th>created</th>\n",
       "      <th>content</th>\n",
       "      <th>target</th>\n",
       "    </tr>\n",
       "  </thead>\n",
       "  <tbody>\n",
       "    <tr>\n",
       "      <th>0</th>\n",
       "      <td>batman</td>\n",
       "      <td>**Welcome to the r/Batman Monthly Discussion T...</td>\n",
       "      <td>Monthly r/Batman Discussion Thread - Posted on...</td>\n",
       "      <td>1.698833e+09</td>\n",
       "      <td>Monthly r/ Discussion Thread - Posted on the 1...</td>\n",
       "      <td>0</td>\n",
       "    </tr>\n",
       "    <tr>\n",
       "      <th>1</th>\n",
       "      <td>batman</td>\n",
       "      <td></td>\n",
       "      <td>Don’t turn him into a mcu character but he’s m...</td>\n",
       "      <td>1.699481e+09</td>\n",
       "      <td>Don’t turn him into a mcu character but he’s m...</td>\n",
       "      <td>0</td>\n",
       "    </tr>\n",
       "    <tr>\n",
       "      <th>2</th>\n",
       "      <td>batman</td>\n",
       "      <td></td>\n",
       "      <td>Wtf did I just read</td>\n",
       "      <td>1.699490e+09</td>\n",
       "      <td>Wtf did I just read</td>\n",
       "      <td>0</td>\n",
       "    </tr>\n",
       "    <tr>\n",
       "      <th>3</th>\n",
       "      <td>batman</td>\n",
       "      <td>Hi guys! Im new to the community,my name is Da...</td>\n",
       "      <td>“STAY” A Jim Gordon Short Story</td>\n",
       "      <td>1.699471e+09</td>\n",
       "      <td>“STAY” A Jim Gordon Short StoryHi guys! Im new...</td>\n",
       "      <td>0</td>\n",
       "    </tr>\n",
       "    <tr>\n",
       "      <th>4</th>\n",
       "      <td>batman</td>\n",
       "      <td></td>\n",
       "      <td>What is the Arkham Knight version</td>\n",
       "      <td>1.699458e+09</td>\n",
       "      <td>What is the Arkham Knight version</td>\n",
       "      <td>0</td>\n",
       "    </tr>\n",
       "  </tbody>\n",
       "</table>\n",
       "</div>"
      ],
      "text/plain": [
       "  subreddit                                           selftext  \\\n",
       "0    batman  **Welcome to the r/Batman Monthly Discussion T...   \n",
       "1    batman                                                      \n",
       "2    batman                                                      \n",
       "3    batman  Hi guys! Im new to the community,my name is Da...   \n",
       "4    batman                                                      \n",
       "\n",
       "                                               title       created  \\\n",
       "0  Monthly r/Batman Discussion Thread - Posted on...  1.698833e+09   \n",
       "1  Don’t turn him into a mcu character but he’s m...  1.699481e+09   \n",
       "2                                Wtf did I just read  1.699490e+09   \n",
       "3                    “STAY” A Jim Gordon Short Story  1.699471e+09   \n",
       "4                  What is the Arkham Knight version  1.699458e+09   \n",
       "\n",
       "                                             content  target  \n",
       "0  Monthly r/ Discussion Thread - Posted on the 1...       0  \n",
       "1  Don’t turn him into a mcu character but he’s m...       0  \n",
       "2                                Wtf did I just read       0  \n",
       "3  “STAY” A Jim Gordon Short StoryHi guys! Im new...       0  \n",
       "4                  What is the Arkham Knight version       0  "
      ]
     },
     "execution_count": 82,
     "metadata": {},
     "output_type": "execute_result"
    }
   ],
   "source": [
    "df.head()"
   ]
  },
  {
   "cell_type": "code",
   "execution_count": 83,
   "metadata": {},
   "outputs": [],
   "source": [
    "# Create X, y variables\n",
    "X = df[['content']]\n",
    "y = df['target']\n",
    "\n",
    "# train test split\n",
    "X_train, X_test, y_train, y_test = train_test_split(X, y, stratify=y, random_state=42)"
   ]
  },
  {
   "cell_type": "code",
   "execution_count": 84,
   "metadata": {},
   "outputs": [],
   "source": [
    "# Let's set a pipeline up with two stages:\n",
    "# 1. CountVectorizer (transformer)\n",
    "# 2.1 Multinomial Naive Bayes (estimator)\n",
    "# 2.2 Random Forest classifiers (estimator)\n",
    "\n",
    "pipe_rf = Pipeline([\n",
    "    ('cvec', CountVectorizer),\n",
    "    ('rf', RandomForestClassifier)\n",
    "])\n",
    "\n",
    "pipe_mnb = Pipeline([\n",
    "    ('cvec', CountVectorizer),\n",
    "    ('mnb', MultinomialNB)\n",
    "])\n",
    "\n",
    "# Set up a gridsearch for each model\n",
    "pipe_rf_params = {\n",
    "  'cvec__max_features': [1000, 2000, 3000],\n",
    "  'cvec__min_df': [2, 3],\n",
    "  'cvec__max_df': [.9, .95],\n",
    "  'cvec__ngram_range': [(1,1), (1,2)],\n",
    "  'rf__n_estimators': [100, 150],\n",
    "  'rf__max_depth': [None, 1, 2, 3, 4, 5],\n",
    "  'rf__min_samples_split': [2, 3, 4]\n",
    "}\n",
    "\n",
    "pipe_mnb_params = {\n",
    "  'cvec__max_features': [1000, 2000, 3000],\n",
    "  'cvec__min_df': [2, 3],\n",
    "  'cvec__max_df': [.9, .95],\n",
    "  'cvec__ngram_range': [(1,1), (1,2)],\n",
    "  'mnb__alpha': [1, 2]\n",
    "}\n"
   ]
  },
  {
   "cell_type": "markdown",
   "metadata": {},
   "source": [
    "#### Prep content with `my_tokenize`\n",
    "- with custom tokenize\n",
    "- lowercase\n",
    "- trim string\n",
    "- remove html, emoji\n",
    "- lemmatize\n",
    "- stopwords\n",
    "- word_tokenize"
   ]
  },
  {
   "cell_type": "code",
   "execution_count": 85,
   "metadata": {},
   "outputs": [],
   "source": [
    "import re, emoji, urllib, html\n",
    "from pythainlp.tokenize import word_tokenize\n",
    "from nltk.corpus import stopwords\n",
    "stop_words = set(stopwords.words(\"english\"))\n",
    "\n",
    "def my_old_tokenize(text):\n",
    "    text = text.lower()\n",
    "    ### REMOVE URL ###\n",
    "    text = html.unescape(urllib.parse.unquote(text)) # unescape for unicode, unquote for escaped URL\n",
    "    text = re.sub(r'https?.+?(?:\\s|$)', '', text) # remove URL link\n",
    "    ### REMOVE EMOJI ###\n",
    "    text = emoji.replace_emoji(text) # remove emoji\n",
    "    ### REPLACE ###\n",
    "    text = re.sub(r'[“”„\\\"]', '', text) # remove double quotations\n",
    "    text = re.sub(r'[‘’′′′′`\\']', '', text) # remove single quotations\n",
    "    text = re.sub(r'[\\n\\t\\u00a0\\xa0\\u3000\\u2002-\\u200a\\u202f]+', ' ', text) # shrink whitespaces e.g. good  boy -> good boy\n",
    "    text = re.sub(r'[\\r\\u200b\\ufeff]+', '', text) # remove non-breaking space\n",
    "    text = re.sub(r'\\u0E33([\\u0E48\\u0E49\\u0E4A\\u0E4B])', r'\\1'+'\\u0E33', text) # am + tone -> tone + am\n",
    "    ### TOKENIZE AND FILTERING ###\n",
    "    tokens = word_tokenize(text, keep_whitespace=False)\n",
    "    tokens = [token.strip('(').strip(')') for token in tokens]\n",
    "    tokens = [token for token in tokens if re.match(r'[A-zก-ไ][A-zก-๙\\.]*', token) and token not in stop_words ]\n",
    "    return tokens"
   ]
  },
  {
   "cell_type": "code",
   "execution_count": 86,
   "metadata": {},
   "outputs": [],
   "source": [
    "import re, emoji, urllib, html\n",
    "from pythainlp.tokenize import word_tokenize\n",
    "from nltk.corpus import stopwords\n",
    "stop_words = set(stopwords.words(\"english\"))\n",
    "\n",
    "def my_tokenize(text):\n",
    "    text = text.lower()\n",
    "    ### REMOVE URL ###\n",
    "    text = html.unescape(urllib.parse.unquote(text)) # unescape for unicode, unquote for escaped URL\n",
    "    text = re.sub(r'https?.+?(?:\\s|$)', '', text) # remove URL link\n",
    "    ### REMOVE EMOJI ###\n",
    "    text = emoji.replace_emoji(text) # remove emoji\n",
    "    ### REPLACE ###\n",
    "    text = re.sub(r'[“”„\\\"]', '', text) # remove double quotations\n",
    "    text = re.sub(r'[‘’′′′′`\\']', '', text) # remove single quotations\n",
    "    text = re.sub(r'[\\n\\t\\u00a0\\xa0\\u3000\\u2002-\\u200a\\u202f]+', ' ', text) # shrink whitespaces e.g. good  boy -> good boy\n",
    "    text = re.sub(r'[\\r\\u200b\\ufeff]+', '', text) # remove non-breaking space\n",
    "    text = re.sub(r'\\u0E33([\\u0E48\\u0E49\\u0E4A\\u0E4B])', r'\\1'+'\\u0E33', text) # am + tone -> tone + am\n",
    "    text = re.sub(r'[\\[\\]]', '', text) # [what] -> what # newly add here\n",
    "    ### TOKENIZE AND FILTERING ###\n",
    "    tokens = word_tokenize(text, keep_whitespace=False)\n",
    "    tokens = [token.strip('(').strip(')') for token in tokens]\n",
    "    tokens = [token for token in tokens if re.match(r'[A-zก-ไ][A-zก-๙\\.]*', token) and token not in stop_words ]\n",
    "    return tokens"
   ]
  },
  {
   "cell_type": "code",
   "execution_count": 87,
   "metadata": {},
   "outputs": [
    {
     "data": {
      "text/plain": [
       "'what'"
      ]
     },
     "execution_count": 87,
     "metadata": {},
     "output_type": "execute_result"
    }
   ],
   "source": [
    "re.sub(r'[\\[\\]]', '', '[what]') # [what] -> what"
   ]
  },
  {
   "cell_type": "code",
   "execution_count": 88,
   "metadata": {},
   "outputs": [
    {
     "name": "stdout",
     "output_type": "stream",
     "text": [
      "Monthly r/ Discussion Thread - Posted on the 1st of Every Month!**Welcome to the r/ Monthly Discussion Thread!**\n",
      "\n",
      "In an effort to improve the quality of content in r/, we are going to be limiting some commonly posted topics to these weekly discussion threads. Examples of such topics are:\n",
      "\n",
      "- Asking for thoughts on an adaptation of a character for a movie or show that has been out for more than one year\n",
      "- Asking people's thoughts on a recent movie or other adaptation\n",
      "- Arguing that \" has always killed\" \n",
      "- \"Who would win\" topics, which might be better suited to r/whowouldwin\n",
      "- Asking people's favorite episodes of a show\n",
      "- Asking people's favorite or least favorite villains, sidekicks, or other types of characters\n",
      "- Character comparison posts\n",
      "- \"Erase one' posts\n",
      "\n",
      "The above list is not complete, and contains just a few common examples. The list will be expanded over time, but ultimately topics moved to weekly discussion threads are subject to moderator discretion.\n",
      "\n",
      "**For a list of recommendations of comics, films, animated films, television and games, please see [our extensive wiki entry](/r//wiki/recommendations/)**\n",
      "\n",
      "Please remember the rules, especially the rule to be civil and treat others with respect. Remember there is a person on the other end of your screen. Attack arguments, not people, and do so without using labels.\n",
      "monthly r discussion thread posted st every month welcome r monthly discussion thread effort improve quality content r going limiting commonly posted topics weekly discussion threads examples topics asking thoughts adaptation character movie show one year asking peoples thoughts recent movie adaptation arguing always killed would win topics might better suited r whowouldwin asking peoples favorite episodes show asking peoples favorite least favorite villains sidekicks types characters character comparison posts erase one posts list complete contains common examples list expanded time ultimately topics moved weekly discussion threads subject moderator discretion list recommendations comics films animated films television games please see extensive wiki entry r wiki recommendations please remember rules especially rule civil treat others respect remember person end screen attack arguments people without using labels\n"
     ]
    }
   ],
   "source": [
    "# test my_tokenize\n",
    "print(batman.content[0])\n",
    "print(' '.join(my_tokenize(batman.content[0])))"
   ]
  },
  {
   "cell_type": "markdown",
   "metadata": {},
   "source": [
    "### investigate tokenize data with Tokenizer"
   ]
  },
  {
   "cell_type": "code",
   "execution_count": 89,
   "metadata": {},
   "outputs": [
    {
     "data": {
      "text/plain": [
       "<Axes: >"
      ]
     },
     "execution_count": 89,
     "metadata": {},
     "output_type": "execute_result"
    },
    {
     "data": {
      "image/png": "[encoded data removed]",
      "text/plain": [
       "<Figure size 640x480 with 1 Axes>"
      ]
     },
     "metadata": {},
     "output_type": "display_data"
    }
   ],
   "source": [
    "# old tokenization before add new rules\n",
    "token_string = X_train['content'].map(my_old_tokenize)\n",
    "words = []\n",
    "for string in token_string:\n",
    "  for word in string:\n",
    "    if word not in stop_words:\n",
    "      words.append(word)\n",
    "\n",
    "words = pd.Series(words)\n",
    "words.value_counts().head(20).plot(kind='barh')"
   ]
  },
  {
   "cell_type": "markdown",
   "metadata": {},
   "source": [
    "#### Found that `[` and `]` have a lot frequency and no useful information so will add new rules to remove in  `my_tokenizer`"
   ]
  },
  {
   "cell_type": "code",
   "execution_count": 90,
   "metadata": {},
   "outputs": [
    {
     "data": {
      "text/plain": [
       "<Axes: >"
      ]
     },
     "execution_count": 90,
     "metadata": {},
     "output_type": "execute_result"
    },
    {
     "data": {
      "image/png": "[encoded data removed]",
      "text/plain": [
       "<Figure size 640x480 with 1 Axes>"
      ]
     },
     "metadata": {},
     "output_type": "display_data"
    }
   ],
   "source": [
    "token_string = X_train['content'].map(my_tokenize)\n",
    "words = []\n",
    "for string in token_string:\n",
    "  for word in string:\n",
    "    if word not in stop_words:\n",
    "      words.append(word)\n",
    "\n",
    "words = pd.Series(words)\n",
    "words.value_counts().head(20).plot(kind='barh')"
   ]
  },
  {
   "cell_type": "code",
   "execution_count": 91,
   "metadata": {},
   "outputs": [
    {
     "data": {
      "text/html": [
       "<div>\n",
       "<style scoped>\n",
       "    .dataframe tbody tr th:only-of-type {\n",
       "        vertical-align: middle;\n",
       "    }\n",
       "\n",
       "    .dataframe tbody tr th {\n",
       "        vertical-align: top;\n",
       "    }\n",
       "\n",
       "    .dataframe thead th {\n",
       "        text-align: right;\n",
       "    }\n",
       "</style>\n",
       "<table border=\"1\" class=\"dataframe\">\n",
       "  <thead>\n",
       "    <tr style=\"text-align: right;\">\n",
       "      <th></th>\n",
       "      <th>\\</th>\n",
       "      <th>\\#</th>\n",
       "      <th>\\*</th>\n",
       "      <th>\\*.</th>\n",
       "      <th>\\*\\*\\*\\*\\*\\*</th>\n",
       "      <th>\\_\\_\\_\\_\\_\\_\\_\\_\\_\\_\\_\\_\\_\\_\\_\\_\\_\\_\\_\\_\\_\\_\\_\\_\\_\\_\\_\\_\\_\\_</th>\n",
       "      <th>^</th>\n",
       "      <th>^_^</th>\n",
       "      <th>^_~</th>\n",
       "      <th>_</th>\n",
       "      <th>...</th>\n",
       "      <th>zemo</th>\n",
       "      <th>zero</th>\n",
       "      <th>zimbabwean</th>\n",
       "      <th>zodiac</th>\n",
       "      <th>zombie</th>\n",
       "      <th>zone</th>\n",
       "      <th>zsasz</th>\n",
       "      <th>zsjl</th>\n",
       "      <th>zur</th>\n",
       "      <th>zur-en-arrh</th>\n",
       "    </tr>\n",
       "  </thead>\n",
       "  <tbody>\n",
       "    <tr>\n",
       "      <th>0</th>\n",
       "      <td>0</td>\n",
       "      <td>0</td>\n",
       "      <td>0</td>\n",
       "      <td>0</td>\n",
       "      <td>0</td>\n",
       "      <td>0</td>\n",
       "      <td>0</td>\n",
       "      <td>0</td>\n",
       "      <td>0</td>\n",
       "      <td>0</td>\n",
       "      <td>...</td>\n",
       "      <td>0</td>\n",
       "      <td>0</td>\n",
       "      <td>0</td>\n",
       "      <td>0</td>\n",
       "      <td>0</td>\n",
       "      <td>0</td>\n",
       "      <td>0</td>\n",
       "      <td>0</td>\n",
       "      <td>0</td>\n",
       "      <td>0</td>\n",
       "    </tr>\n",
       "    <tr>\n",
       "      <th>1</th>\n",
       "      <td>0</td>\n",
       "      <td>0</td>\n",
       "      <td>0</td>\n",
       "      <td>0</td>\n",
       "      <td>0</td>\n",
       "      <td>0</td>\n",
       "      <td>0</td>\n",
       "      <td>0</td>\n",
       "      <td>0</td>\n",
       "      <td>0</td>\n",
       "      <td>...</td>\n",
       "      <td>0</td>\n",
       "      <td>0</td>\n",
       "      <td>0</td>\n",
       "      <td>0</td>\n",
       "      <td>0</td>\n",
       "      <td>0</td>\n",
       "      <td>0</td>\n",
       "      <td>0</td>\n",
       "      <td>0</td>\n",
       "      <td>0</td>\n",
       "    </tr>\n",
       "    <tr>\n",
       "      <th>2</th>\n",
       "      <td>0</td>\n",
       "      <td>0</td>\n",
       "      <td>0</td>\n",
       "      <td>0</td>\n",
       "      <td>0</td>\n",
       "      <td>0</td>\n",
       "      <td>0</td>\n",
       "      <td>0</td>\n",
       "      <td>0</td>\n",
       "      <td>0</td>\n",
       "      <td>...</td>\n",
       "      <td>0</td>\n",
       "      <td>0</td>\n",
       "      <td>0</td>\n",
       "      <td>0</td>\n",
       "      <td>0</td>\n",
       "      <td>0</td>\n",
       "      <td>0</td>\n",
       "      <td>0</td>\n",
       "      <td>0</td>\n",
       "      <td>0</td>\n",
       "    </tr>\n",
       "    <tr>\n",
       "      <th>3</th>\n",
       "      <td>0</td>\n",
       "      <td>0</td>\n",
       "      <td>0</td>\n",
       "      <td>0</td>\n",
       "      <td>0</td>\n",
       "      <td>0</td>\n",
       "      <td>0</td>\n",
       "      <td>0</td>\n",
       "      <td>0</td>\n",
       "      <td>0</td>\n",
       "      <td>...</td>\n",
       "      <td>0</td>\n",
       "      <td>0</td>\n",
       "      <td>0</td>\n",
       "      <td>0</td>\n",
       "      <td>0</td>\n",
       "      <td>0</td>\n",
       "      <td>0</td>\n",
       "      <td>0</td>\n",
       "      <td>0</td>\n",
       "      <td>0</td>\n",
       "    </tr>\n",
       "    <tr>\n",
       "      <th>4</th>\n",
       "      <td>0</td>\n",
       "      <td>0</td>\n",
       "      <td>0</td>\n",
       "      <td>0</td>\n",
       "      <td>0</td>\n",
       "      <td>0</td>\n",
       "      <td>0</td>\n",
       "      <td>0</td>\n",
       "      <td>0</td>\n",
       "      <td>0</td>\n",
       "      <td>...</td>\n",
       "      <td>0</td>\n",
       "      <td>0</td>\n",
       "      <td>0</td>\n",
       "      <td>0</td>\n",
       "      <td>0</td>\n",
       "      <td>0</td>\n",
       "      <td>0</td>\n",
       "      <td>0</td>\n",
       "      <td>0</td>\n",
       "      <td>0</td>\n",
       "    </tr>\n",
       "  </tbody>\n",
       "</table>\n",
       "<p>5 rows × 6904 columns</p>\n",
       "</div>"
      ],
      "text/plain": [
       "   \\  \\#  \\*  \\*.  \\*\\*\\*\\*\\*\\*  \\\n",
       "0  0   0   0    0             0   \n",
       "1  0   0   0    0             0   \n",
       "2  0   0   0    0             0   \n",
       "3  0   0   0    0             0   \n",
       "4  0   0   0    0             0   \n",
       "\n",
       "   \\_\\_\\_\\_\\_\\_\\_\\_\\_\\_\\_\\_\\_\\_\\_\\_\\_\\_\\_\\_\\_\\_\\_\\_\\_\\_\\_\\_\\_\\_  ^  ^_^  ^_~  \\\n",
       "0                                                  0             0    0    0   \n",
       "1                                                  0             0    0    0   \n",
       "2                                                  0             0    0    0   \n",
       "3                                                  0             0    0    0   \n",
       "4                                                  0             0    0    0   \n",
       "\n",
       "   _  ...  zemo  zero  zimbabwean  zodiac  zombie  zone  zsasz  zsjl  zur  \\\n",
       "0  0  ...     0     0           0       0       0     0      0     0    0   \n",
       "1  0  ...     0     0           0       0       0     0      0     0    0   \n",
       "2  0  ...     0     0           0       0       0     0      0     0    0   \n",
       "3  0  ...     0     0           0       0       0     0      0     0    0   \n",
       "4  0  ...     0     0           0       0       0     0      0     0    0   \n",
       "\n",
       "   zur-en-arrh  \n",
       "0            0  \n",
       "1            0  \n",
       "2            0  \n",
       "3            0  \n",
       "4            0  \n",
       "\n",
       "[5 rows x 6904 columns]"
      ]
     },
     "execution_count": 91,
     "metadata": {},
     "output_type": "execute_result"
    }
   ],
   "source": [
    "cvec = CountVectorizer(tokenizer=my_tokenize, token_pattern=None)\n",
    "# cvec = CountVectorizer()\n",
    "cvec.fit(X_train['content'])\n",
    "test_cvec = cvec.transform(X_train['content'])\n",
    "cvec.get_feature_names_out()\n",
    "cvec_df = pd.DataFrame(test_cvec.todense(), columns=cvec.get_feature_names_out())\n",
    "cvec_df.head()"
   ]
  },
  {
   "cell_type": "code",
   "execution_count": 92,
   "metadata": {},
   "outputs": [
    {
     "data": {
      "text/html": [
       "<div>\n",
       "<style scoped>\n",
       "    .dataframe tbody tr th:only-of-type {\n",
       "        vertical-align: middle;\n",
       "    }\n",
       "\n",
       "    .dataframe tbody tr th {\n",
       "        vertical-align: top;\n",
       "    }\n",
       "\n",
       "    .dataframe thead th {\n",
       "        text-align: right;\n",
       "    }\n",
       "</style>\n",
       "<table border=\"1\" class=\"dataframe\">\n",
       "  <thead>\n",
       "    <tr style=\"text-align: right;\">\n",
       "      <th></th>\n",
       "      <th>\\</th>\n",
       "      <th>\\#</th>\n",
       "      <th>\\*</th>\n",
       "      <th>\\*.</th>\n",
       "      <th>\\*\\*\\*\\*\\*\\*</th>\n",
       "      <th>\\_\\_\\_\\_\\_\\_\\_\\_\\_\\_\\_\\_\\_\\_\\_\\_\\_\\_\\_\\_\\_\\_\\_\\_\\_\\_\\_\\_\\_\\_</th>\n",
       "      <th>^</th>\n",
       "      <th>^_^</th>\n",
       "      <th>^_~</th>\n",
       "      <th>_</th>\n",
       "      <th>...</th>\n",
       "      <th>zemo</th>\n",
       "      <th>zero</th>\n",
       "      <th>zimbabwean</th>\n",
       "      <th>zodiac</th>\n",
       "      <th>zombie</th>\n",
       "      <th>zone</th>\n",
       "      <th>zsasz</th>\n",
       "      <th>zsjl</th>\n",
       "      <th>zur</th>\n",
       "      <th>zur-en-arrh</th>\n",
       "    </tr>\n",
       "  </thead>\n",
       "  <tbody>\n",
       "    <tr>\n",
       "      <th>0</th>\n",
       "      <td>0.0</td>\n",
       "      <td>0.0</td>\n",
       "      <td>0.0</td>\n",
       "      <td>0.0</td>\n",
       "      <td>0.0</td>\n",
       "      <td>0.0</td>\n",
       "      <td>0.0</td>\n",
       "      <td>0.0</td>\n",
       "      <td>0.0</td>\n",
       "      <td>0.0</td>\n",
       "      <td>...</td>\n",
       "      <td>0.0</td>\n",
       "      <td>0.0</td>\n",
       "      <td>0.0</td>\n",
       "      <td>0.0</td>\n",
       "      <td>0.0</td>\n",
       "      <td>0.0</td>\n",
       "      <td>0.0</td>\n",
       "      <td>0.0</td>\n",
       "      <td>0.0</td>\n",
       "      <td>0.0</td>\n",
       "    </tr>\n",
       "    <tr>\n",
       "      <th>1</th>\n",
       "      <td>0.0</td>\n",
       "      <td>0.0</td>\n",
       "      <td>0.0</td>\n",
       "      <td>0.0</td>\n",
       "      <td>0.0</td>\n",
       "      <td>0.0</td>\n",
       "      <td>0.0</td>\n",
       "      <td>0.0</td>\n",
       "      <td>0.0</td>\n",
       "      <td>0.0</td>\n",
       "      <td>...</td>\n",
       "      <td>0.0</td>\n",
       "      <td>0.0</td>\n",
       "      <td>0.0</td>\n",
       "      <td>0.0</td>\n",
       "      <td>0.0</td>\n",
       "      <td>0.0</td>\n",
       "      <td>0.0</td>\n",
       "      <td>0.0</td>\n",
       "      <td>0.0</td>\n",
       "      <td>0.0</td>\n",
       "    </tr>\n",
       "    <tr>\n",
       "      <th>2</th>\n",
       "      <td>0.0</td>\n",
       "      <td>0.0</td>\n",
       "      <td>0.0</td>\n",
       "      <td>0.0</td>\n",
       "      <td>0.0</td>\n",
       "      <td>0.0</td>\n",
       "      <td>0.0</td>\n",
       "      <td>0.0</td>\n",
       "      <td>0.0</td>\n",
       "      <td>0.0</td>\n",
       "      <td>...</td>\n",
       "      <td>0.0</td>\n",
       "      <td>0.0</td>\n",
       "      <td>0.0</td>\n",
       "      <td>0.0</td>\n",
       "      <td>0.0</td>\n",
       "      <td>0.0</td>\n",
       "      <td>0.0</td>\n",
       "      <td>0.0</td>\n",
       "      <td>0.0</td>\n",
       "      <td>0.0</td>\n",
       "    </tr>\n",
       "    <tr>\n",
       "      <th>3</th>\n",
       "      <td>0.0</td>\n",
       "      <td>0.0</td>\n",
       "      <td>0.0</td>\n",
       "      <td>0.0</td>\n",
       "      <td>0.0</td>\n",
       "      <td>0.0</td>\n",
       "      <td>0.0</td>\n",
       "      <td>0.0</td>\n",
       "      <td>0.0</td>\n",
       "      <td>0.0</td>\n",
       "      <td>...</td>\n",
       "      <td>0.0</td>\n",
       "      <td>0.0</td>\n",
       "      <td>0.0</td>\n",
       "      <td>0.0</td>\n",
       "      <td>0.0</td>\n",
       "      <td>0.0</td>\n",
       "      <td>0.0</td>\n",
       "      <td>0.0</td>\n",
       "      <td>0.0</td>\n",
       "      <td>0.0</td>\n",
       "    </tr>\n",
       "    <tr>\n",
       "      <th>4</th>\n",
       "      <td>0.0</td>\n",
       "      <td>0.0</td>\n",
       "      <td>0.0</td>\n",
       "      <td>0.0</td>\n",
       "      <td>0.0</td>\n",
       "      <td>0.0</td>\n",
       "      <td>0.0</td>\n",
       "      <td>0.0</td>\n",
       "      <td>0.0</td>\n",
       "      <td>0.0</td>\n",
       "      <td>...</td>\n",
       "      <td>0.0</td>\n",
       "      <td>0.0</td>\n",
       "      <td>0.0</td>\n",
       "      <td>0.0</td>\n",
       "      <td>0.0</td>\n",
       "      <td>0.0</td>\n",
       "      <td>0.0</td>\n",
       "      <td>0.0</td>\n",
       "      <td>0.0</td>\n",
       "      <td>0.0</td>\n",
       "    </tr>\n",
       "  </tbody>\n",
       "</table>\n",
       "<p>5 rows × 6904 columns</p>\n",
       "</div>"
      ],
      "text/plain": [
       "     \\   \\#   \\*  \\*.  \\*\\*\\*\\*\\*\\*  \\\n",
       "0  0.0  0.0  0.0  0.0           0.0   \n",
       "1  0.0  0.0  0.0  0.0           0.0   \n",
       "2  0.0  0.0  0.0  0.0           0.0   \n",
       "3  0.0  0.0  0.0  0.0           0.0   \n",
       "4  0.0  0.0  0.0  0.0           0.0   \n",
       "\n",
       "   \\_\\_\\_\\_\\_\\_\\_\\_\\_\\_\\_\\_\\_\\_\\_\\_\\_\\_\\_\\_\\_\\_\\_\\_\\_\\_\\_\\_\\_\\_    ^  ^_^  \\\n",
       "0                                                0.0             0.0  0.0   \n",
       "1                                                0.0             0.0  0.0   \n",
       "2                                                0.0             0.0  0.0   \n",
       "3                                                0.0             0.0  0.0   \n",
       "4                                                0.0             0.0  0.0   \n",
       "\n",
       "   ^_~    _  ...  zemo  zero  zimbabwean  zodiac  zombie  zone  zsasz  zsjl  \\\n",
       "0  0.0  0.0  ...   0.0   0.0         0.0     0.0     0.0   0.0    0.0   0.0   \n",
       "1  0.0  0.0  ...   0.0   0.0         0.0     0.0     0.0   0.0    0.0   0.0   \n",
       "2  0.0  0.0  ...   0.0   0.0         0.0     0.0     0.0   0.0    0.0   0.0   \n",
       "3  0.0  0.0  ...   0.0   0.0         0.0     0.0     0.0   0.0    0.0   0.0   \n",
       "4  0.0  0.0  ...   0.0   0.0         0.0     0.0     0.0   0.0    0.0   0.0   \n",
       "\n",
       "   zur  zur-en-arrh  \n",
       "0  0.0          0.0  \n",
       "1  0.0          0.0  \n",
       "2  0.0          0.0  \n",
       "3  0.0          0.0  \n",
       "4  0.0          0.0  \n",
       "\n",
       "[5 rows x 6904 columns]"
      ]
     },
     "execution_count": 92,
     "metadata": {},
     "output_type": "execute_result"
    }
   ],
   "source": [
    "tf = TfidfVectorizer(tokenizer=my_tokenize, token_pattern=None)\n",
    "\n",
    "# tf = TfidfVectorizer()\n",
    "tf.fit(X_train['content'])\n",
    "test_tf = tf.transform(X_train['content'])\n",
    "tf_df = pd.DataFrame(test_tf.toarray(), columns=tf.get_feature_names_out())\n",
    "tf_df.head()"
   ]
  },
  {
   "cell_type": "markdown",
   "metadata": {},
   "source": [
    "### Pipeline modeling to check all parameters scope to find best params"
   ]
  },
  {
   "cell_type": "code",
   "execution_count": 93,
   "metadata": {},
   "outputs": [],
   "source": [
    "# Let's set a pipeline up with two stages:\n",
    "# 1. CountVectorizer (transformer)\n",
    "# 2.1 Multinomial Naive Bayes (estimator)\n",
    "# 2.2 Random Forest classifiers (estimator)\n",
    "\n",
    "cvec = CountVectorizer(tokenizer=my_tokenize, token_pattern=None)\n",
    "mnb = MultinomialNB()\n",
    "rf = RandomForestClassifier()\n",
    "\n",
    "pipe_rf = Pipeline([\n",
    "    ('cvec', cvec),\n",
    "    ('rf', rf)\n",
    "])\n",
    "\n",
    "pipe_mnb = Pipeline([\n",
    "    ('cvec', cvec),\n",
    "    ('mnb', mnb)\n",
    "])\n",
    "\n",
    "# Set up a gridsearch for each model\n",
    "pipe_rf_params = {\n",
    "  'cvec__max_features': [1000, 2000, 3000],\n",
    "  'cvec__min_df': [3],\n",
    "  'cvec__max_df': [.9, .95],\n",
    "  'cvec__ngram_range': [(1,2)],\n",
    "  'rf__n_estimators': [100, 150, 200],\n",
    "  'rf__max_depth': [None, 1, 5],\n",
    "  'rf__min_samples_split': [2, 3, 4]\n",
    "}\n",
    "\n",
    "pipe_mnb_params = {\n",
    "  'cvec__max_features': [1000, 2000, 3000],\n",
    "  'cvec__min_df': [2, 3],\n",
    "  'cvec__max_df': [.9, .95],\n",
    "  'cvec__ngram_range': [(1,2)],\n",
    "  'mnb__alpha': [1, 2]\n",
    "}\n"
   ]
  },
  {
   "cell_type": "code",
   "execution_count": 94,
   "metadata": {},
   "outputs": [],
   "source": [
    "# Instantiate GridSearchCV.\n",
    "gs_rf = GridSearchCV(pipe_rf, param_grid=pipe_rf_params, cv=5, verbose=1)\n",
    "gs_mnb = GridSearchCV(pipe_mnb, param_grid=pipe_mnb_params, cv=5, verbose=1)"
   ]
  },
  {
   "cell_type": "code",
   "execution_count": 95,
   "metadata": {},
   "outputs": [
    {
     "name": "stdout",
     "output_type": "stream",
     "text": [
      "Fitting 5 folds for each of 162 candidates, totalling 810 fits\n"
     ]
    }
   ],
   "source": [
    "# do gridsearch for random forest\n",
    "gs_rf.fit(X_train['content'], y_train)"
   ]
  },
  {
   "cell_type": "code",
   "execution_count": null,
   "metadata": {},
   "outputs": [
    {
     "name": "stdout",
     "output_type": "stream",
     "text": [
      "{'cvec__max_df': 0.95, 'cvec__max_features': 3000, 'cvec__min_df': 3, 'cvec__ngram_range': (1, 2), 'rf__max_depth': None, 'rf__min_samples_split': 3, 'rf__n_estimators': 100}\n"
     ]
    },
    {
     "data": {
      "text/plain": [
       "0.8541181154611811"
      ]
     },
     "execution_count": 339,
     "metadata": {},
     "output_type": "execute_result"
    }
   ],
   "source": [
    "print(gs_rf.best_params_)\n",
    "gs_rf.best_score_"
   ]
  },
  {
   "cell_type": "code",
   "execution_count": null,
   "metadata": {},
   "outputs": [
    {
     "data": {
      "text/plain": [
       "(0.9890590809628009, 0.8402625820568927)"
      ]
     },
     "execution_count": 340,
     "metadata": {},
     "output_type": "execute_result"
    }
   ],
   "source": [
    "gs_rf.score(X_train['content'], y_train), gs_rf.score(X_test['content'], y_test)"
   ]
  },
  {
   "cell_type": "code",
   "execution_count": null,
   "metadata": {},
   "outputs": [],
   "source": [
    "rf_pred = gs_rf.predict(X_test['content'])"
   ]
  },
  {
   "cell_type": "code",
   "execution_count": null,
   "metadata": {},
   "outputs": [
    {
     "data": {
      "text/plain": [
       "Text(0, 0.5, 'Actual Iron man 1')"
      ]
     },
     "execution_count": 342,
     "metadata": {},
     "output_type": "execute_result"
    },
    {
     "data": {
      "image/png": "[encoded data removed]",
      "text/plain": [
       "<Figure size 640x480 with 2 Axes>"
      ]
     },
     "metadata": {},
     "output_type": "display_data"
    }
   ],
   "source": [
    "# examine the confusion matrix\n",
    "from sklearn.metrics import confusion_matrix, ConfusionMatrixDisplay\n",
    "\n",
    "cm = confusion_matrix(y_test, rf_pred)\n",
    "ConfusionMatrixDisplay(cm).plot()\n",
    "plt.title('Random Forest with CountVectorizer')\n",
    "plt.xlabel('Predicted Iron Man 1')\n",
    "plt.ylabel('Actual Iron man 1')"
   ]
  },
  {
   "cell_type": "code",
   "execution_count": null,
   "metadata": {},
   "outputs": [
    {
     "data": {
      "text/plain": [
       "0.8475991649269312"
      ]
     },
     "execution_count": 343,
     "metadata": {},
     "output_type": "execute_result"
    }
   ],
   "source": [
    "# check f1 score since in this case didn't have much different between precision and recall\n",
    "# also precision and recall are both important in this case\n",
    "from sklearn.metrics import f1_score\n",
    "f1_score(y_test, rf_pred)"
   ]
  },
  {
   "cell_type": "code",
   "execution_count": null,
   "metadata": {},
   "outputs": [
    {
     "name": "stdout",
     "output_type": "stream",
     "text": [
      "Fitting 5 folds for each of 24 candidates, totalling 120 fits\n"
     ]
    },
    {
     "data": {
      "text/html": [
       "<style>#sk-container-id-10 {color: black;}#sk-container-id-10 pre{padding: 0;}#sk-container-id-10 div.sk-toggleable {background-color: white;}#sk-container-id-10 label.sk-toggleable__label {cursor: pointer;display: block;width: 100%;margin-bottom: 0;padding: 0.3em;box-sizing: border-box;text-align: center;}#sk-container-id-10 label.sk-toggleable__label-arrow:before {content: \"▸\";float: left;margin-right: 0.25em;color: #696969;}#sk-container-id-10 label.sk-toggleable__label-arrow:hover:before {color: black;}#sk-container-id-10 div.sk-estimator:hover label.sk-toggleable__label-arrow:before {color: black;}#sk-container-id-10 div.sk-toggleable__content {max-height: 0;max-width: 0;overflow: hidden;text-align: left;background-color: #f0f8ff;}#sk-container-id-10 div.sk-toggleable__content pre {margin: 0.2em;color: black;border-radius: 0.25em;background-color: #f0f8ff;}#sk-container-id-10 input.sk-toggleable__control:checked~div.sk-toggleable__content {max-height: 200px;max-width: 100%;overflow: auto;}#sk-container-id-10 input.sk-toggleable__control:checked~label.sk-toggleable__label-arrow:before {content: \"▾\";}#sk-container-id-10 div.sk-estimator input.sk-toggleable__control:checked~label.sk-toggleable__label {background-color: #d4ebff;}#sk-container-id-10 div.sk-label input.sk-toggleable__control:checked~label.sk-toggleable__label {background-color: #d4ebff;}#sk-container-id-10 input.sk-hidden--visually {border: 0;clip: rect(1px 1px 1px 1px);clip: rect(1px, 1px, 1px, 1px);height: 1px;margin: -1px;overflow: hidden;padding: 0;position: absolute;width: 1px;}#sk-container-id-10 div.sk-estimator {font-family: monospace;background-color: #f0f8ff;border: 1px dotted black;border-radius: 0.25em;box-sizing: border-box;margin-bottom: 0.5em;}#sk-container-id-10 div.sk-estimator:hover {background-color: #d4ebff;}#sk-container-id-10 div.sk-parallel-item::after {content: \"\";width: 100%;border-bottom: 1px solid gray;flex-grow: 1;}#sk-container-id-10 div.sk-label:hover label.sk-toggleable__label {background-color: #d4ebff;}#sk-container-id-10 div.sk-serial::before {content: \"\";position: absolute;border-left: 1px solid gray;box-sizing: border-box;top: 0;bottom: 0;left: 50%;z-index: 0;}#sk-container-id-10 div.sk-serial {display: flex;flex-direction: column;align-items: center;background-color: white;padding-right: 0.2em;padding-left: 0.2em;position: relative;}#sk-container-id-10 div.sk-item {position: relative;z-index: 1;}#sk-container-id-10 div.sk-parallel {display: flex;align-items: stretch;justify-content: center;background-color: white;position: relative;}#sk-container-id-10 div.sk-item::before, #sk-container-id-10 div.sk-parallel-item::before {content: \"\";position: absolute;border-left: 1px solid gray;box-sizing: border-box;top: 0;bottom: 0;left: 50%;z-index: -1;}#sk-container-id-10 div.sk-parallel-item {display: flex;flex-direction: column;z-index: 1;position: relative;background-color: white;}#sk-container-id-10 div.sk-parallel-item:first-child::after {align-self: flex-end;width: 50%;}#sk-container-id-10 div.sk-parallel-item:last-child::after {align-self: flex-start;width: 50%;}#sk-container-id-10 div.sk-parallel-item:only-child::after {width: 0;}#sk-container-id-10 div.sk-dashed-wrapped {border: 1px dashed gray;margin: 0 0.4em 0.5em 0.4em;box-sizing: border-box;padding-bottom: 0.4em;background-color: white;}#sk-container-id-10 div.sk-label label {font-family: monospace;font-weight: bold;display: inline-block;line-height: 1.2em;}#sk-container-id-10 div.sk-label-container {text-align: center;}#sk-container-id-10 div.sk-container {/* jupyter's `normalize.less` sets `[hidden] { display: none; }` but bootstrap.min.css set `[hidden] { display: none !important; }` so we also need the `!important` here to be able to override the default hidden behavior on the sphinx rendered scikit-learn.org. See: https://github.com/scikit-learn/scikit-learn/issues/21755 */display: inline-block !important;position: relative;}#sk-container-id-10 div.sk-text-repr-fallback {display: none;}</style><div id=\"sk-container-id-10\" class=\"sk-top-container\"><div class=\"sk-text-repr-fallback\"><pre>GridSearchCV(cv=5,\n",
       "             estimator=Pipeline(steps=[(&#x27;cvec&#x27;,\n",
       "                                        CountVectorizer(token_pattern=None,\n",
       "                                                        tokenizer=&lt;function my_tokenize at 0x2b2a5a8e0&gt;)),\n",
       "                                       (&#x27;mnb&#x27;, MultinomialNB())]),\n",
       "             param_grid={&#x27;cvec__max_df&#x27;: [0.9, 0.95],\n",
       "                         &#x27;cvec__max_features&#x27;: [1000, 2000, 3000],\n",
       "                         &#x27;cvec__min_df&#x27;: [2, 3], &#x27;cvec__ngram_range&#x27;: [(1, 2)],\n",
       "                         &#x27;mnb__alpha&#x27;: [1, 2]},\n",
       "             verbose=1)</pre><b>In a Jupyter environment, please rerun this cell to show the HTML representation or trust the notebook. <br />On GitHub, the HTML representation is unable to render, please try loading this page with nbviewer.org.</b></div><div class=\"sk-container\" hidden><div class=\"sk-item sk-dashed-wrapped\"><div class=\"sk-label-container\"><div class=\"sk-label sk-toggleable\"><input class=\"sk-toggleable__control sk-hidden--visually\" id=\"sk-estimator-id-27\" type=\"checkbox\" ><label for=\"sk-estimator-id-27\" class=\"sk-toggleable__label sk-toggleable__label-arrow\">GridSearchCV</label><div class=\"sk-toggleable__content\"><pre>GridSearchCV(cv=5,\n",
       "             estimator=Pipeline(steps=[(&#x27;cvec&#x27;,\n",
       "                                        CountVectorizer(token_pattern=None,\n",
       "                                                        tokenizer=&lt;function my_tokenize at 0x2b2a5a8e0&gt;)),\n",
       "                                       (&#x27;mnb&#x27;, MultinomialNB())]),\n",
       "             param_grid={&#x27;cvec__max_df&#x27;: [0.9, 0.95],\n",
       "                         &#x27;cvec__max_features&#x27;: [1000, 2000, 3000],\n",
       "                         &#x27;cvec__min_df&#x27;: [2, 3], &#x27;cvec__ngram_range&#x27;: [(1, 2)],\n",
       "                         &#x27;mnb__alpha&#x27;: [1, 2]},\n",
       "             verbose=1)</pre></div></div></div><div class=\"sk-parallel\"><div class=\"sk-parallel-item\"><div class=\"sk-item\"><div class=\"sk-label-container\"><div class=\"sk-label sk-toggleable\"><input class=\"sk-toggleable__control sk-hidden--visually\" id=\"sk-estimator-id-28\" type=\"checkbox\" ><label for=\"sk-estimator-id-28\" class=\"sk-toggleable__label sk-toggleable__label-arrow\">estimator: Pipeline</label><div class=\"sk-toggleable__content\"><pre>Pipeline(steps=[(&#x27;cvec&#x27;,\n",
       "                 CountVectorizer(token_pattern=None,\n",
       "                                 tokenizer=&lt;function my_tokenize at 0x2b2a5a8e0&gt;)),\n",
       "                (&#x27;mnb&#x27;, MultinomialNB())])</pre></div></div></div><div class=\"sk-serial\"><div class=\"sk-item\"><div class=\"sk-serial\"><div class=\"sk-item\"><div class=\"sk-estimator sk-toggleable\"><input class=\"sk-toggleable__control sk-hidden--visually\" id=\"sk-estimator-id-29\" type=\"checkbox\" ><label for=\"sk-estimator-id-29\" class=\"sk-toggleable__label sk-toggleable__label-arrow\">CountVectorizer</label><div class=\"sk-toggleable__content\"><pre>CountVectorizer(token_pattern=None,\n",
       "                tokenizer=&lt;function my_tokenize at 0x2b2a5a8e0&gt;)</pre></div></div></div><div class=\"sk-item\"><div class=\"sk-estimator sk-toggleable\"><input class=\"sk-toggleable__control sk-hidden--visually\" id=\"sk-estimator-id-30\" type=\"checkbox\" ><label for=\"sk-estimator-id-30\" class=\"sk-toggleable__label sk-toggleable__label-arrow\">MultinomialNB</label><div class=\"sk-toggleable__content\"><pre>MultinomialNB()</pre></div></div></div></div></div></div></div></div></div></div></div></div>"
      ],
      "text/plain": [
       "GridSearchCV(cv=5,\n",
       "             estimator=Pipeline(steps=[('cvec',\n",
       "                                        CountVectorizer(token_pattern=None,\n",
       "                                                        tokenizer=<function my_tokenize at 0x2b2a5a8e0>)),\n",
       "                                       ('mnb', MultinomialNB())]),\n",
       "             param_grid={'cvec__max_df': [0.9, 0.95],\n",
       "                         'cvec__max_features': [1000, 2000, 3000],\n",
       "                         'cvec__min_df': [2, 3], 'cvec__ngram_range': [(1, 2)],\n",
       "                         'mnb__alpha': [1, 2]},\n",
       "             verbose=1)"
      ]
     },
     "execution_count": 344,
     "metadata": {},
     "output_type": "execute_result"
    }
   ],
   "source": [
    "# do gridsearch for multinomial naive bayes\n",
    "gs_mnb.fit(X_train['content'], y_train)"
   ]
  },
  {
   "cell_type": "code",
   "execution_count": null,
   "metadata": {},
   "outputs": [
    {
     "name": "stdout",
     "output_type": "stream",
     "text": [
      "{'cvec__max_df': 0.9, 'cvec__max_features': 3000, 'cvec__min_df': 2, 'cvec__ngram_range': (1, 2), 'mnb__alpha': 2}\n"
     ]
    },
    {
     "data": {
      "text/plain": [
       "0.8563264764432648"
      ]
     },
     "execution_count": 345,
     "metadata": {},
     "output_type": "execute_result"
    }
   ],
   "source": [
    "print(gs_mnb.best_params_)\n",
    "gs_mnb.best_score_"
   ]
  },
  {
   "cell_type": "code",
   "execution_count": null,
   "metadata": {},
   "outputs": [
    {
     "data": {
      "text/plain": [
       "(0.912472647702407, 0.8708971553610503)"
      ]
     },
     "execution_count": 346,
     "metadata": {},
     "output_type": "execute_result"
    }
   ],
   "source": [
    "gs_mnb.score(X_train['content'], y_train), gs_mnb.score(X_test['content'], y_test)"
   ]
  },
  {
   "cell_type": "code",
   "execution_count": null,
   "metadata": {},
   "outputs": [
    {
     "data": {
      "text/plain": [
       "Text(0, 0.5, 'Actual Iron man 1')"
      ]
     },
     "execution_count": 347,
     "metadata": {},
     "output_type": "execute_result"
    },
    {
     "data": {
      "image/png": "[encoded data removed]",
      "text/plain": [
       "<Figure size 640x480 with 2 Axes>"
      ]
     },
     "metadata": {},
     "output_type": "display_data"
    }
   ],
   "source": [
    "# examine the confusion matrix\n",
    "from sklearn.metrics import confusion_matrix, ConfusionMatrixDisplay \n",
    "\n",
    "mnb_pred = gs_mnb.predict(X_test['content'])\n",
    "cm = confusion_matrix(y_test, mnb_pred)\n",
    "ConfusionMatrixDisplay(cm).plot()\n",
    "plt.title('Multinomial Naive Bayes with CountVectorizer')\n",
    "plt.xlabel('Predicted Iron Man 1')\n",
    "plt.ylabel('Actual Iron man 1')"
   ]
  },
  {
   "cell_type": "code",
   "execution_count": null,
   "metadata": {},
   "outputs": [
    {
     "data": {
      "text/plain": [
       "0.8747346072186837"
      ]
     },
     "execution_count": 348,
     "metadata": {},
     "output_type": "execute_result"
    }
   ],
   "source": [
    "# check f1 score since in this case didn't have much different between precision and recall\n",
    "# also precision and recall are both important in this case\n",
    "from sklearn.metrics import f1_score\n",
    "f1_score(y_test, mnb_pred)"
   ]
  },
  {
   "cell_type": "code",
   "execution_count": null,
   "metadata": {},
   "outputs": [
    {
     "data": {
      "text/html": [
       "<div>\n",
       "<style scoped>\n",
       "    .dataframe tbody tr th:only-of-type {\n",
       "        vertical-align: middle;\n",
       "    }\n",
       "\n",
       "    .dataframe tbody tr th {\n",
       "        vertical-align: top;\n",
       "    }\n",
       "\n",
       "    .dataframe thead th {\n",
       "        text-align: right;\n",
       "    }\n",
       "</style>\n",
       "<table border=\"1\" class=\"dataframe\">\n",
       "  <thead>\n",
       "    <tr style=\"text-align: right;\">\n",
       "      <th></th>\n",
       "      <th>model</th>\n",
       "      <th>tokenizer</th>\n",
       "      <th>best_params</th>\n",
       "      <th>train_score</th>\n",
       "      <th>test_score</th>\n",
       "      <th>f1_score</th>\n",
       "    </tr>\n",
       "  </thead>\n",
       "  <tbody>\n",
       "    <tr>\n",
       "      <th>0</th>\n",
       "      <td>Random Forest</td>\n",
       "      <td>Count Vectorizer</td>\n",
       "      <td>{'cvec__max_df': 0.95, 'cvec__max_features': 3...</td>\n",
       "      <td>0.989059</td>\n",
       "      <td>0.840263</td>\n",
       "      <td>0.847599</td>\n",
       "    </tr>\n",
       "    <tr>\n",
       "      <th>1</th>\n",
       "      <td>Multinomial Naive Bayes</td>\n",
       "      <td>Count Vectorizer</td>\n",
       "      <td>{'cvec__max_df': 0.9, 'cvec__max_features': 30...</td>\n",
       "      <td>0.912473</td>\n",
       "      <td>0.870897</td>\n",
       "      <td>0.874735</td>\n",
       "    </tr>\n",
       "  </tbody>\n",
       "</table>\n",
       "</div>"
      ],
      "text/plain": [
       "                     model         tokenizer  \\\n",
       "0            Random Forest  Count Vectorizer   \n",
       "1  Multinomial Naive Bayes  Count Vectorizer   \n",
       "\n",
       "                                         best_params  train_score  test_score  \\\n",
       "0  {'cvec__max_df': 0.95, 'cvec__max_features': 3...     0.989059    0.840263   \n",
       "1  {'cvec__max_df': 0.9, 'cvec__max_features': 30...     0.912473    0.870897   \n",
       "\n",
       "   f1_score  \n",
       "0  0.847599  \n",
       "1  0.874735  "
      ]
     },
     "execution_count": 349,
     "metadata": {},
     "output_type": "execute_result"
    }
   ],
   "source": [
    "# lets compare between two models with DataFrame\n",
    "# create dataframe for random forest\n",
    "rf_df = pd.DataFrame({\n",
    "    'model': ['Random Forest'],\n",
    "    'tokenizer': ['Count Vectorizer'],\n",
    "    'best_params': [gs_rf.best_params_],\n",
    "    'train_score': [gs_rf.score(X_train['content'], y_train)],\n",
    "    'test_score': [gs_rf.score(X_test['content'], y_test)],\n",
    "    'f1_score': [f1_score(y_test, rf_pred)]\n",
    "})\n",
    "# create dataframe for mnb test\n",
    "mnb_df = pd.DataFrame({\n",
    "    'model': ['Multinomial Naive Bayes'],\n",
    "    'tokenizer': ['Count Vectorizer'],\n",
    "    'best_params': [gs_mnb.best_params_],\n",
    "    'train_score': [gs_mnb.score(X_train['content'], y_train)],\n",
    "    'test_score': [gs_mnb.score(X_test['content'], y_test)],\n",
    "    'f1_score': [f1_score(y_test, mnb_pred)]\n",
    "})\n",
    "results_df = pd.concat([rf_df, mnb_df], ignore_index=True)\n",
    "results_df\n"
   ]
  },
  {
   "cell_type": "code",
   "execution_count": null,
   "metadata": {},
   "outputs": [],
   "source": [
    "# let's try to use tfidf vectorizer\n",
    "# Let's set a pipeline up with two stages:\n",
    "# 1. tfidfVectorizer (transformer)\n",
    "# 2.1 Multinomial Naive Bayes (estimator)\n",
    "# 2.2 Random Forest classifiers (estimator)\n",
    "\n",
    "tfidf = TfidfVectorizer(tokenizer=my_tokenize, token_pattern=None)\n",
    "mnb = MultinomialNB()\n",
    "rf = RandomForestClassifier()\n",
    "\n",
    "pipe_rf_tf = Pipeline([\n",
    "    ('tfidf', tfidf),\n",
    "    ('rf', rf)\n",
    "])\n",
    "\n",
    "pipe_mnb_tf = Pipeline([\n",
    "    ('tfidf', tfidf),\n",
    "    ('mnb', mnb)\n",
    "])\n",
    "\n",
    "# Set up a gridsearch for each model\n",
    "# use best params from before to scope down params\n",
    "pipe_rf_tf_params = {\n",
    "  'tfidf__max_features': [1000, 2000, 3000],\n",
    "  'tfidf__min_df': [2, 3],\n",
    "  'tfidf__max_df': [.9, .95],\n",
    "  'tfidf__ngram_range': [(1,2)],\n",
    "  'rf__n_estimators': [100, 150],\n",
    "  'rf__max_depth': [None, 1, 5],\n",
    "  'rf__min_samples_split': [2, 3, 4]\n",
    "}\n",
    "\n",
    "pipe_mnb_tf_params = {\n",
    "  'tfidf__max_features': [1000, 2000, 3000],\n",
    "  'tfidf__min_df': [2, 3],\n",
    "  'tfidf__max_df': [.9, .95],\n",
    "  'tfidf__ngram_range': [(1,2)],\n",
    "  'mnb__alpha': [1, 2]\n",
    "}\n"
   ]
  },
  {
   "cell_type": "code",
   "execution_count": null,
   "metadata": {},
   "outputs": [],
   "source": [
    "# Instantiate GridSearchCV.\n",
    "gs_rf_tf = GridSearchCV(pipe_rf_tf, param_grid=pipe_rf_tf_params, cv=5, verbose=1)\n",
    "gs_mnb_tf = GridSearchCV(pipe_mnb_tf, param_grid=pipe_mnb_tf_params, cv=5, verbose=1)"
   ]
  },
  {
   "cell_type": "code",
   "execution_count": null,
   "metadata": {},
   "outputs": [
    {
     "name": "stdout",
     "output_type": "stream",
     "text": [
      "Fitting 5 folds for each of 288 candidates, totalling 1440 fits\n"
     ]
    },
    {
     "data": {
      "text/html": [
       "<style>#sk-container-id-11 {color: black;}#sk-container-id-11 pre{padding: 0;}#sk-container-id-11 div.sk-toggleable {background-color: white;}#sk-container-id-11 label.sk-toggleable__label {cursor: pointer;display: block;width: 100%;margin-bottom: 0;padding: 0.3em;box-sizing: border-box;text-align: center;}#sk-container-id-11 label.sk-toggleable__label-arrow:before {content: \"▸\";float: left;margin-right: 0.25em;color: #696969;}#sk-container-id-11 label.sk-toggleable__label-arrow:hover:before {color: black;}#sk-container-id-11 div.sk-estimator:hover label.sk-toggleable__label-arrow:before {color: black;}#sk-container-id-11 div.sk-toggleable__content {max-height: 0;max-width: 0;overflow: hidden;text-align: left;background-color: #f0f8ff;}#sk-container-id-11 div.sk-toggleable__content pre {margin: 0.2em;color: black;border-radius: 0.25em;background-color: #f0f8ff;}#sk-container-id-11 input.sk-toggleable__control:checked~div.sk-toggleable__content {max-height: 200px;max-width: 100%;overflow: auto;}#sk-container-id-11 input.sk-toggleable__control:checked~label.sk-toggleable__label-arrow:before {content: \"▾\";}#sk-container-id-11 div.sk-estimator input.sk-toggleable__control:checked~label.sk-toggleable__label {background-color: #d4ebff;}#sk-container-id-11 div.sk-label input.sk-toggleable__control:checked~label.sk-toggleable__label {background-color: #d4ebff;}#sk-container-id-11 input.sk-hidden--visually {border: 0;clip: rect(1px 1px 1px 1px);clip: rect(1px, 1px, 1px, 1px);height: 1px;margin: -1px;overflow: hidden;padding: 0;position: absolute;width: 1px;}#sk-container-id-11 div.sk-estimator {font-family: monospace;background-color: #f0f8ff;border: 1px dotted black;border-radius: 0.25em;box-sizing: border-box;margin-bottom: 0.5em;}#sk-container-id-11 div.sk-estimator:hover {background-color: #d4ebff;}#sk-container-id-11 div.sk-parallel-item::after {content: \"\";width: 100%;border-bottom: 1px solid gray;flex-grow: 1;}#sk-container-id-11 div.sk-label:hover label.sk-toggleable__label {background-color: #d4ebff;}#sk-container-id-11 div.sk-serial::before {content: \"\";position: absolute;border-left: 1px solid gray;box-sizing: border-box;top: 0;bottom: 0;left: 50%;z-index: 0;}#sk-container-id-11 div.sk-serial {display: flex;flex-direction: column;align-items: center;background-color: white;padding-right: 0.2em;padding-left: 0.2em;position: relative;}#sk-container-id-11 div.sk-item {position: relative;z-index: 1;}#sk-container-id-11 div.sk-parallel {display: flex;align-items: stretch;justify-content: center;background-color: white;position: relative;}#sk-container-id-11 div.sk-item::before, #sk-container-id-11 div.sk-parallel-item::before {content: \"\";position: absolute;border-left: 1px solid gray;box-sizing: border-box;top: 0;bottom: 0;left: 50%;z-index: -1;}#sk-container-id-11 div.sk-parallel-item {display: flex;flex-direction: column;z-index: 1;position: relative;background-color: white;}#sk-container-id-11 div.sk-parallel-item:first-child::after {align-self: flex-end;width: 50%;}#sk-container-id-11 div.sk-parallel-item:last-child::after {align-self: flex-start;width: 50%;}#sk-container-id-11 div.sk-parallel-item:only-child::after {width: 0;}#sk-container-id-11 div.sk-dashed-wrapped {border: 1px dashed gray;margin: 0 0.4em 0.5em 0.4em;box-sizing: border-box;padding-bottom: 0.4em;background-color: white;}#sk-container-id-11 div.sk-label label {font-family: monospace;font-weight: bold;display: inline-block;line-height: 1.2em;}#sk-container-id-11 div.sk-label-container {text-align: center;}#sk-container-id-11 div.sk-container {/* jupyter's `normalize.less` sets `[hidden] { display: none; }` but bootstrap.min.css set `[hidden] { display: none !important; }` so we also need the `!important` here to be able to override the default hidden behavior on the sphinx rendered scikit-learn.org. See: https://github.com/scikit-learn/scikit-learn/issues/21755 */display: inline-block !important;position: relative;}#sk-container-id-11 div.sk-text-repr-fallback {display: none;}</style><div id=\"sk-container-id-11\" class=\"sk-top-container\"><div class=\"sk-text-repr-fallback\"><pre>GridSearchCV(cv=5,\n",
       "             estimator=Pipeline(steps=[(&#x27;tfidf&#x27;,\n",
       "                                        TfidfVectorizer(token_pattern=None,\n",
       "                                                        tokenizer=&lt;function my_tokenize at 0x2b2a5a8e0&gt;)),\n",
       "                                       (&#x27;rf&#x27;, RandomForestClassifier())]),\n",
       "             param_grid={&#x27;rf__max_depth&#x27;: [None, 1, 3, 5],\n",
       "                         &#x27;rf__min_samples_split&#x27;: [2, 3, 4],\n",
       "                         &#x27;rf__n_estimators&#x27;: [100, 150],\n",
       "                         &#x27;tfidf__max_df&#x27;: [0.9, 0.95],\n",
       "                         &#x27;tfidf__max_features&#x27;: [1000, 2000, 3000],\n",
       "                         &#x27;tfidf__min_df&#x27;: [2, 3],\n",
       "                         &#x27;tfidf__ngram_range&#x27;: [(1, 2)]},\n",
       "             verbose=1)</pre><b>In a Jupyter environment, please rerun this cell to show the HTML representation or trust the notebook. <br />On GitHub, the HTML representation is unable to render, please try loading this page with nbviewer.org.</b></div><div class=\"sk-container\" hidden><div class=\"sk-item sk-dashed-wrapped\"><div class=\"sk-label-container\"><div class=\"sk-label sk-toggleable\"><input class=\"sk-toggleable__control sk-hidden--visually\" id=\"sk-estimator-id-31\" type=\"checkbox\" ><label for=\"sk-estimator-id-31\" class=\"sk-toggleable__label sk-toggleable__label-arrow\">GridSearchCV</label><div class=\"sk-toggleable__content\"><pre>GridSearchCV(cv=5,\n",
       "             estimator=Pipeline(steps=[(&#x27;tfidf&#x27;,\n",
       "                                        TfidfVectorizer(token_pattern=None,\n",
       "                                                        tokenizer=&lt;function my_tokenize at 0x2b2a5a8e0&gt;)),\n",
       "                                       (&#x27;rf&#x27;, RandomForestClassifier())]),\n",
       "             param_grid={&#x27;rf__max_depth&#x27;: [None, 1, 3, 5],\n",
       "                         &#x27;rf__min_samples_split&#x27;: [2, 3, 4],\n",
       "                         &#x27;rf__n_estimators&#x27;: [100, 150],\n",
       "                         &#x27;tfidf__max_df&#x27;: [0.9, 0.95],\n",
       "                         &#x27;tfidf__max_features&#x27;: [1000, 2000, 3000],\n",
       "                         &#x27;tfidf__min_df&#x27;: [2, 3],\n",
       "                         &#x27;tfidf__ngram_range&#x27;: [(1, 2)]},\n",
       "             verbose=1)</pre></div></div></div><div class=\"sk-parallel\"><div class=\"sk-parallel-item\"><div class=\"sk-item\"><div class=\"sk-label-container\"><div class=\"sk-label sk-toggleable\"><input class=\"sk-toggleable__control sk-hidden--visually\" id=\"sk-estimator-id-32\" type=\"checkbox\" ><label for=\"sk-estimator-id-32\" class=\"sk-toggleable__label sk-toggleable__label-arrow\">estimator: Pipeline</label><div class=\"sk-toggleable__content\"><pre>Pipeline(steps=[(&#x27;tfidf&#x27;,\n",
       "                 TfidfVectorizer(token_pattern=None,\n",
       "                                 tokenizer=&lt;function my_tokenize at 0x2b2a5a8e0&gt;)),\n",
       "                (&#x27;rf&#x27;, RandomForestClassifier())])</pre></div></div></div><div class=\"sk-serial\"><div class=\"sk-item\"><div class=\"sk-serial\"><div class=\"sk-item\"><div class=\"sk-estimator sk-toggleable\"><input class=\"sk-toggleable__control sk-hidden--visually\" id=\"sk-estimator-id-33\" type=\"checkbox\" ><label for=\"sk-estimator-id-33\" class=\"sk-toggleable__label sk-toggleable__label-arrow\">TfidfVectorizer</label><div class=\"sk-toggleable__content\"><pre>TfidfVectorizer(token_pattern=None,\n",
       "                tokenizer=&lt;function my_tokenize at 0x2b2a5a8e0&gt;)</pre></div></div></div><div class=\"sk-item\"><div class=\"sk-estimator sk-toggleable\"><input class=\"sk-toggleable__control sk-hidden--visually\" id=\"sk-estimator-id-34\" type=\"checkbox\" ><label for=\"sk-estimator-id-34\" class=\"sk-toggleable__label sk-toggleable__label-arrow\">RandomForestClassifier</label><div class=\"sk-toggleable__content\"><pre>RandomForestClassifier()</pre></div></div></div></div></div></div></div></div></div></div></div></div>"
      ],
      "text/plain": [
       "GridSearchCV(cv=5,\n",
       "             estimator=Pipeline(steps=[('tfidf',\n",
       "                                        TfidfVectorizer(token_pattern=None,\n",
       "                                                        tokenizer=<function my_tokenize at 0x2b2a5a8e0>)),\n",
       "                                       ('rf', RandomForestClassifier())]),\n",
       "             param_grid={'rf__max_depth': [None, 1, 3, 5],\n",
       "                         'rf__min_samples_split': [2, 3, 4],\n",
       "                         'rf__n_estimators': [100, 150],\n",
       "                         'tfidf__max_df': [0.9, 0.95],\n",
       "                         'tfidf__max_features': [1000, 2000, 3000],\n",
       "                         'tfidf__min_df': [2, 3],\n",
       "                         'tfidf__ngram_range': [(1, 2)]},\n",
       "             verbose=1)"
      ]
     },
     "execution_count": 352,
     "metadata": {},
     "output_type": "execute_result"
    }
   ],
   "source": [
    "# fit gridsearch for random forest\n",
    "gs_rf_tf.fit(X_train['content'], y_train)"
   ]
  },
  {
   "cell_type": "code",
   "execution_count": null,
   "metadata": {},
   "outputs": [
    {
     "name": "stdout",
     "output_type": "stream",
     "text": [
      "{'rf__max_depth': None, 'rf__min_samples_split': 3, 'rf__n_estimators': 150, 'tfidf__max_df': 0.95, 'tfidf__max_features': 3000, 'tfidf__min_df': 2, 'tfidf__ngram_range': (1, 2)}\n"
     ]
    },
    {
     "data": {
      "text/plain": [
       "0.8606768414067684"
      ]
     },
     "execution_count": 353,
     "metadata": {},
     "output_type": "execute_result"
    }
   ],
   "source": [
    "print(gs_rf_tf.best_params_)\n",
    "gs_rf_tf.best_score_"
   ]
  },
  {
   "cell_type": "code",
   "execution_count": null,
   "metadata": {},
   "outputs": [
    {
     "data": {
      "text/plain": [
       "(0.9912472647702407, 0.8424507658643327)"
      ]
     },
     "execution_count": 354,
     "metadata": {},
     "output_type": "execute_result"
    }
   ],
   "source": [
    "gs_rf_tf.score(X_train['content'], y_train), gs_rf_tf.score(X_test['content'], y_test)"
   ]
  },
  {
   "cell_type": "code",
   "execution_count": null,
   "metadata": {},
   "outputs": [
    {
     "data": {
      "text/plain": [
       "Text(0, 0.5, 'Actual Iron man 1')"
      ]
     },
     "execution_count": 355,
     "metadata": {},
     "output_type": "execute_result"
    },
    {
     "data": {
      "image/png": "[encoded data removed]",
      "text/plain": [
       "<Figure size 640x480 with 2 Axes>"
      ]
     },
     "metadata": {},
     "output_type": "display_data"
    }
   ],
   "source": [
    "# check confusion matrix\n",
    "rf_tf_pred = gs_rf_tf.predict(X_test['content'])\n",
    "cm = confusion_matrix(y_test, rf_tf_pred)\n",
    "ConfusionMatrixDisplay(cm).plot()\n",
    "plt.title('Random Forest with TfidfVectorizer')\n",
    "plt.xlabel('Predicted Iron Man 1')\n",
    "plt.ylabel('Actual Iron man 1')"
   ]
  },
  {
   "cell_type": "code",
   "execution_count": null,
   "metadata": {},
   "outputs": [
    {
     "data": {
      "text/plain": [
       "0.8530612244897959"
      ]
     },
     "execution_count": 356,
     "metadata": {},
     "output_type": "execute_result"
    }
   ],
   "source": [
    "# check f1 score\n",
    "f1_score(y_test, rf_tf_pred)"
   ]
  },
  {
   "cell_type": "code",
   "execution_count": null,
   "metadata": {},
   "outputs": [
    {
     "name": "stdout",
     "output_type": "stream",
     "text": [
      "Fitting 5 folds for each of 24 candidates, totalling 120 fits\n"
     ]
    },
    {
     "data": {
      "text/html": [
       "<style>#sk-container-id-12 {color: black;}#sk-container-id-12 pre{padding: 0;}#sk-container-id-12 div.sk-toggleable {background-color: white;}#sk-container-id-12 label.sk-toggleable__label {cursor: pointer;display: block;width: 100%;margin-bottom: 0;padding: 0.3em;box-sizing: border-box;text-align: center;}#sk-container-id-12 label.sk-toggleable__label-arrow:before {content: \"▸\";float: left;margin-right: 0.25em;color: #696969;}#sk-container-id-12 label.sk-toggleable__label-arrow:hover:before {color: black;}#sk-container-id-12 div.sk-estimator:hover label.sk-toggleable__label-arrow:before {color: black;}#sk-container-id-12 div.sk-toggleable__content {max-height: 0;max-width: 0;overflow: hidden;text-align: left;background-color: #f0f8ff;}#sk-container-id-12 div.sk-toggleable__content pre {margin: 0.2em;color: black;border-radius: 0.25em;background-color: #f0f8ff;}#sk-container-id-12 input.sk-toggleable__control:checked~div.sk-toggleable__content {max-height: 200px;max-width: 100%;overflow: auto;}#sk-container-id-12 input.sk-toggleable__control:checked~label.sk-toggleable__label-arrow:before {content: \"▾\";}#sk-container-id-12 div.sk-estimator input.sk-toggleable__control:checked~label.sk-toggleable__label {background-color: #d4ebff;}#sk-container-id-12 div.sk-label input.sk-toggleable__control:checked~label.sk-toggleable__label {background-color: #d4ebff;}#sk-container-id-12 input.sk-hidden--visually {border: 0;clip: rect(1px 1px 1px 1px);clip: rect(1px, 1px, 1px, 1px);height: 1px;margin: -1px;overflow: hidden;padding: 0;position: absolute;width: 1px;}#sk-container-id-12 div.sk-estimator {font-family: monospace;background-color: #f0f8ff;border: 1px dotted black;border-radius: 0.25em;box-sizing: border-box;margin-bottom: 0.5em;}#sk-container-id-12 div.sk-estimator:hover {background-color: #d4ebff;}#sk-container-id-12 div.sk-parallel-item::after {content: \"\";width: 100%;border-bottom: 1px solid gray;flex-grow: 1;}#sk-container-id-12 div.sk-label:hover label.sk-toggleable__label {background-color: #d4ebff;}#sk-container-id-12 div.sk-serial::before {content: \"\";position: absolute;border-left: 1px solid gray;box-sizing: border-box;top: 0;bottom: 0;left: 50%;z-index: 0;}#sk-container-id-12 div.sk-serial {display: flex;flex-direction: column;align-items: center;background-color: white;padding-right: 0.2em;padding-left: 0.2em;position: relative;}#sk-container-id-12 div.sk-item {position: relative;z-index: 1;}#sk-container-id-12 div.sk-parallel {display: flex;align-items: stretch;justify-content: center;background-color: white;position: relative;}#sk-container-id-12 div.sk-item::before, #sk-container-id-12 div.sk-parallel-item::before {content: \"\";position: absolute;border-left: 1px solid gray;box-sizing: border-box;top: 0;bottom: 0;left: 50%;z-index: -1;}#sk-container-id-12 div.sk-parallel-item {display: flex;flex-direction: column;z-index: 1;position: relative;background-color: white;}#sk-container-id-12 div.sk-parallel-item:first-child::after {align-self: flex-end;width: 50%;}#sk-container-id-12 div.sk-parallel-item:last-child::after {align-self: flex-start;width: 50%;}#sk-container-id-12 div.sk-parallel-item:only-child::after {width: 0;}#sk-container-id-12 div.sk-dashed-wrapped {border: 1px dashed gray;margin: 0 0.4em 0.5em 0.4em;box-sizing: border-box;padding-bottom: 0.4em;background-color: white;}#sk-container-id-12 div.sk-label label {font-family: monospace;font-weight: bold;display: inline-block;line-height: 1.2em;}#sk-container-id-12 div.sk-label-container {text-align: center;}#sk-container-id-12 div.sk-container {/* jupyter's `normalize.less` sets `[hidden] { display: none; }` but bootstrap.min.css set `[hidden] { display: none !important; }` so we also need the `!important` here to be able to override the default hidden behavior on the sphinx rendered scikit-learn.org. See: https://github.com/scikit-learn/scikit-learn/issues/21755 */display: inline-block !important;position: relative;}#sk-container-id-12 div.sk-text-repr-fallback {display: none;}</style><div id=\"sk-container-id-12\" class=\"sk-top-container\"><div class=\"sk-text-repr-fallback\"><pre>GridSearchCV(cv=5,\n",
       "             estimator=Pipeline(steps=[(&#x27;tfidf&#x27;,\n",
       "                                        TfidfVectorizer(token_pattern=None,\n",
       "                                                        tokenizer=&lt;function my_tokenize at 0x2b2a5a8e0&gt;)),\n",
       "                                       (&#x27;mnb&#x27;, MultinomialNB())]),\n",
       "             param_grid={&#x27;mnb__alpha&#x27;: [1, 2], &#x27;tfidf__max_df&#x27;: [0.9, 0.95],\n",
       "                         &#x27;tfidf__max_features&#x27;: [1000, 2000, 3000],\n",
       "                         &#x27;tfidf__min_df&#x27;: [2, 3],\n",
       "                         &#x27;tfidf__ngram_range&#x27;: [(1, 2)]},\n",
       "             verbose=1)</pre><b>In a Jupyter environment, please rerun this cell to show the HTML representation or trust the notebook. <br />On GitHub, the HTML representation is unable to render, please try loading this page with nbviewer.org.</b></div><div class=\"sk-container\" hidden><div class=\"sk-item sk-dashed-wrapped\"><div class=\"sk-label-container\"><div class=\"sk-label sk-toggleable\"><input class=\"sk-toggleable__control sk-hidden--visually\" id=\"sk-estimator-id-35\" type=\"checkbox\" ><label for=\"sk-estimator-id-35\" class=\"sk-toggleable__label sk-toggleable__label-arrow\">GridSearchCV</label><div class=\"sk-toggleable__content\"><pre>GridSearchCV(cv=5,\n",
       "             estimator=Pipeline(steps=[(&#x27;tfidf&#x27;,\n",
       "                                        TfidfVectorizer(token_pattern=None,\n",
       "                                                        tokenizer=&lt;function my_tokenize at 0x2b2a5a8e0&gt;)),\n",
       "                                       (&#x27;mnb&#x27;, MultinomialNB())]),\n",
       "             param_grid={&#x27;mnb__alpha&#x27;: [1, 2], &#x27;tfidf__max_df&#x27;: [0.9, 0.95],\n",
       "                         &#x27;tfidf__max_features&#x27;: [1000, 2000, 3000],\n",
       "                         &#x27;tfidf__min_df&#x27;: [2, 3],\n",
       "                         &#x27;tfidf__ngram_range&#x27;: [(1, 2)]},\n",
       "             verbose=1)</pre></div></div></div><div class=\"sk-parallel\"><div class=\"sk-parallel-item\"><div class=\"sk-item\"><div class=\"sk-label-container\"><div class=\"sk-label sk-toggleable\"><input class=\"sk-toggleable__control sk-hidden--visually\" id=\"sk-estimator-id-36\" type=\"checkbox\" ><label for=\"sk-estimator-id-36\" class=\"sk-toggleable__label sk-toggleable__label-arrow\">estimator: Pipeline</label><div class=\"sk-toggleable__content\"><pre>Pipeline(steps=[(&#x27;tfidf&#x27;,\n",
       "                 TfidfVectorizer(token_pattern=None,\n",
       "                                 tokenizer=&lt;function my_tokenize at 0x2b2a5a8e0&gt;)),\n",
       "                (&#x27;mnb&#x27;, MultinomialNB())])</pre></div></div></div><div class=\"sk-serial\"><div class=\"sk-item\"><div class=\"sk-serial\"><div class=\"sk-item\"><div class=\"sk-estimator sk-toggleable\"><input class=\"sk-toggleable__control sk-hidden--visually\" id=\"sk-estimator-id-37\" type=\"checkbox\" ><label for=\"sk-estimator-id-37\" class=\"sk-toggleable__label sk-toggleable__label-arrow\">TfidfVectorizer</label><div class=\"sk-toggleable__content\"><pre>TfidfVectorizer(token_pattern=None,\n",
       "                tokenizer=&lt;function my_tokenize at 0x2b2a5a8e0&gt;)</pre></div></div></div><div class=\"sk-item\"><div class=\"sk-estimator sk-toggleable\"><input class=\"sk-toggleable__control sk-hidden--visually\" id=\"sk-estimator-id-38\" type=\"checkbox\" ><label for=\"sk-estimator-id-38\" class=\"sk-toggleable__label sk-toggleable__label-arrow\">MultinomialNB</label><div class=\"sk-toggleable__content\"><pre>MultinomialNB()</pre></div></div></div></div></div></div></div></div></div></div></div></div>"
      ],
      "text/plain": [
       "GridSearchCV(cv=5,\n",
       "             estimator=Pipeline(steps=[('tfidf',\n",
       "                                        TfidfVectorizer(token_pattern=None,\n",
       "                                                        tokenizer=<function my_tokenize at 0x2b2a5a8e0>)),\n",
       "                                       ('mnb', MultinomialNB())]),\n",
       "             param_grid={'mnb__alpha': [1, 2], 'tfidf__max_df': [0.9, 0.95],\n",
       "                         'tfidf__max_features': [1000, 2000, 3000],\n",
       "                         'tfidf__min_df': [2, 3],\n",
       "                         'tfidf__ngram_range': [(1, 2)]},\n",
       "             verbose=1)"
      ]
     },
     "execution_count": 357,
     "metadata": {},
     "output_type": "execute_result"
    }
   ],
   "source": [
    "# run gridsearch for multinomial naive bayes\n",
    "gs_mnb_tf.fit(X_train['content'], y_train)"
   ]
  },
  {
   "cell_type": "code",
   "execution_count": null,
   "metadata": {},
   "outputs": [
    {
     "name": "stdout",
     "output_type": "stream",
     "text": [
      "{'mnb__alpha': 2, 'tfidf__max_df': 0.9, 'tfidf__max_features': 3000, 'tfidf__min_df': 2, 'tfidf__ngram_range': (1, 2)}\n"
     ]
    },
    {
     "data": {
      "text/plain": [
       "0.8585003317850033"
      ]
     },
     "execution_count": 358,
     "metadata": {},
     "output_type": "execute_result"
    }
   ],
   "source": [
    "print(gs_mnb_tf.best_params_)\n",
    "gs_mnb_tf.best_score_"
   ]
  },
  {
   "cell_type": "code",
   "execution_count": null,
   "metadata": {},
   "outputs": [
    {
     "data": {
      "text/plain": [
       "(0.9591539022611233, 0.8730853391684902)"
      ]
     },
     "execution_count": 359,
     "metadata": {},
     "output_type": "execute_result"
    }
   ],
   "source": [
    "gs_mnb_tf.score(X_train['content'], y_train), gs_mnb_tf.score(X_test['content'], y_test)"
   ]
  },
  {
   "cell_type": "code",
   "execution_count": null,
   "metadata": {},
   "outputs": [
    {
     "ename": "NameError",
     "evalue": "name 'gs_mnb_tf' is not defined",
     "output_type": "error",
     "traceback": [
      "\u001b[0;31m---------------------------------------------------------------------------\u001b[0m",
      "\u001b[0;31mNameError\u001b[0m                                 Traceback (most recent call last)",
      "\u001b[1;32m/Users/fake-or-dead/Sites/dsi03/dsi-tda-03/Projects/project_3/code/sub_reddit.ipynb Cell 71\u001b[0m line \u001b[0;36m1\n\u001b[0;32m----> <a href='vscode-notebook-cell:/Users/fake-or-dead/Sites/dsi03/dsi-tda-03/Projects/project_3/code/sub_reddit.ipynb#Y130sZmlsZQ%3D%3D?line=0'>1</a>\u001b[0m mnb_tf_pred \u001b[39m=\u001b[39m gs_mnb_tf\u001b[39m.\u001b[39mpredict(X_test[\u001b[39m'\u001b[39m\u001b[39mcontent\u001b[39m\u001b[39m'\u001b[39m])\n\u001b[1;32m      <a href='vscode-notebook-cell:/Users/fake-or-dead/Sites/dsi03/dsi-tda-03/Projects/project_3/code/sub_reddit.ipynb#Y130sZmlsZQ%3D%3D?line=1'>2</a>\u001b[0m cm \u001b[39m=\u001b[39m confusion_matrix(y_test, mnb_tf_pred)\n\u001b[1;32m      <a href='vscode-notebook-cell:/Users/fake-or-dead/Sites/dsi03/dsi-tda-03/Projects/project_3/code/sub_reddit.ipynb#Y130sZmlsZQ%3D%3D?line=2'>3</a>\u001b[0m ConfusionMatrixDisplay(cm)\u001b[39m.\u001b[39mplot()\n",
      "\u001b[0;31mNameError\u001b[0m: name 'gs_mnb_tf' is not defined"
     ]
    }
   ],
   "source": [
    "mnb_tf_pred = gs_mnb_tf.predict(X_test['content'])\n",
    "cm = confusion_matrix(y_test, mnb_tf_pred)\n",
    "ConfusionMatrixDisplay(cm).plot()\n",
    "plt.title('Multinomial Naive Bayes with TF-IDF')\n",
    "plt.xlabel('Predicted Iron Man 1')\n",
    "plt.ylabel('Actual Iron man 1')"
   ]
  },
  {
   "cell_type": "code",
   "execution_count": null,
   "metadata": {},
   "outputs": [
    {
     "data": {
      "text/plain": [
       "0.8839999999999999"
      ]
     },
     "execution_count": 361,
     "metadata": {},
     "output_type": "execute_result"
    }
   ],
   "source": [
    "# check f1 score\n",
    "f1_score(y_test, mnb_tf_pred)"
   ]
  },
  {
   "cell_type": "code",
   "execution_count": null,
   "metadata": {},
   "outputs": [
    {
     "data": {
      "text/html": [
       "<div>\n",
       "<style scoped>\n",
       "    .dataframe tbody tr th:only-of-type {\n",
       "        vertical-align: middle;\n",
       "    }\n",
       "\n",
       "    .dataframe tbody tr th {\n",
       "        vertical-align: top;\n",
       "    }\n",
       "\n",
       "    .dataframe thead th {\n",
       "        text-align: right;\n",
       "    }\n",
       "</style>\n",
       "<table border=\"1\" class=\"dataframe\">\n",
       "  <thead>\n",
       "    <tr style=\"text-align: right;\">\n",
       "      <th></th>\n",
       "      <th>model</th>\n",
       "      <th>tokenizer</th>\n",
       "      <th>best_params</th>\n",
       "      <th>train_score</th>\n",
       "      <th>test_score</th>\n",
       "      <th>f1_score</th>\n",
       "    </tr>\n",
       "  </thead>\n",
       "  <tbody>\n",
       "    <tr>\n",
       "      <th>0</th>\n",
       "      <td>Random Forest Count Vectorizer</td>\n",
       "      <td>Count Vectorizer</td>\n",
       "      <td>{'cvec__max_df': 0.95, 'cvec__max_features': 3...</td>\n",
       "      <td>0.989059</td>\n",
       "      <td>0.840263</td>\n",
       "      <td>0.847599</td>\n",
       "    </tr>\n",
       "    <tr>\n",
       "      <th>1</th>\n",
       "      <td>Multinomial Naive Bayes Count Vectorizer</td>\n",
       "      <td>Count Vectorizer</td>\n",
       "      <td>{'cvec__max_df': 0.9, 'cvec__max_features': 30...</td>\n",
       "      <td>0.912473</td>\n",
       "      <td>0.870897</td>\n",
       "      <td>0.874735</td>\n",
       "    </tr>\n",
       "    <tr>\n",
       "      <th>2</th>\n",
       "      <td>Random Forest tfidfVectorizer</td>\n",
       "      <td>tfidfVectorizer</td>\n",
       "      <td>{'rf__max_depth': None, 'rf__min_samples_split...</td>\n",
       "      <td>0.991247</td>\n",
       "      <td>0.842451</td>\n",
       "      <td>0.853061</td>\n",
       "    </tr>\n",
       "    <tr>\n",
       "      <th>3</th>\n",
       "      <td>Multinomial Naive Bayes tfidfVectorizer</td>\n",
       "      <td>tfidfVectorizer</td>\n",
       "      <td>{'mnb__alpha': 2, 'tfidf__max_df': 0.9, 'tfidf...</td>\n",
       "      <td>0.959154</td>\n",
       "      <td>0.873085</td>\n",
       "      <td>0.884000</td>\n",
       "    </tr>\n",
       "  </tbody>\n",
       "</table>\n",
       "</div>"
      ],
      "text/plain": [
       "                                      model         tokenizer  \\\n",
       "0            Random Forest Count Vectorizer  Count Vectorizer   \n",
       "1  Multinomial Naive Bayes Count Vectorizer  Count Vectorizer   \n",
       "2             Random Forest tfidfVectorizer   tfidfVectorizer   \n",
       "3   Multinomial Naive Bayes tfidfVectorizer   tfidfVectorizer   \n",
       "\n",
       "                                         best_params  train_score  test_score  \\\n",
       "0  {'cvec__max_df': 0.95, 'cvec__max_features': 3...     0.989059    0.840263   \n",
       "1  {'cvec__max_df': 0.9, 'cvec__max_features': 30...     0.912473    0.870897   \n",
       "2  {'rf__max_depth': None, 'rf__min_samples_split...     0.991247    0.842451   \n",
       "3  {'mnb__alpha': 2, 'tfidf__max_df': 0.9, 'tfidf...     0.959154    0.873085   \n",
       "\n",
       "   f1_score  \n",
       "0  0.847599  \n",
       "1  0.874735  \n",
       "2  0.853061  \n",
       "3  0.884000  "
      ]
     },
     "execution_count": 423,
     "metadata": {},
     "output_type": "execute_result"
    }
   ],
   "source": [
    "rf_df = pd.DataFrame({\n",
    "    'model': ['Random Forest Count Vectorizer'],\n",
    "    'tokenizer': ['Count Vectorizer'],\n",
    "    'best_params': [gs_rf.best_params_],\n",
    "    'train_score': [gs_rf.score(X_train['content'], y_train)],\n",
    "    'test_score': [gs_rf.score(X_test['content'], y_test)],\n",
    "    'f1_score': [f1_score(y_test, gs_rf.predict(X_test['content']))]\n",
    "})\n",
    "# create dataframe for mnb test\n",
    "mnb_df = pd.DataFrame({\n",
    "    'model': ['Multinomial Naive Bayes Count Vectorizer'],\n",
    "    'tokenizer': ['Count Vectorizer'],\n",
    "    'best_params': [gs_mnb.best_params_],\n",
    "    'train_score': [gs_mnb.score(X_train['content'], y_train)],\n",
    "    'test_score': [gs_mnb.score(X_test['content'], y_test)],\n",
    "    'f1_score': [f1_score(y_test, gs_mnb.predict(X_test['content']))]\n",
    "})\n",
    "rf_tf_df = pd.DataFrame({\n",
    "    'model': ['Random Forest tfidfVectorizer'],\n",
    "    'tokenizer': ['tfidfVectorizer'],\n",
    "    'best_params': [gs_rf_tf.best_params_],\n",
    "    'train_score': [gs_rf_tf.score(X_train['content'], y_train)],\n",
    "    'test_score': [gs_rf_tf.score(X_test['content'], y_test)],\n",
    "    'f1_score': [f1_score(y_test, gs_rf_tf.predict(X_test['content']))]\n",
    "})\n",
    "# create dataframe for mnb test\n",
    "mnb_tf_df = pd.DataFrame({\n",
    "    'model': ['Multinomial Naive Bayes tfidfVectorizer'],\n",
    "    'tokenizer': ['tfidfVectorizer'],\n",
    "    'best_params': [gs_mnb_tf.best_params_],\n",
    "    'train_score': [gs_mnb_tf.score(X_train['content'], y_train)],\n",
    "    'test_score': [gs_mnb_tf.score(X_test['content'], y_test)],\n",
    "    'f1_score': [f1_score(y_test, gs_mnb_tf.predict(X_test['content']))]\n",
    "})\n",
    "results_df = pd.concat([rf_df, mnb_df, rf_tf_df, mnb_tf_df], ignore_index=True)\n",
    "results_df"
   ]
  },
  {
   "cell_type": "markdown",
   "metadata": {},
   "source": [
    "after improve `my_tokenizer` f1_Score is better than \n",
    "\n",
    "the `my_old_tokenize` results below\n",
    "\n",
    "![result before new tokenize](images/result-before-new-tokenize.png \"result before new tokenize\")"
   ]
  },
  {
   "cell_type": "code",
   "execution_count": null,
   "metadata": {},
   "outputs": [
    {
     "name": "stdout",
     "output_type": "stream",
     "text": [
      "Fitting 5 folds for each of 48 candidates, totalling 240 fits\n"
     ]
    },
    {
     "data": {
      "text/html": [
       "<style>#sk-container-id-13 {color: black;}#sk-container-id-13 pre{padding: 0;}#sk-container-id-13 div.sk-toggleable {background-color: white;}#sk-container-id-13 label.sk-toggleable__label {cursor: pointer;display: block;width: 100%;margin-bottom: 0;padding: 0.3em;box-sizing: border-box;text-align: center;}#sk-container-id-13 label.sk-toggleable__label-arrow:before {content: \"▸\";float: left;margin-right: 0.25em;color: #696969;}#sk-container-id-13 label.sk-toggleable__label-arrow:hover:before {color: black;}#sk-container-id-13 div.sk-estimator:hover label.sk-toggleable__label-arrow:before {color: black;}#sk-container-id-13 div.sk-toggleable__content {max-height: 0;max-width: 0;overflow: hidden;text-align: left;background-color: #f0f8ff;}#sk-container-id-13 div.sk-toggleable__content pre {margin: 0.2em;color: black;border-radius: 0.25em;background-color: #f0f8ff;}#sk-container-id-13 input.sk-toggleable__control:checked~div.sk-toggleable__content {max-height: 200px;max-width: 100%;overflow: auto;}#sk-container-id-13 input.sk-toggleable__control:checked~label.sk-toggleable__label-arrow:before {content: \"▾\";}#sk-container-id-13 div.sk-estimator input.sk-toggleable__control:checked~label.sk-toggleable__label {background-color: #d4ebff;}#sk-container-id-13 div.sk-label input.sk-toggleable__control:checked~label.sk-toggleable__label {background-color: #d4ebff;}#sk-container-id-13 input.sk-hidden--visually {border: 0;clip: rect(1px 1px 1px 1px);clip: rect(1px, 1px, 1px, 1px);height: 1px;margin: -1px;overflow: hidden;padding: 0;position: absolute;width: 1px;}#sk-container-id-13 div.sk-estimator {font-family: monospace;background-color: #f0f8ff;border: 1px dotted black;border-radius: 0.25em;box-sizing: border-box;margin-bottom: 0.5em;}#sk-container-id-13 div.sk-estimator:hover {background-color: #d4ebff;}#sk-container-id-13 div.sk-parallel-item::after {content: \"\";width: 100%;border-bottom: 1px solid gray;flex-grow: 1;}#sk-container-id-13 div.sk-label:hover label.sk-toggleable__label {background-color: #d4ebff;}#sk-container-id-13 div.sk-serial::before {content: \"\";position: absolute;border-left: 1px solid gray;box-sizing: border-box;top: 0;bottom: 0;left: 50%;z-index: 0;}#sk-container-id-13 div.sk-serial {display: flex;flex-direction: column;align-items: center;background-color: white;padding-right: 0.2em;padding-left: 0.2em;position: relative;}#sk-container-id-13 div.sk-item {position: relative;z-index: 1;}#sk-container-id-13 div.sk-parallel {display: flex;align-items: stretch;justify-content: center;background-color: white;position: relative;}#sk-container-id-13 div.sk-item::before, #sk-container-id-13 div.sk-parallel-item::before {content: \"\";position: absolute;border-left: 1px solid gray;box-sizing: border-box;top: 0;bottom: 0;left: 50%;z-index: -1;}#sk-container-id-13 div.sk-parallel-item {display: flex;flex-direction: column;z-index: 1;position: relative;background-color: white;}#sk-container-id-13 div.sk-parallel-item:first-child::after {align-self: flex-end;width: 50%;}#sk-container-id-13 div.sk-parallel-item:last-child::after {align-self: flex-start;width: 50%;}#sk-container-id-13 div.sk-parallel-item:only-child::after {width: 0;}#sk-container-id-13 div.sk-dashed-wrapped {border: 1px dashed gray;margin: 0 0.4em 0.5em 0.4em;box-sizing: border-box;padding-bottom: 0.4em;background-color: white;}#sk-container-id-13 div.sk-label label {font-family: monospace;font-weight: bold;display: inline-block;line-height: 1.2em;}#sk-container-id-13 div.sk-label-container {text-align: center;}#sk-container-id-13 div.sk-container {/* jupyter's `normalize.less` sets `[hidden] { display: none; }` but bootstrap.min.css set `[hidden] { display: none !important; }` so we also need the `!important` here to be able to override the default hidden behavior on the sphinx rendered scikit-learn.org. See: https://github.com/scikit-learn/scikit-learn/issues/21755 */display: inline-block !important;position: relative;}#sk-container-id-13 div.sk-text-repr-fallback {display: none;}</style><div id=\"sk-container-id-13\" class=\"sk-top-container\"><div class=\"sk-text-repr-fallback\"><pre>GridSearchCV(cv=5,\n",
       "             estimator=Pipeline(steps=[(&#x27;tfidf&#x27;,\n",
       "                                        TfidfVectorizer(token_pattern=None,\n",
       "                                                        tokenizer=&lt;function my_tokenize at 0x2b2a5a8e0&gt;)),\n",
       "                                       (&#x27;svc&#x27;, SVC())]),\n",
       "             param_grid={&#x27;svc__C&#x27;: [1, 2], &#x27;svc__kernel&#x27;: [&#x27;rbf&#x27;, &#x27;linear&#x27;],\n",
       "                         &#x27;tfidf__max_df&#x27;: [0.9, 0.95],\n",
       "                         &#x27;tfidf__max_features&#x27;: [1000, 2000, 3000],\n",
       "                         &#x27;tfidf__min_df&#x27;: [2, 3],\n",
       "                         &#x27;tfidf__ngram_range&#x27;: [(1, 2)]},\n",
       "             verbose=1)</pre><b>In a Jupyter environment, please rerun this cell to show the HTML representation or trust the notebook. <br />On GitHub, the HTML representation is unable to render, please try loading this page with nbviewer.org.</b></div><div class=\"sk-container\" hidden><div class=\"sk-item sk-dashed-wrapped\"><div class=\"sk-label-container\"><div class=\"sk-label sk-toggleable\"><input class=\"sk-toggleable__control sk-hidden--visually\" id=\"sk-estimator-id-39\" type=\"checkbox\" ><label for=\"sk-estimator-id-39\" class=\"sk-toggleable__label sk-toggleable__label-arrow\">GridSearchCV</label><div class=\"sk-toggleable__content\"><pre>GridSearchCV(cv=5,\n",
       "             estimator=Pipeline(steps=[(&#x27;tfidf&#x27;,\n",
       "                                        TfidfVectorizer(token_pattern=None,\n",
       "                                                        tokenizer=&lt;function my_tokenize at 0x2b2a5a8e0&gt;)),\n",
       "                                       (&#x27;svc&#x27;, SVC())]),\n",
       "             param_grid={&#x27;svc__C&#x27;: [1, 2], &#x27;svc__kernel&#x27;: [&#x27;rbf&#x27;, &#x27;linear&#x27;],\n",
       "                         &#x27;tfidf__max_df&#x27;: [0.9, 0.95],\n",
       "                         &#x27;tfidf__max_features&#x27;: [1000, 2000, 3000],\n",
       "                         &#x27;tfidf__min_df&#x27;: [2, 3],\n",
       "                         &#x27;tfidf__ngram_range&#x27;: [(1, 2)]},\n",
       "             verbose=1)</pre></div></div></div><div class=\"sk-parallel\"><div class=\"sk-parallel-item\"><div class=\"sk-item\"><div class=\"sk-label-container\"><div class=\"sk-label sk-toggleable\"><input class=\"sk-toggleable__control sk-hidden--visually\" id=\"sk-estimator-id-40\" type=\"checkbox\" ><label for=\"sk-estimator-id-40\" class=\"sk-toggleable__label sk-toggleable__label-arrow\">estimator: Pipeline</label><div class=\"sk-toggleable__content\"><pre>Pipeline(steps=[(&#x27;tfidf&#x27;,\n",
       "                 TfidfVectorizer(token_pattern=None,\n",
       "                                 tokenizer=&lt;function my_tokenize at 0x2b2a5a8e0&gt;)),\n",
       "                (&#x27;svc&#x27;, SVC())])</pre></div></div></div><div class=\"sk-serial\"><div class=\"sk-item\"><div class=\"sk-serial\"><div class=\"sk-item\"><div class=\"sk-estimator sk-toggleable\"><input class=\"sk-toggleable__control sk-hidden--visually\" id=\"sk-estimator-id-41\" type=\"checkbox\" ><label for=\"sk-estimator-id-41\" class=\"sk-toggleable__label sk-toggleable__label-arrow\">TfidfVectorizer</label><div class=\"sk-toggleable__content\"><pre>TfidfVectorizer(token_pattern=None,\n",
       "                tokenizer=&lt;function my_tokenize at 0x2b2a5a8e0&gt;)</pre></div></div></div><div class=\"sk-item\"><div class=\"sk-estimator sk-toggleable\"><input class=\"sk-toggleable__control sk-hidden--visually\" id=\"sk-estimator-id-42\" type=\"checkbox\" ><label for=\"sk-estimator-id-42\" class=\"sk-toggleable__label sk-toggleable__label-arrow\">SVC</label><div class=\"sk-toggleable__content\"><pre>SVC()</pre></div></div></div></div></div></div></div></div></div></div></div></div>"
      ],
      "text/plain": [
       "GridSearchCV(cv=5,\n",
       "             estimator=Pipeline(steps=[('tfidf',\n",
       "                                        TfidfVectorizer(token_pattern=None,\n",
       "                                                        tokenizer=<function my_tokenize at 0x2b2a5a8e0>)),\n",
       "                                       ('svc', SVC())]),\n",
       "             param_grid={'svc__C': [1, 2], 'svc__kernel': ['rbf', 'linear'],\n",
       "                         'tfidf__max_df': [0.9, 0.95],\n",
       "                         'tfidf__max_features': [1000, 2000, 3000],\n",
       "                         'tfidf__min_df': [2, 3],\n",
       "                         'tfidf__ngram_range': [(1, 2)]},\n",
       "             verbose=1)"
      ]
     },
     "execution_count": 397,
     "metadata": {},
     "output_type": "execute_result"
    }
   ],
   "source": [
    "# initial SVC model with tfidf vectorizer\n",
    "\n",
    "from sklearn.svm import SVC\n",
    "svc = SVC()\n",
    "tfidf = TfidfVectorizer(tokenizer=my_tokenize, token_pattern=None)\n",
    "pipe_svc = Pipeline([\n",
    "    ('tfidf', tfidf),\n",
    "    ('svc', svc)\n",
    "])\n",
    "gs_svc_tf = GridSearchCV(pipe_svc, param_grid={\n",
    "    'tfidf__max_features': [1000, 2000, 3000],\n",
    "    'tfidf__min_df': [2, 3],\n",
    "    'tfidf__max_df': [.9, .95],\n",
    "    'tfidf__ngram_range': [(1,2)],\n",
    "    'svc__C': [1, 2],\n",
    "    'svc__kernel': ['rbf', 'linear']\n",
    "}, cv=5, verbose=1)\n",
    "\n",
    "gs_svc_tf.fit(X_train['content'], y_train)"
   ]
  },
  {
   "cell_type": "code",
   "execution_count": null,
   "metadata": {},
   "outputs": [
    {
     "name": "stdout",
     "output_type": "stream",
     "text": [
      "{'svc__C': 1, 'svc__kernel': 'rbf', 'tfidf__max_df': 0.9, 'tfidf__max_features': 3000, 'tfidf__min_df': 2, 'tfidf__ngram_range': (1, 2)}\n"
     ]
    },
    {
     "data": {
      "text/plain": [
       "0.8555726609157267"
      ]
     },
     "execution_count": 398,
     "metadata": {},
     "output_type": "execute_result"
    }
   ],
   "source": [
    "print(gs_svc_tf.best_params_)\n",
    "gs_svc_tf.best_score_"
   ]
  },
  {
   "cell_type": "code",
   "execution_count": null,
   "metadata": {},
   "outputs": [
    {
     "data": {
      "text/plain": [
       "(0.9883296863603209, 0.8512035010940919)"
      ]
     },
     "execution_count": 399,
     "metadata": {},
     "output_type": "execute_result"
    }
   ],
   "source": [
    "gs_svc_tf.score(X_train['content'], y_train), gs_svc_tf.score(X_test['content'], y_test)"
   ]
  },
  {
   "cell_type": "code",
   "execution_count": null,
   "metadata": {},
   "outputs": [
    {
     "data": {
      "text/plain": [
       "0.8565400843881857"
      ]
     },
     "execution_count": 433,
     "metadata": {},
     "output_type": "execute_result"
    }
   ],
   "source": [
    "f1_score(y_test, gs_svc_tf.predict(X_test['content']))"
   ]
  },
  {
   "cell_type": "code",
   "execution_count": null,
   "metadata": {},
   "outputs": [
    {
     "data": {
      "text/plain": [
       "Text(0, 0.5, 'Actual Iron man 1')"
      ]
     },
     "execution_count": 434,
     "metadata": {},
     "output_type": "execute_result"
    },
    {
     "data": {
      "image/png": "[encoded data removed]",
      "text/plain": [
       "<Figure size 640x480 with 2 Axes>"
      ]
     },
     "metadata": {},
     "output_type": "display_data"
    }
   ],
   "source": [
    "gs_svc_tf_pred = gs_svc_tf.predict(X_test['content'])\n",
    "cm = confusion_matrix(y_test, gs_svc_tf_pred)\n",
    "ConfusionMatrixDisplay(cm).plot()\n",
    "plt.title('SVC with TF-IDF')\n",
    "plt.xlabel('Predicted Iron Man 1')\n",
    "plt.ylabel('Actual Iron man 1')"
   ]
  },
  {
   "cell_type": "code",
   "execution_count": null,
   "metadata": {},
   "outputs": [
    {
     "name": "stdout",
     "output_type": "stream",
     "text": [
      "Fitting 5 folds for each of 48 candidates, totalling 240 fits\n"
     ]
    },
    {
     "data": {
      "text/html": [
       "<style>#sk-container-id-14 {color: black;}#sk-container-id-14 pre{padding: 0;}#sk-container-id-14 div.sk-toggleable {background-color: white;}#sk-container-id-14 label.sk-toggleable__label {cursor: pointer;display: block;width: 100%;margin-bottom: 0;padding: 0.3em;box-sizing: border-box;text-align: center;}#sk-container-id-14 label.sk-toggleable__label-arrow:before {content: \"▸\";float: left;margin-right: 0.25em;color: #696969;}#sk-container-id-14 label.sk-toggleable__label-arrow:hover:before {color: black;}#sk-container-id-14 div.sk-estimator:hover label.sk-toggleable__label-arrow:before {color: black;}#sk-container-id-14 div.sk-toggleable__content {max-height: 0;max-width: 0;overflow: hidden;text-align: left;background-color: #f0f8ff;}#sk-container-id-14 div.sk-toggleable__content pre {margin: 0.2em;color: black;border-radius: 0.25em;background-color: #f0f8ff;}#sk-container-id-14 input.sk-toggleable__control:checked~div.sk-toggleable__content {max-height: 200px;max-width: 100%;overflow: auto;}#sk-container-id-14 input.sk-toggleable__control:checked~label.sk-toggleable__label-arrow:before {content: \"▾\";}#sk-container-id-14 div.sk-estimator input.sk-toggleable__control:checked~label.sk-toggleable__label {background-color: #d4ebff;}#sk-container-id-14 div.sk-label input.sk-toggleable__control:checked~label.sk-toggleable__label {background-color: #d4ebff;}#sk-container-id-14 input.sk-hidden--visually {border: 0;clip: rect(1px 1px 1px 1px);clip: rect(1px, 1px, 1px, 1px);height: 1px;margin: -1px;overflow: hidden;padding: 0;position: absolute;width: 1px;}#sk-container-id-14 div.sk-estimator {font-family: monospace;background-color: #f0f8ff;border: 1px dotted black;border-radius: 0.25em;box-sizing: border-box;margin-bottom: 0.5em;}#sk-container-id-14 div.sk-estimator:hover {background-color: #d4ebff;}#sk-container-id-14 div.sk-parallel-item::after {content: \"\";width: 100%;border-bottom: 1px solid gray;flex-grow: 1;}#sk-container-id-14 div.sk-label:hover label.sk-toggleable__label {background-color: #d4ebff;}#sk-container-id-14 div.sk-serial::before {content: \"\";position: absolute;border-left: 1px solid gray;box-sizing: border-box;top: 0;bottom: 0;left: 50%;z-index: 0;}#sk-container-id-14 div.sk-serial {display: flex;flex-direction: column;align-items: center;background-color: white;padding-right: 0.2em;padding-left: 0.2em;position: relative;}#sk-container-id-14 div.sk-item {position: relative;z-index: 1;}#sk-container-id-14 div.sk-parallel {display: flex;align-items: stretch;justify-content: center;background-color: white;position: relative;}#sk-container-id-14 div.sk-item::before, #sk-container-id-14 div.sk-parallel-item::before {content: \"\";position: absolute;border-left: 1px solid gray;box-sizing: border-box;top: 0;bottom: 0;left: 50%;z-index: -1;}#sk-container-id-14 div.sk-parallel-item {display: flex;flex-direction: column;z-index: 1;position: relative;background-color: white;}#sk-container-id-14 div.sk-parallel-item:first-child::after {align-self: flex-end;width: 50%;}#sk-container-id-14 div.sk-parallel-item:last-child::after {align-self: flex-start;width: 50%;}#sk-container-id-14 div.sk-parallel-item:only-child::after {width: 0;}#sk-container-id-14 div.sk-dashed-wrapped {border: 1px dashed gray;margin: 0 0.4em 0.5em 0.4em;box-sizing: border-box;padding-bottom: 0.4em;background-color: white;}#sk-container-id-14 div.sk-label label {font-family: monospace;font-weight: bold;display: inline-block;line-height: 1.2em;}#sk-container-id-14 div.sk-label-container {text-align: center;}#sk-container-id-14 div.sk-container {/* jupyter's `normalize.less` sets `[hidden] { display: none; }` but bootstrap.min.css set `[hidden] { display: none !important; }` so we also need the `!important` here to be able to override the default hidden behavior on the sphinx rendered scikit-learn.org. See: https://github.com/scikit-learn/scikit-learn/issues/21755 */display: inline-block !important;position: relative;}#sk-container-id-14 div.sk-text-repr-fallback {display: none;}</style><div id=\"sk-container-id-14\" class=\"sk-top-container\"><div class=\"sk-text-repr-fallback\"><pre>GridSearchCV(cv=5,\n",
       "             estimator=Pipeline(steps=[(&#x27;cvec&#x27;,\n",
       "                                        CountVectorizer(token_pattern=None,\n",
       "                                                        tokenizer=&lt;function my_tokenize at 0x2b2a5a8e0&gt;)),\n",
       "                                       (&#x27;svc&#x27;, SVC())]),\n",
       "             param_grid={&#x27;cvec__max_df&#x27;: [0.9, 0.95],\n",
       "                         &#x27;cvec__max_features&#x27;: [1000, 2000, 3000],\n",
       "                         &#x27;cvec__min_df&#x27;: [2, 3], &#x27;cvec__ngram_range&#x27;: [(1, 2)],\n",
       "                         &#x27;svc__C&#x27;: [1, 2], &#x27;svc__kernel&#x27;: [&#x27;rbf&#x27;, &#x27;linear&#x27;]},\n",
       "             verbose=1)</pre><b>In a Jupyter environment, please rerun this cell to show the HTML representation or trust the notebook. <br />On GitHub, the HTML representation is unable to render, please try loading this page with nbviewer.org.</b></div><div class=\"sk-container\" hidden><div class=\"sk-item sk-dashed-wrapped\"><div class=\"sk-label-container\"><div class=\"sk-label sk-toggleable\"><input class=\"sk-toggleable__control sk-hidden--visually\" id=\"sk-estimator-id-43\" type=\"checkbox\" ><label for=\"sk-estimator-id-43\" class=\"sk-toggleable__label sk-toggleable__label-arrow\">GridSearchCV</label><div class=\"sk-toggleable__content\"><pre>GridSearchCV(cv=5,\n",
       "             estimator=Pipeline(steps=[(&#x27;cvec&#x27;,\n",
       "                                        CountVectorizer(token_pattern=None,\n",
       "                                                        tokenizer=&lt;function my_tokenize at 0x2b2a5a8e0&gt;)),\n",
       "                                       (&#x27;svc&#x27;, SVC())]),\n",
       "             param_grid={&#x27;cvec__max_df&#x27;: [0.9, 0.95],\n",
       "                         &#x27;cvec__max_features&#x27;: [1000, 2000, 3000],\n",
       "                         &#x27;cvec__min_df&#x27;: [2, 3], &#x27;cvec__ngram_range&#x27;: [(1, 2)],\n",
       "                         &#x27;svc__C&#x27;: [1, 2], &#x27;svc__kernel&#x27;: [&#x27;rbf&#x27;, &#x27;linear&#x27;]},\n",
       "             verbose=1)</pre></div></div></div><div class=\"sk-parallel\"><div class=\"sk-parallel-item\"><div class=\"sk-item\"><div class=\"sk-label-container\"><div class=\"sk-label sk-toggleable\"><input class=\"sk-toggleable__control sk-hidden--visually\" id=\"sk-estimator-id-44\" type=\"checkbox\" ><label for=\"sk-estimator-id-44\" class=\"sk-toggleable__label sk-toggleable__label-arrow\">estimator: Pipeline</label><div class=\"sk-toggleable__content\"><pre>Pipeline(steps=[(&#x27;cvec&#x27;,\n",
       "                 CountVectorizer(token_pattern=None,\n",
       "                                 tokenizer=&lt;function my_tokenize at 0x2b2a5a8e0&gt;)),\n",
       "                (&#x27;svc&#x27;, SVC())])</pre></div></div></div><div class=\"sk-serial\"><div class=\"sk-item\"><div class=\"sk-serial\"><div class=\"sk-item\"><div class=\"sk-estimator sk-toggleable\"><input class=\"sk-toggleable__control sk-hidden--visually\" id=\"sk-estimator-id-45\" type=\"checkbox\" ><label for=\"sk-estimator-id-45\" class=\"sk-toggleable__label sk-toggleable__label-arrow\">CountVectorizer</label><div class=\"sk-toggleable__content\"><pre>CountVectorizer(token_pattern=None,\n",
       "                tokenizer=&lt;function my_tokenize at 0x2b2a5a8e0&gt;)</pre></div></div></div><div class=\"sk-item\"><div class=\"sk-estimator sk-toggleable\"><input class=\"sk-toggleable__control sk-hidden--visually\" id=\"sk-estimator-id-46\" type=\"checkbox\" ><label for=\"sk-estimator-id-46\" class=\"sk-toggleable__label sk-toggleable__label-arrow\">SVC</label><div class=\"sk-toggleable__content\"><pre>SVC()</pre></div></div></div></div></div></div></div></div></div></div></div></div>"
      ],
      "text/plain": [
       "GridSearchCV(cv=5,\n",
       "             estimator=Pipeline(steps=[('cvec',\n",
       "                                        CountVectorizer(token_pattern=None,\n",
       "                                                        tokenizer=<function my_tokenize at 0x2b2a5a8e0>)),\n",
       "                                       ('svc', SVC())]),\n",
       "             param_grid={'cvec__max_df': [0.9, 0.95],\n",
       "                         'cvec__max_features': [1000, 2000, 3000],\n",
       "                         'cvec__min_df': [2, 3], 'cvec__ngram_range': [(1, 2)],\n",
       "                         'svc__C': [1, 2], 'svc__kernel': ['rbf', 'linear']},\n",
       "             verbose=1)"
      ]
     },
     "execution_count": 429,
     "metadata": {},
     "output_type": "execute_result"
    }
   ],
   "source": [
    "# initial SVC model with count vectorizer\n",
    "from sklearn.svm import SVC\n",
    "svc = SVC()\n",
    "cvec = CountVectorizer(tokenizer=my_tokenize, token_pattern=None)\n",
    "pipe_svc = Pipeline([\n",
    "    ('cvec', cvec),\n",
    "    ('svc', svc)\n",
    "])\n",
    "gs_svc = GridSearchCV(pipe_svc, param_grid={\n",
    "    'cvec__max_features': [1000, 2000, 3000],\n",
    "    'cvec__min_df': [2, 3],\n",
    "    'cvec__max_df': [.9, .95],\n",
    "    'cvec__ngram_range': [(1,2)],\n",
    "    'svc__C': [1, 2],\n",
    "    'svc__kernel': ['rbf', 'linear']\n",
    "}, cv=5, verbose=1)\n",
    "gs_svc.fit(X_train['content'], y_train)"
   ]
  },
  {
   "cell_type": "code",
   "execution_count": null,
   "metadata": {},
   "outputs": [
    {
     "name": "stdout",
     "output_type": "stream",
     "text": [
      "{'cvec__max_df': 0.9, 'cvec__max_features': 2000, 'cvec__min_df': 2, 'cvec__ngram_range': (1, 2), 'svc__C': 2, 'svc__kernel': 'rbf'}\n"
     ]
    },
    {
     "data": {
      "text/plain": [
       "0.8366237558062375"
      ]
     },
     "execution_count": 430,
     "metadata": {},
     "output_type": "execute_result"
    }
   ],
   "source": [
    "print(gs_svc.best_params_)\n",
    "gs_svc.best_score_"
   ]
  },
  {
   "cell_type": "code",
   "execution_count": null,
   "metadata": {},
   "outputs": [
    {
     "data": {
      "text/plain": [
       "(0.9095550692924872, 0.811816192560175)"
      ]
     },
     "execution_count": 431,
     "metadata": {},
     "output_type": "execute_result"
    }
   ],
   "source": [
    "gs_svc.score(X_train['content'], y_train), gs_svc.score(X_test['content'], y_test)"
   ]
  },
  {
   "cell_type": "code",
   "execution_count": null,
   "metadata": {},
   "outputs": [
    {
     "data": {
      "text/plain": [
       "0.7981220657276995"
      ]
     },
     "execution_count": 432,
     "metadata": {},
     "output_type": "execute_result"
    }
   ],
   "source": [
    "f1_score(y_test, gs_svc.predict(X_test['content']))"
   ]
  },
  {
   "cell_type": "code",
   "execution_count": null,
   "metadata": {},
   "outputs": [
    {
     "data": {
      "text/plain": [
       "Text(0, 0.5, 'Actual Iron man 1')"
      ]
     },
     "execution_count": 436,
     "metadata": {},
     "output_type": "execute_result"
    },
    {
     "data": {
      "image/png": "[encoded data removed]",
      "text/plain": [
       "<Figure size 640x480 with 2 Axes>"
      ]
     },
     "metadata": {},
     "output_type": "display_data"
    }
   ],
   "source": [
    "# confusion matrix display\n",
    "gs_svc_pred = gs_svc.predict(X_test['content'])\n",
    "cm = confusion_matrix(y_test, gs_svc_pred)\n",
    "ConfusionMatrixDisplay(cm).plot()\n",
    "plt.title('SVC with Count Vectorizer')\n",
    "plt.xlabel('Predicted Iron Man 1')\n",
    "plt.ylabel('Actual Iron man 1')"
   ]
  },
  {
   "cell_type": "code",
   "execution_count": null,
   "metadata": {},
   "outputs": [],
   "source": [
    "# collect score to dataframe\n",
    "results_df = pd.concat([results_df, pd.DataFrame({\n",
    "    'model': ['SVC tfidfVectorizer'],\n",
    "    'tokenizer': ['tfidfVectorizer'],\n",
    "    'best_params': [gs_svc_tf.best_params_],\n",
    "    'train_score': [gs_svc_tf.score(X_train['content'], y_train)],\n",
    "    'test_score': [gs_svc_tf.score(X_test['content'], y_test)],\n",
    "    'f1_score': [f1_score(y_test, gs_svc_tf.predict(X_test['content']))]\n",
    "})], ignore_index=True)"
   ]
  },
  {
   "cell_type": "code",
   "execution_count": null,
   "metadata": {},
   "outputs": [
    {
     "data": {
      "text/html": [
       "<div>\n",
       "<style scoped>\n",
       "    .dataframe tbody tr th:only-of-type {\n",
       "        vertical-align: middle;\n",
       "    }\n",
       "\n",
       "    .dataframe tbody tr th {\n",
       "        vertical-align: top;\n",
       "    }\n",
       "\n",
       "    .dataframe thead th {\n",
       "        text-align: right;\n",
       "    }\n",
       "</style>\n",
       "<table border=\"1\" class=\"dataframe\">\n",
       "  <thead>\n",
       "    <tr style=\"text-align: right;\">\n",
       "      <th></th>\n",
       "      <th>model</th>\n",
       "      <th>tokenizer</th>\n",
       "      <th>best_params</th>\n",
       "      <th>train_score</th>\n",
       "      <th>test_score</th>\n",
       "      <th>f1_score</th>\n",
       "    </tr>\n",
       "  </thead>\n",
       "  <tbody>\n",
       "    <tr>\n",
       "      <th>3</th>\n",
       "      <td>Multinomial Naive Bayes tfidfVectorizer</td>\n",
       "      <td>tfidfVectorizer</td>\n",
       "      <td>{'mnb__alpha': 2, 'tfidf__max_df': 0.9, 'tfidf...</td>\n",
       "      <td>0.959154</td>\n",
       "      <td>0.873085</td>\n",
       "      <td>0.884000</td>\n",
       "    </tr>\n",
       "    <tr>\n",
       "      <th>1</th>\n",
       "      <td>Multinomial Naive Bayes Count Vectorizer</td>\n",
       "      <td>Count Vectorizer</td>\n",
       "      <td>{'cvec__max_df': 0.9, 'cvec__max_features': 30...</td>\n",
       "      <td>0.912473</td>\n",
       "      <td>0.870897</td>\n",
       "      <td>0.874735</td>\n",
       "    </tr>\n",
       "    <tr>\n",
       "      <th>4</th>\n",
       "      <td>SVC tfidfVectorizer</td>\n",
       "      <td>tfidfVectorizer</td>\n",
       "      <td>{'svc__C': 1, 'svc__kernel': 'rbf', 'tfidf__ma...</td>\n",
       "      <td>0.988330</td>\n",
       "      <td>0.851204</td>\n",
       "      <td>0.856540</td>\n",
       "    </tr>\n",
       "    <tr>\n",
       "      <th>2</th>\n",
       "      <td>Random Forest tfidfVectorizer</td>\n",
       "      <td>tfidfVectorizer</td>\n",
       "      <td>{'rf__max_depth': None, 'rf__min_samples_split...</td>\n",
       "      <td>0.991247</td>\n",
       "      <td>0.842451</td>\n",
       "      <td>0.853061</td>\n",
       "    </tr>\n",
       "    <tr>\n",
       "      <th>0</th>\n",
       "      <td>Random Forest Count Vectorizer</td>\n",
       "      <td>Count Vectorizer</td>\n",
       "      <td>{'cvec__max_df': 0.95, 'cvec__max_features': 3...</td>\n",
       "      <td>0.989059</td>\n",
       "      <td>0.840263</td>\n",
       "      <td>0.847599</td>\n",
       "    </tr>\n",
       "  </tbody>\n",
       "</table>\n",
       "</div>"
      ],
      "text/plain": [
       "                                      model         tokenizer  \\\n",
       "3   Multinomial Naive Bayes tfidfVectorizer   tfidfVectorizer   \n",
       "1  Multinomial Naive Bayes Count Vectorizer  Count Vectorizer   \n",
       "4                       SVC tfidfVectorizer   tfidfVectorizer   \n",
       "2             Random Forest tfidfVectorizer   tfidfVectorizer   \n",
       "0            Random Forest Count Vectorizer  Count Vectorizer   \n",
       "\n",
       "                                         best_params  train_score  test_score  \\\n",
       "3  {'mnb__alpha': 2, 'tfidf__max_df': 0.9, 'tfidf...     0.959154    0.873085   \n",
       "1  {'cvec__max_df': 0.9, 'cvec__max_features': 30...     0.912473    0.870897   \n",
       "4  {'svc__C': 1, 'svc__kernel': 'rbf', 'tfidf__ma...     0.988330    0.851204   \n",
       "2  {'rf__max_depth': None, 'rf__min_samples_split...     0.991247    0.842451   \n",
       "0  {'cvec__max_df': 0.95, 'cvec__max_features': 3...     0.989059    0.840263   \n",
       "\n",
       "   f1_score  \n",
       "3  0.884000  \n",
       "1  0.874735  \n",
       "4  0.856540  \n",
       "2  0.853061  \n",
       "0  0.847599  "
      ]
     },
     "execution_count": 425,
     "metadata": {},
     "output_type": "execute_result"
    }
   ],
   "source": [
    "# sort by value f1_score\n",
    "results_df.sort_values(by='f1_score', ascending=False)"
   ]
  },
  {
   "cell_type": "markdown",
   "metadata": {},
   "source": [
    "### **Evaluation and Conceptual Understanding**\n",
    "\n",
    "`Multinomial` Classifier make better score than `Random forest`\n",
    "\n",
    "\n",
    "`TfidVectorizer` tokenize better than `Count Vectorizer`\n",
    "\n",
    "\n",
    "in this case\n",
    "\n",
    "as of this subreddit classifier is no significant matter between `false positive` or `false negative `\n",
    "so I decide to use `f1 score` that balance of all these 2 score "
   ]
  },
  {
   "cell_type": "code",
   "execution_count": null,
   "metadata": {},
   "outputs": [
    {
     "data": {
      "text/html": [
       "<div>\n",
       "<style scoped>\n",
       "    .dataframe tbody tr th:only-of-type {\n",
       "        vertical-align: middle;\n",
       "    }\n",
       "\n",
       "    .dataframe tbody tr th {\n",
       "        vertical-align: top;\n",
       "    }\n",
       "\n",
       "    .dataframe thead th {\n",
       "        text-align: right;\n",
       "    }\n",
       "</style>\n",
       "<table border=\"1\" class=\"dataframe\">\n",
       "  <thead>\n",
       "    <tr style=\"text-align: right;\">\n",
       "      <th></th>\n",
       "      <th>content</th>\n",
       "      <th>actual</th>\n",
       "      <th>predict</th>\n",
       "    </tr>\n",
       "  </thead>\n",
       "  <tbody>\n",
       "    <tr>\n",
       "      <th>214</th>\n",
       "      <td>The Ultimate Movie Collection 6 Pack | McFarl...</td>\n",
       "      <td>0</td>\n",
       "      <td>1</td>\n",
       "    </tr>\n",
       "    <tr>\n",
       "      <th>1815</th>\n",
       "      <td>Is there an  2099Just like the title because I...</td>\n",
       "      <td>1</td>\n",
       "      <td>1</td>\n",
       "    </tr>\n",
       "    <tr>\n",
       "      <th>1027</th>\n",
       "      <td>X is for…</td>\n",
       "      <td>1</td>\n",
       "      <td>1</td>\n",
       "    </tr>\n",
       "    <tr>\n",
       "      <th>1338</th>\n",
       "      <td>Which is a better AI? Jarvis or FridayWas it e...</td>\n",
       "      <td>1</td>\n",
       "      <td>1</td>\n",
       "    </tr>\n",
       "    <tr>\n",
       "      <th>454</th>\n",
       "      <td>Who’s better at getting the ladies?When it com...</td>\n",
       "      <td>0</td>\n",
       "      <td>0</td>\n",
       "    </tr>\n",
       "  </tbody>\n",
       "</table>\n",
       "</div>"
      ],
      "text/plain": [
       "                                                content  actual  predict\n",
       "214    The Ultimate Movie Collection 6 Pack | McFarl...       0        1\n",
       "1815  Is there an  2099Just like the title because I...       1        1\n",
       "1027                                          X is for…       1        1\n",
       "1338  Which is a better AI? Jarvis or FridayWas it e...       1        1\n",
       "454   Who’s better at getting the ladies?When it com...       0        0"
      ]
     },
     "execution_count": 364,
     "metadata": {},
     "output_type": "execute_result"
    }
   ],
   "source": [
    "# NLP Bonus track\n",
    "# analysis in each text that predict wrong\n",
    "\n",
    "# y_test\n",
    "best_pred = gs_rf_tf.predict(X_test['content'])\n",
    "\n",
    "# create dataframe for wrong prediction\n",
    "wrong_pred_df = pd.DataFrame({\n",
    "    'content': X_test['content'],\n",
    "    'actual': y_test,\n",
    "    'predict': best_pred\n",
    "})\n",
    "wrong_pred_df.head()"
   ]
  },
  {
   "cell_type": "code",
   "execution_count": null,
   "metadata": {},
   "outputs": [
    {
     "name": "stdout",
     "output_type": "stream",
     "text": [
      " The Ultimate Movie Collection 6 Pack | McFarlane Toys | Review\n",
      "Custom 1/12 \n",
      "Savage Chickens by Doug Savage for October 25, 2023 | GoComics.com\n",
      "The Crane GangJust a picture of my Scarecrow action figure collection. Hoping it will grow, paying tribute to the best  villain. :P\n",
      "There are dozens of us!\n",
      " got Dini into superheroes!\n",
      "Facts, no doubt about it\n",
      " perler\n",
      " pic I did of the Robert Pattinson  🦇✨👩‍🎨!!!!! Mmmm mmm 🦇\n",
      "Delete 1 from each row and why (Horizontal)\n",
      "Don’t turn him into a mcu character but he’s more than just an emo ninja\n",
      "These 2 have done a lot of damage to damian's reputation\n",
      "Which classic version of  you guys pick for?\n",
      "Echo and Query by Gabriel Larragán\n",
      "Rate my Batmen Drawings\n",
      "Your ideas for The  2 ready…set…. go!\n",
      "Why so serious?\n",
      "DC Preview:  #139\n",
      "This is the funniest thing I've seen today\n",
      " &amp; Identity: Crash Course Philosophy #18\n",
      "Battinson in arkhamverse\n",
      "Where is this panel from?\n",
      " cowlI’m making a “homemade” suit for  in the style of Tom holland’s Spider-Man homemade suit, is there any recommendations for a cowl? Or a way I could make one? I want it to look somewhat homemade?\n",
      " GPU Holder\n",
      "If Tom Hardy played Walter White\n",
      "How did humanity figure this level out ?I literally had to watch a YouTube video to figure this level out btw what's the yellow thing on the crate's?\n",
      "TikTok ·  gets sturdy\n",
      "New Place, New Collection Setup.\n",
      "Made my interpretation of The Iceberg Lounge Logo\n",
      "I wanted to make a phone wallpaper\n",
      "Which  villain has the saddest origin story according to you?\n",
      "Does anyone know where this  gif originated from?My best guess is an episode of Super Friends but I am unable to find the original clip anywhere\n",
      "The  \n"
     ]
    }
   ],
   "source": [
    "# loop through each wrong prediction and print predict to be Ironman but Batman\n",
    "for i in wrong_pred_df[wrong_pred_df['actual'] != wrong_pred_df['predict']].index:\n",
    "  if wrong_pred_df['predict'][i] == 1:\n",
    "    print(wrong_pred_df['content'][i])"
   ]
  },
  {
   "cell_type": "markdown",
   "metadata": {},
   "source": [
    "found that some text is Quote from Batman series e.g. `Why so serious?`\n",
    "\n",
    "and some case is actor's name in each Series but make a `Meme` eg. `If Tom Hardy played Walter White`\n",
    "\n",
    "and some noise from image meme with caption with short words without clues eg. ` GPU Holder`\n",
    "\n",
    "if we can cleanup image still can improve results\n"
   ]
  },
  {
   "cell_type": "code",
   "execution_count": null,
   "metadata": {},
   "outputs": [
    {
     "name": "stdout",
     "output_type": "stream",
     "text": [
      "(1012, 116)\n"
     ]
    },
    {
     "data": {
      "text/plain": [
       "is_gallery\n",
       "True    218\n",
       "Name: count, dtype: int64"
      ]
     },
     "execution_count": 394,
     "metadata": {},
     "output_type": "execute_result"
    }
   ],
   "source": [
    "# Dig deeper into each text\n",
    "batman = pd.read_csv('../data/batman.csv')\n",
    "print(batman.shape)\n",
    "batman.head()\n",
    "batman.is_gallery.value_counts()"
   ]
  },
  {
   "cell_type": "code",
   "execution_count": null,
   "metadata": {},
   "outputs": [
    {
     "data": {
      "text/html": [
       "<div>\n",
       "<style scoped>\n",
       "    .dataframe tbody tr th:only-of-type {\n",
       "        vertical-align: middle;\n",
       "    }\n",
       "\n",
       "    .dataframe tbody tr th {\n",
       "        vertical-align: top;\n",
       "    }\n",
       "\n",
       "    .dataframe thead th {\n",
       "        text-align: right;\n",
       "    }\n",
       "</style>\n",
       "<table border=\"1\" class=\"dataframe\">\n",
       "  <thead>\n",
       "    <tr style=\"text-align: right;\">\n",
       "      <th></th>\n",
       "      <th>approved_at_utc</th>\n",
       "      <th>subreddit</th>\n",
       "      <th>selftext</th>\n",
       "      <th>author_fullname</th>\n",
       "      <th>saved</th>\n",
       "      <th>mod_reason_title</th>\n",
       "      <th>gilded</th>\n",
       "      <th>clicked</th>\n",
       "      <th>title</th>\n",
       "      <th>link_flair_richtext</th>\n",
       "      <th>...</th>\n",
       "      <th>post_hint</th>\n",
       "      <th>url_overridden_by_dest</th>\n",
       "      <th>preview</th>\n",
       "      <th>link_flair_template_id</th>\n",
       "      <th>is_gallery</th>\n",
       "      <th>media_metadata</th>\n",
       "      <th>gallery_data</th>\n",
       "      <th>crosspost_parent_list</th>\n",
       "      <th>crosspost_parent</th>\n",
       "      <th>author_cakeday</th>\n",
       "    </tr>\n",
       "  </thead>\n",
       "  <tbody>\n",
       "    <tr>\n",
       "      <th>2</th>\n",
       "      <td>NaN</td>\n",
       "      <td>batman</td>\n",
       "      <td>NaN</td>\n",
       "      <td>t2_hlci6d4q</td>\n",
       "      <td>False</td>\n",
       "      <td>NaN</td>\n",
       "      <td>0</td>\n",
       "      <td>False</td>\n",
       "      <td>Wtf did I just read</td>\n",
       "      <td>[{'e': 'text', 't': 'GENERAL DISCUSSION'}]</td>\n",
       "      <td>...</td>\n",
       "      <td>NaN</td>\n",
       "      <td>https://www.reddit.com/gallery/17r0ifp</td>\n",
       "      <td>NaN</td>\n",
       "      <td>9920b510-f578-11ed-a075-fad5cce75268</td>\n",
       "      <td>True</td>\n",
       "      <td>{'jnx31dxgx7zb1': {'status': 'valid', 'e': 'Im...</td>\n",
       "      <td>{'items': [{'media_id': 'vd2znrwgx7zb1', 'id':...</td>\n",
       "      <td>NaN</td>\n",
       "      <td>NaN</td>\n",
       "      <td>NaN</td>\n",
       "    </tr>\n",
       "    <tr>\n",
       "      <th>3</th>\n",
       "      <td>NaN</td>\n",
       "      <td>batman</td>\n",
       "      <td>Hi guys! Im new to the community,my name is Da...</td>\n",
       "      <td>t2_7k8r0ioo</td>\n",
       "      <td>False</td>\n",
       "      <td>NaN</td>\n",
       "      <td>0</td>\n",
       "      <td>False</td>\n",
       "      <td>“STAY” A Jim Gordon Short Story</td>\n",
       "      <td>[{'e': 'text', 't': 'ARTWORK'}]</td>\n",
       "      <td>...</td>\n",
       "      <td>NaN</td>\n",
       "      <td>https://www.reddit.com/gallery/17qt2ht</td>\n",
       "      <td>NaN</td>\n",
       "      <td>5eb096ba-e07f-11ed-a1af-7a495b5b3295</td>\n",
       "      <td>True</td>\n",
       "      <td>{'vck7couya6zb1': {'status': 'valid', 'e': 'Im...</td>\n",
       "      <td>{'items': [{'media_id': 'e4thmouya6zb1', 'id':...</td>\n",
       "      <td>NaN</td>\n",
       "      <td>NaN</td>\n",
       "      <td>NaN</td>\n",
       "    </tr>\n",
       "    <tr>\n",
       "      <th>8</th>\n",
       "      <td>NaN</td>\n",
       "      <td>batman</td>\n",
       "      <td>NaN</td>\n",
       "      <td>t2_uzli30t9</td>\n",
       "      <td>False</td>\n",
       "      <td>NaN</td>\n",
       "      <td>0</td>\n",
       "      <td>False</td>\n",
       "      <td>What sort of design do you prefer with Killer ...</td>\n",
       "      <td>[{'e': 'text', 't': 'GENERAL DISCUSSION'}]</td>\n",
       "      <td>...</td>\n",
       "      <td>NaN</td>\n",
       "      <td>https://www.reddit.com/gallery/17r43nh</td>\n",
       "      <td>NaN</td>\n",
       "      <td>9920b510-f578-11ed-a075-fad5cce75268</td>\n",
       "      <td>True</td>\n",
       "      <td>{'ywoq3vtys8zb1': {'status': 'valid', 'e': 'Im...</td>\n",
       "      <td>{'items': [{'caption': 'skin desease', 'media_...</td>\n",
       "      <td>NaN</td>\n",
       "      <td>NaN</td>\n",
       "      <td>NaN</td>\n",
       "    </tr>\n",
       "    <tr>\n",
       "      <th>9</th>\n",
       "      <td>NaN</td>\n",
       "      <td>batman</td>\n",
       "      <td>NaN</td>\n",
       "      <td>t2_a5wdpdb1</td>\n",
       "      <td>False</td>\n",
       "      <td>NaN</td>\n",
       "      <td>0</td>\n",
       "      <td>False</td>\n",
       "      <td>My First Batman cosplay ft.Red Hood</td>\n",
       "      <td>[{'e': 'text', 't': 'COSPLAY'}]</td>\n",
       "      <td>...</td>\n",
       "      <td>NaN</td>\n",
       "      <td>https://www.reddit.com/gallery/17r1h5o</td>\n",
       "      <td>NaN</td>\n",
       "      <td>561db270-f575-11ed-a364-ee8907fd14a8</td>\n",
       "      <td>True</td>\n",
       "      <td>{'446l3yhu58zb1': {'status': 'valid', 'e': 'Im...</td>\n",
       "      <td>{'items': [{'media_id': 'ncaqhljp58zb1', 'id':...</td>\n",
       "      <td>NaN</td>\n",
       "      <td>NaN</td>\n",
       "      <td>NaN</td>\n",
       "    </tr>\n",
       "    <tr>\n",
       "      <th>14</th>\n",
       "      <td>NaN</td>\n",
       "      <td>batman</td>\n",
       "      <td>Batman Three Joker Cosplay</td>\n",
       "      <td>t2_mfqllb2h</td>\n",
       "      <td>False</td>\n",
       "      <td>NaN</td>\n",
       "      <td>0</td>\n",
       "      <td>False</td>\n",
       "      <td>Batman Three Jokers</td>\n",
       "      <td>[{'e': 'text', 't': 'COSPLAY'}]</td>\n",
       "      <td>...</td>\n",
       "      <td>NaN</td>\n",
       "      <td>https://www.reddit.com/gallery/17qxl5c</td>\n",
       "      <td>NaN</td>\n",
       "      <td>561db270-f575-11ed-a364-ee8907fd14a8</td>\n",
       "      <td>True</td>\n",
       "      <td>{'1szwhhpz97zb1': {'status': 'valid', 'e': 'Im...</td>\n",
       "      <td>{'items': [{'media_id': 'yiqp5ipz97zb1', 'id':...</td>\n",
       "      <td>NaN</td>\n",
       "      <td>NaN</td>\n",
       "      <td>NaN</td>\n",
       "    </tr>\n",
       "  </tbody>\n",
       "</table>\n",
       "<p>5 rows × 116 columns</p>\n",
       "</div>"
      ],
      "text/plain": [
       "    approved_at_utc subreddit  \\\n",
       "2               NaN    batman   \n",
       "3               NaN    batman   \n",
       "8               NaN    batman   \n",
       "9               NaN    batman   \n",
       "14              NaN    batman   \n",
       "\n",
       "                                             selftext author_fullname  saved  \\\n",
       "2                                                 NaN     t2_hlci6d4q  False   \n",
       "3   Hi guys! Im new to the community,my name is Da...     t2_7k8r0ioo  False   \n",
       "8                                                 NaN     t2_uzli30t9  False   \n",
       "9                                                 NaN     t2_a5wdpdb1  False   \n",
       "14                         Batman Three Joker Cosplay     t2_mfqllb2h  False   \n",
       "\n",
       "    mod_reason_title  gilded  clicked  \\\n",
       "2                NaN       0    False   \n",
       "3                NaN       0    False   \n",
       "8                NaN       0    False   \n",
       "9                NaN       0    False   \n",
       "14               NaN       0    False   \n",
       "\n",
       "                                                title  \\\n",
       "2                                 Wtf did I just read   \n",
       "3                     “STAY” A Jim Gordon Short Story   \n",
       "8   What sort of design do you prefer with Killer ...   \n",
       "9                 My First Batman cosplay ft.Red Hood   \n",
       "14                                Batman Three Jokers   \n",
       "\n",
       "                           link_flair_richtext  ... post_hint  \\\n",
       "2   [{'e': 'text', 't': 'GENERAL DISCUSSION'}]  ...       NaN   \n",
       "3              [{'e': 'text', 't': 'ARTWORK'}]  ...       NaN   \n",
       "8   [{'e': 'text', 't': 'GENERAL DISCUSSION'}]  ...       NaN   \n",
       "9              [{'e': 'text', 't': 'COSPLAY'}]  ...       NaN   \n",
       "14             [{'e': 'text', 't': 'COSPLAY'}]  ...       NaN   \n",
       "\n",
       "                    url_overridden_by_dest  preview  \\\n",
       "2   https://www.reddit.com/gallery/17r0ifp      NaN   \n",
       "3   https://www.reddit.com/gallery/17qt2ht      NaN   \n",
       "8   https://www.reddit.com/gallery/17r43nh      NaN   \n",
       "9   https://www.reddit.com/gallery/17r1h5o      NaN   \n",
       "14  https://www.reddit.com/gallery/17qxl5c      NaN   \n",
       "\n",
       "                  link_flair_template_id  is_gallery  \\\n",
       "2   9920b510-f578-11ed-a075-fad5cce75268        True   \n",
       "3   5eb096ba-e07f-11ed-a1af-7a495b5b3295        True   \n",
       "8   9920b510-f578-11ed-a075-fad5cce75268        True   \n",
       "9   561db270-f575-11ed-a364-ee8907fd14a8        True   \n",
       "14  561db270-f575-11ed-a364-ee8907fd14a8        True   \n",
       "\n",
       "                                       media_metadata  \\\n",
       "2   {'jnx31dxgx7zb1': {'status': 'valid', 'e': 'Im...   \n",
       "3   {'vck7couya6zb1': {'status': 'valid', 'e': 'Im...   \n",
       "8   {'ywoq3vtys8zb1': {'status': 'valid', 'e': 'Im...   \n",
       "9   {'446l3yhu58zb1': {'status': 'valid', 'e': 'Im...   \n",
       "14  {'1szwhhpz97zb1': {'status': 'valid', 'e': 'Im...   \n",
       "\n",
       "                                         gallery_data  crosspost_parent_list  \\\n",
       "2   {'items': [{'media_id': 'vd2znrwgx7zb1', 'id':...                    NaN   \n",
       "3   {'items': [{'media_id': 'e4thmouya6zb1', 'id':...                    NaN   \n",
       "8   {'items': [{'caption': 'skin desease', 'media_...                    NaN   \n",
       "9   {'items': [{'media_id': 'ncaqhljp58zb1', 'id':...                    NaN   \n",
       "14  {'items': [{'media_id': 'yiqp5ipz97zb1', 'id':...                    NaN   \n",
       "\n",
       "   crosspost_parent  author_cakeday  \n",
       "2               NaN             NaN  \n",
       "3               NaN             NaN  \n",
       "8               NaN             NaN  \n",
       "9               NaN             NaN  \n",
       "14              NaN             NaN  \n",
       "\n",
       "[5 rows x 116 columns]"
      ]
     },
     "execution_count": 395,
     "metadata": {},
     "output_type": "execute_result"
    }
   ],
   "source": [
    "batman[batman['is_gallery'] == True].head()"
   ]
  },
  {
   "cell_type": "code",
   "execution_count": null,
   "metadata": {},
   "outputs": [
    {
     "name": "stdout",
     "output_type": "stream",
     "text": [
      "So I noticed strange lyrics in the song  by Black SabbathHmmmmmmmmmmmmmmmmmmmmmmmmmmmmmmmmmmmm sounds a bit familiar right?\n",
      " Cosplay! Helmet fitting\n",
      " EditHey guys I made an edit of  a while ago and was wondering if y’all could tell me what y’all think?\n",
      " (They Live) Fan Art\n",
      "If you were going to make an  horror movie/comic, what would you focus on specifically? (The Darkhold:  # 1)\n",
      "One of the best \"I have to break my no-kill rule and kill him otherwise he won't stop\" moment in all of comics. ( Extremis 6)\n",
      "So was this show cancelled or did it just end? Why didn’t it get a season 3?\n",
      "POV of 90s boys becoming men through a TV show intro\n",
      "is it bad that this is the only mcu movie i can actually watch without getting bored?yeah i really cant watch any other mcu movies without getting bored, this one just feels so different\n",
      "Meeting Bob LaytonLegendary comics creator, Bob Layton is in Korea now. And there is a event for comics fan called 'seoul comics week'. So I met him a few hours ago and got some autographs on my collections. He's so kind and funny person.\n",
      "Display of  armorsThese displays were in Hong Kong airport a few years ago. I spent way too long just looking at them.\n",
      "A quick questionI heard/seen a couple of people talking about a new game in the works but I haven't neen any official announcement anywhere so I am looking here to see if there is something worth looking forward to soon or if people are mistaken with like the quest port if  or something. I appreciate any information you can offer\n",
      "What storylines would you like to see adapted in a tv series?If there was a new  tv series, what arcs, series or runs should be adapted in your opinion?\n",
      "Who is your favorite super hero and why is he ?I like him because he has no powers and still Kicks ass\n",
      " Unleashed: My First Suit-Up Adventure!\n",
      " Bust repair work - enhance with BLE Sound/Light effect\n",
      "Who would win?These pals (1) or 2 psychopathic robots?? (2)\n",
      "The self hatred in this book is something else [: Season 1 (2013)]\n",
      "Rank the 'Main' suits of the 21st century from least favorite to favorite\n",
      " - Still Standing by Gustavo Castillejo\n",
      " Blender animation that I made..\n",
      " drawing\n",
      "Doom getting rocked is so satisfying to watch\n",
      "RhodeyWhy did they recast rhodey the first rhodey and RDJ had alot more chemistry and was better\n",
      "'s \"Xenti'NIL\" solution against Stark Sentinels/Nimrod FAN ART\n",
      "Piece of garbage\n",
      "Video 8 of my  Autonomous Robot build ;)Having fun with this - just added two arms and chest plates 😉\n",
      "help on finding the comic issue(s)?Dad drew this when he was a kid. Before 1988 if that helps at all. According to him, he copied from certain comic book covers, but I’ve been unable to find them. Any help?\n",
      "Any good  origin comics?I’ve been searching to see if there any good comics that cover his origin. Any recommendations would be helpful. Thanks in advance.\n",
      " and Psylocke might be the most random team up of all time, and It weirdly worked [Contest of Champions II #3]\n",
      "Is the Knauf \"director of shield\" run a good place to start?I have the first volume by bendis which a really enjoyed and have been meaning to get into modern , so I wanted to go to an earlier part, was just wondering If I can read the Knauf run with decent knowledge of  or do I have to read the fraction run?\n",
      "how would this one play out? |Fan-poster made by me @felipecmx\n",
      "K is for…\n",
      "Classic  by Cinthirathart\n",
      "What is an  villain you wish had been used in an  movie (and what would be the plot)?\n",
      " armorSo I’m relatively new to the subreddit and a lot of my comments have been more about Emma Frost than you know…. So let’s rectify that. Guaranteed this isn’t something that hasn’t been posted quite a few times but what’s everyone’s favorite  suit? \n",
      "\n",
      "For me, for a number of reasons it’s the MkVIll.  Solid design, classic feeling with a sense of power to it, a bulk, especially in the Dragon Seed Saga.\n",
      "What your toughs on riri Williams nowdays?She a better character now or still suck?\n",
      "Thanos #1 (feat )https://youtu.be/9FEDbhepU9I?si=0nO-8Ku5lth35sTO\n",
      "\n",
      "Review at (1:24) in link. What did you think?\n",
      "What do you think of  being treated as some sort of ideal? [: Legacy #5]\n"
     ]
    }
   ],
   "source": [
    "# loop through each wrong prediction and print predict to be not Ironman but Ironman\n",
    "for i in wrong_pred_df[wrong_pred_df['actual'] != wrong_pred_df['predict']].index:\n",
    "  if wrong_pred_df['predict'][i] == 0:\n",
    "    print(wrong_pred_df['content'][i])"
   ]
  },
  {
   "cell_type": "markdown",
   "metadata": {},
   "source": [
    "\n",
    "found that some text is characters from Ironman series e.g. `Thanos #1 (feat )https://youtu.be/9FEDbhepU9I?si=0nO-8Ku5lth35sTO`\n",
    "\n",
    "and some noise from image meme with caption with short words without clues eg. ` drawing`\n",
    "\n",
    "if we can cleanup image still can improve results\n"
   ]
  },
  {
   "cell_type": "code",
   "execution_count": null,
   "metadata": {},
   "outputs": [
    {
     "name": "stdout",
     "output_type": "stream",
     "text": [
      "(1019, 115)\n"
     ]
    },
    {
     "data": {
      "text/plain": [
       "is_gallery\n",
       "True    270\n",
       "Name: count, dtype: int64"
      ]
     },
     "execution_count": 396,
     "metadata": {},
     "output_type": "execute_result"
    }
   ],
   "source": [
    "# Dig deeper into each text\n",
    "batman = pd.read_csv('../data/ironman.csv')\n",
    "print(batman.shape)\n",
    "batman.head()\n",
    "batman.is_gallery.value_counts()"
   ]
  },
  {
   "cell_type": "code",
   "execution_count": null,
   "metadata": {},
   "outputs": [
    {
     "data": {
      "text/html": [
       "<div>\n",
       "<style scoped>\n",
       "    .dataframe tbody tr th:only-of-type {\n",
       "        vertical-align: middle;\n",
       "    }\n",
       "\n",
       "    .dataframe tbody tr th {\n",
       "        vertical-align: top;\n",
       "    }\n",
       "\n",
       "    .dataframe thead th {\n",
       "        text-align: right;\n",
       "    }\n",
       "</style>\n",
       "<table border=\"1\" class=\"dataframe\">\n",
       "  <thead>\n",
       "    <tr style=\"text-align: right;\">\n",
       "      <th></th>\n",
       "      <th>model</th>\n",
       "      <th>tokenizer</th>\n",
       "      <th>best_params</th>\n",
       "      <th>train_score</th>\n",
       "      <th>test_score</th>\n",
       "      <th>f1_score</th>\n",
       "    </tr>\n",
       "  </thead>\n",
       "  <tbody>\n",
       "    <tr>\n",
       "      <th>3</th>\n",
       "      <td>Multinomial Naive Bayes</td>\n",
       "      <td>tfidfVectorizer</td>\n",
       "      <td>{'mnb__alpha': 2, 'tfidf__max_df': 0.9, 'tfidf...</td>\n",
       "      <td>0.959154</td>\n",
       "      <td>0.873085</td>\n",
       "      <td>0.884000</td>\n",
       "    </tr>\n",
       "    <tr>\n",
       "      <th>1</th>\n",
       "      <td>Multinomial Naive Bayes</td>\n",
       "      <td>Count Vectorizer</td>\n",
       "      <td>{'cvec__max_df': 0.9, 'cvec__max_features': 30...</td>\n",
       "      <td>0.912473</td>\n",
       "      <td>0.870897</td>\n",
       "      <td>0.874735</td>\n",
       "    </tr>\n",
       "    <tr>\n",
       "      <th>4</th>\n",
       "      <td>SVC</td>\n",
       "      <td>tfidfVectorizer</td>\n",
       "      <td>{'svc__C': 1, 'svc__kernel': 'rbf', 'tfidf__ma...</td>\n",
       "      <td>0.988330</td>\n",
       "      <td>0.851204</td>\n",
       "      <td>0.856540</td>\n",
       "    </tr>\n",
       "    <tr>\n",
       "      <th>2</th>\n",
       "      <td>Random Forest</td>\n",
       "      <td>tfidfVectorizer</td>\n",
       "      <td>{'rf__max_depth': None, 'rf__min_samples_split...</td>\n",
       "      <td>0.991247</td>\n",
       "      <td>0.842451</td>\n",
       "      <td>0.853061</td>\n",
       "    </tr>\n",
       "    <tr>\n",
       "      <th>0</th>\n",
       "      <td>Random Forest</td>\n",
       "      <td>Count Vectorizer</td>\n",
       "      <td>{'cvec__max_df': 0.95, 'cvec__max_features': 3...</td>\n",
       "      <td>0.989059</td>\n",
       "      <td>0.840263</td>\n",
       "      <td>0.847599</td>\n",
       "    </tr>\n",
       "  </tbody>\n",
       "</table>\n",
       "</div>"
      ],
      "text/plain": [
       "                     model         tokenizer  \\\n",
       "3  Multinomial Naive Bayes   tfidfVectorizer   \n",
       "1  Multinomial Naive Bayes  Count Vectorizer   \n",
       "4                      SVC   tfidfVectorizer   \n",
       "2            Random Forest   tfidfVectorizer   \n",
       "0            Random Forest  Count Vectorizer   \n",
       "\n",
       "                                         best_params  train_score  test_score  \\\n",
       "3  {'mnb__alpha': 2, 'tfidf__max_df': 0.9, 'tfidf...     0.959154    0.873085   \n",
       "1  {'cvec__max_df': 0.9, 'cvec__max_features': 30...     0.912473    0.870897   \n",
       "4  {'svc__C': 1, 'svc__kernel': 'rbf', 'tfidf__ma...     0.988330    0.851204   \n",
       "2  {'rf__max_depth': None, 'rf__min_samples_split...     0.991247    0.842451   \n",
       "0  {'cvec__max_df': 0.95, 'cvec__max_features': 3...     0.989059    0.840263   \n",
       "\n",
       "   f1_score  \n",
       "3  0.884000  \n",
       "1  0.874735  \n",
       "4  0.856540  \n",
       "2  0.853061  \n",
       "0  0.847599  "
      ]
     },
     "execution_count": 404,
     "metadata": {},
     "output_type": "execute_result"
    }
   ],
   "source": [
    "# sort by value f1_score\n",
    "results_df.sort_values(by='f1_score', ascending=False)"
   ]
  },
  {
   "cell_type": "code",
   "execution_count": null,
   "metadata": {},
   "outputs": [
    {
     "data": {
      "text/plain": [
       "Text(0.5, 1.0, 'Model Score')"
      ]
     },
     "execution_count": 438,
     "metadata": {},
     "output_type": "execute_result"
    },
    {
     "data": {
      "image/png": "[encoded data removed]",
      "text/plain": [
       "<Figure size 1900x900 with 1 Axes>"
      ]
     },
     "metadata": {},
     "output_type": "display_data"
    }
   ],
   "source": [
    "# plot all score and sorting in hbar\n",
    "results_df.sort_values(by='f1_score', ascending=True).plot(x='model', y=['train_score', 'test_score', 'f1_score'], kind='barh', figsize=(19,9))\n",
    "plt.title('Model Score')"
   ]
  },
  {
   "cell_type": "markdown",
   "metadata": {},
   "source": [
    "### Conclusion\n",
    "After fine tune model parameters\n",
    "found that `tfidfVectorizer`  has better performance to tokenize than `Count Vectorizer`\n",
    "and in this case `Multinomial Naive Bayes` has better `f1_score` that `Random Forrest`\n",
    "\n",
    "Also in this modeling we didn't mind that much about `false positice` or `false negative` because false predicted didn't cause serious trouble for seperate subreddit post\n",
    "\n",
    "so i focus on `f1_score` for balance performance \n",
    "\n",
    "and the result indicate that `Multinomial Naive Bayes` with tokenizer `tfidfVectorizer`\n",
    "with \n",
    "```\n",
    "{'mnb__alpha': 2, 'tfidf__max_df': 0.9, 'tfidf__max_features': 3000, 'tfidf__min_df': 2, 'tfidf__ngram_range': (1, 2)}\n",
    "```\n",
    "parameters make best performance \n",
    "\n",
    "\n",
    "Recommend for further improvement\n",
    "- remove images post if we focus on NLPs\n",
    "- add bags of focus words that included in IronMan universe eg. characters name, actors name, quote in specific topic we focus\n"
   ]
  }
 ],
 "metadata": {
  "kernelspec": {
   "display_name": "Python 3",
   "language": "python",
   "name": "python3"
  },
  "language_info": {
   "codemirror_mode": {
    "name": "ipython",
    "version": 3
   },
   "file_extension": ".py",
   "mimetype": "text/x-python",
   "name": "python",
   "nbconvert_exporter": "python",
   "pygments_lexer": "ipython3",
   "version": "3.11.5"
  }
 },
 "nbformat": 4,
 "nbformat_minor": 2
}
